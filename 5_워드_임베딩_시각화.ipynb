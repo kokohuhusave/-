{
  "nbformat": 4,
  "nbformat_minor": 0,
  "metadata": {
    "colab": {
      "provenance": []
    },
    "kernelspec": {
      "name": "python3",
      "display_name": "Python 3"
    },
    "language_info": {
      "name": "python"
    }
  },
  "cells": [
    {
      "cell_type": "code",
      "source": [
        "!sudo apt-get install -y fonts-nanum\n",
        "!sudo fc-cache -fv\n",
        "!rm ~/.cache/matplotlib -rf"
      ],
      "metadata": {
        "id": "v58cSNUSaTU4",
        "colab": {
          "base_uri": "https://localhost:8080/"
        },
        "outputId": "84c61009-ce22-4b84-e0bb-521f2f707fec"
      },
      "execution_count": null,
      "outputs": [
        {
          "output_type": "stream",
          "name": "stdout",
          "text": [
            "Reading package lists... Done\n",
            "Building dependency tree       \n",
            "Reading state information... Done\n",
            "The following NEW packages will be installed:\n",
            "  fonts-nanum\n",
            "0 upgraded, 1 newly installed, 0 to remove and 15 not upgraded.\n",
            "Need to get 9,599 kB of archives.\n",
            "After this operation, 29.6 MB of additional disk space will be used.\n",
            "Get:1 http://archive.ubuntu.com/ubuntu focal/universe amd64 fonts-nanum all 20180306-3 [9,599 kB]\n",
            "Fetched 9,599 kB in 1s (18.4 MB/s)\n",
            "debconf: unable to initialize frontend: Dialog\n",
            "debconf: (No usable dialog-like program is installed, so the dialog based frontend cannot be used. at /usr/share/perl5/Debconf/FrontEnd/Dialog.pm line 76, <> line 1.)\n",
            "debconf: falling back to frontend: Readline\n",
            "debconf: unable to initialize frontend: Readline\n",
            "debconf: (This frontend requires a controlling tty.)\n",
            "debconf: falling back to frontend: Teletype\n",
            "dpkg-preconfigure: unable to re-open stdin: \n",
            "Selecting previously unselected package fonts-nanum.\n",
            "(Reading database ... 123069 files and directories currently installed.)\n",
            "Preparing to unpack .../fonts-nanum_20180306-3_all.deb ...\n",
            "Unpacking fonts-nanum (20180306-3) ...\n",
            "Setting up fonts-nanum (20180306-3) ...\n",
            "Processing triggers for fontconfig (2.13.1-2ubuntu3) ...\n",
            "/usr/share/fonts: caching, new cache contents: 0 fonts, 1 dirs\n",
            "/usr/share/fonts/truetype: caching, new cache contents: 0 fonts, 3 dirs\n",
            "/usr/share/fonts/truetype/humor-sans: caching, new cache contents: 1 fonts, 0 dirs\n",
            "/usr/share/fonts/truetype/liberation: caching, new cache contents: 16 fonts, 0 dirs\n",
            "/usr/share/fonts/truetype/nanum: caching, new cache contents: 10 fonts, 0 dirs\n",
            "/usr/local/share/fonts: caching, new cache contents: 0 fonts, 0 dirs\n",
            "/root/.local/share/fonts: skipping, no such directory\n",
            "/root/.fonts: skipping, no such directory\n",
            "/usr/share/fonts/truetype: skipping, looped directory detected\n",
            "/usr/share/fonts/truetype/humor-sans: skipping, looped directory detected\n",
            "/usr/share/fonts/truetype/liberation: skipping, looped directory detected\n",
            "/usr/share/fonts/truetype/nanum: skipping, looped directory detected\n",
            "/var/cache/fontconfig: cleaning cache directory\n",
            "/root/.cache/fontconfig: not cleaning non-existent cache directory\n",
            "/root/.fontconfig: not cleaning non-existent cache directory\n",
            "fc-cache: succeeded\n"
          ]
        }
      ]
    },
    {
      "cell_type": "markdown",
      "source": [
        "# 1. 네이버 영화 리뷰 데이터셋\n",
        "* 총 200,000개 리뷰로 구성된 데이터로, 영화 리뷰를 긍/부정으로 분류하기 위해 만들어진 데이터셋\n",
        "* 리뷰가 긍정인 경우 1, 부정인 경우 0으로 표시한 레이블로 구성되어 있음\n"
      ],
      "metadata": {
        "id": "-qLXMEwyatQo"
      }
    },
    {
      "cell_type": "code",
      "source": [
        "import urllib.request\n",
        "import pandas as pd"
      ],
      "metadata": {
        "id": "C3EBB40wbkJk"
      },
      "execution_count": null,
      "outputs": []
    },
    {
      "cell_type": "code",
      "source": [
        "urllib.request.urlretrieve('https://raw.githubusercontent.com/e9t/nsmc/master/ratings_train.txt', filename='ratings_train.txt') # 파일다운로드\n",
        "urllib.request.urlretrieve('https://raw.githubusercontent.com/e9t/nsmc/master/ratings_test.txt', filename='ratings_test.txt')"
      ],
      "metadata": {
        "colab": {
          "base_uri": "https://localhost:8080/"
        },
        "id": "C7SmO0f3bptS",
        "outputId": "867baa1f-66dc-476a-9d99-a539e921c0a4"
      },
      "execution_count": null,
      "outputs": [
        {
          "output_type": "execute_result",
          "data": {
            "text/plain": [
              "('ratings_test.txt', <http.client.HTTPMessage at 0x7f172eff1390>)"
            ]
          },
          "metadata": {},
          "execution_count": 3
        }
      ]
    },
    {
      "cell_type": "code",
      "source": [
        "train_dataset = pd.read_table('ratings_train.txt')\n",
        "train_dataset"
      ],
      "metadata": {
        "colab": {
          "base_uri": "https://localhost:8080/",
          "height": 424
        },
        "id": "70s_ddZlcIQh",
        "outputId": "1a1d0ff8-130a-42e4-d107-13e0fe699bc4"
      },
      "execution_count": null,
      "outputs": [
        {
          "output_type": "execute_result",
          "data": {
            "text/plain": [
              "              id                                           document  label\n",
              "0        9976970                                아 더빙.. 진짜 짜증나네요 목소리      0\n",
              "1        3819312                  흠...포스터보고 초딩영화줄....오버연기조차 가볍지 않구나      1\n",
              "2       10265843                                  너무재밓었다그래서보는것을추천한다      0\n",
              "3        9045019                      교도소 이야기구먼 ..솔직히 재미는 없다..평점 조정      0\n",
              "4        6483659  사이몬페그의 익살스런 연기가 돋보였던 영화!스파이더맨에서 늙어보이기만 했던 커스틴 ...      1\n",
              "...          ...                                                ...    ...\n",
              "149995   6222902                                인간이 문제지.. 소는 뭔죄인가..      0\n",
              "149996   8549745                                      평점이 너무 낮아서...      1\n",
              "149997   9311800                    이게 뭐요? 한국인은 거들먹거리고 필리핀 혼혈은 착하다?      0\n",
              "149998   2376369                        청춘 영화의 최고봉.방황과 우울했던 날들의 자화상      1\n",
              "149999   9619869                           한국 영화 최초로 수간하는 내용이 담긴 영화      0\n",
              "\n",
              "[150000 rows x 3 columns]"
            ],
            "text/html": [
              "\n",
              "  <div id=\"df-5f860dbf-4d29-4a43-9b93-0b83333e939e\">\n",
              "    <div class=\"colab-df-container\">\n",
              "      <div>\n",
              "<style scoped>\n",
              "    .dataframe tbody tr th:only-of-type {\n",
              "        vertical-align: middle;\n",
              "    }\n",
              "\n",
              "    .dataframe tbody tr th {\n",
              "        vertical-align: top;\n",
              "    }\n",
              "\n",
              "    .dataframe thead th {\n",
              "        text-align: right;\n",
              "    }\n",
              "</style>\n",
              "<table border=\"1\" class=\"dataframe\">\n",
              "  <thead>\n",
              "    <tr style=\"text-align: right;\">\n",
              "      <th></th>\n",
              "      <th>id</th>\n",
              "      <th>document</th>\n",
              "      <th>label</th>\n",
              "    </tr>\n",
              "  </thead>\n",
              "  <tbody>\n",
              "    <tr>\n",
              "      <th>0</th>\n",
              "      <td>9976970</td>\n",
              "      <td>아 더빙.. 진짜 짜증나네요 목소리</td>\n",
              "      <td>0</td>\n",
              "    </tr>\n",
              "    <tr>\n",
              "      <th>1</th>\n",
              "      <td>3819312</td>\n",
              "      <td>흠...포스터보고 초딩영화줄....오버연기조차 가볍지 않구나</td>\n",
              "      <td>1</td>\n",
              "    </tr>\n",
              "    <tr>\n",
              "      <th>2</th>\n",
              "      <td>10265843</td>\n",
              "      <td>너무재밓었다그래서보는것을추천한다</td>\n",
              "      <td>0</td>\n",
              "    </tr>\n",
              "    <tr>\n",
              "      <th>3</th>\n",
              "      <td>9045019</td>\n",
              "      <td>교도소 이야기구먼 ..솔직히 재미는 없다..평점 조정</td>\n",
              "      <td>0</td>\n",
              "    </tr>\n",
              "    <tr>\n",
              "      <th>4</th>\n",
              "      <td>6483659</td>\n",
              "      <td>사이몬페그의 익살스런 연기가 돋보였던 영화!스파이더맨에서 늙어보이기만 했던 커스틴 ...</td>\n",
              "      <td>1</td>\n",
              "    </tr>\n",
              "    <tr>\n",
              "      <th>...</th>\n",
              "      <td>...</td>\n",
              "      <td>...</td>\n",
              "      <td>...</td>\n",
              "    </tr>\n",
              "    <tr>\n",
              "      <th>149995</th>\n",
              "      <td>6222902</td>\n",
              "      <td>인간이 문제지.. 소는 뭔죄인가..</td>\n",
              "      <td>0</td>\n",
              "    </tr>\n",
              "    <tr>\n",
              "      <th>149996</th>\n",
              "      <td>8549745</td>\n",
              "      <td>평점이 너무 낮아서...</td>\n",
              "      <td>1</td>\n",
              "    </tr>\n",
              "    <tr>\n",
              "      <th>149997</th>\n",
              "      <td>9311800</td>\n",
              "      <td>이게 뭐요? 한국인은 거들먹거리고 필리핀 혼혈은 착하다?</td>\n",
              "      <td>0</td>\n",
              "    </tr>\n",
              "    <tr>\n",
              "      <th>149998</th>\n",
              "      <td>2376369</td>\n",
              "      <td>청춘 영화의 최고봉.방황과 우울했던 날들의 자화상</td>\n",
              "      <td>1</td>\n",
              "    </tr>\n",
              "    <tr>\n",
              "      <th>149999</th>\n",
              "      <td>9619869</td>\n",
              "      <td>한국 영화 최초로 수간하는 내용이 담긴 영화</td>\n",
              "      <td>0</td>\n",
              "    </tr>\n",
              "  </tbody>\n",
              "</table>\n",
              "<p>150000 rows × 3 columns</p>\n",
              "</div>\n",
              "      <button class=\"colab-df-convert\" onclick=\"convertToInteractive('df-5f860dbf-4d29-4a43-9b93-0b83333e939e')\"\n",
              "              title=\"Convert this dataframe to an interactive table.\"\n",
              "              style=\"display:none;\">\n",
              "        \n",
              "  <svg xmlns=\"http://www.w3.org/2000/svg\" height=\"24px\"viewBox=\"0 0 24 24\"\n",
              "       width=\"24px\">\n",
              "    <path d=\"M0 0h24v24H0V0z\" fill=\"none\"/>\n",
              "    <path d=\"M18.56 5.44l.94 2.06.94-2.06 2.06-.94-2.06-.94-.94-2.06-.94 2.06-2.06.94zm-11 1L8.5 8.5l.94-2.06 2.06-.94-2.06-.94L8.5 2.5l-.94 2.06-2.06.94zm10 10l.94 2.06.94-2.06 2.06-.94-2.06-.94-.94-2.06-.94 2.06-2.06.94z\"/><path d=\"M17.41 7.96l-1.37-1.37c-.4-.4-.92-.59-1.43-.59-.52 0-1.04.2-1.43.59L10.3 9.45l-7.72 7.72c-.78.78-.78 2.05 0 2.83L4 21.41c.39.39.9.59 1.41.59.51 0 1.02-.2 1.41-.59l7.78-7.78 2.81-2.81c.8-.78.8-2.07 0-2.86zM5.41 20L4 18.59l7.72-7.72 1.47 1.35L5.41 20z\"/>\n",
              "  </svg>\n",
              "      </button>\n",
              "      \n",
              "  <style>\n",
              "    .colab-df-container {\n",
              "      display:flex;\n",
              "      flex-wrap:wrap;\n",
              "      gap: 12px;\n",
              "    }\n",
              "\n",
              "    .colab-df-convert {\n",
              "      background-color: #E8F0FE;\n",
              "      border: none;\n",
              "      border-radius: 50%;\n",
              "      cursor: pointer;\n",
              "      display: none;\n",
              "      fill: #1967D2;\n",
              "      height: 32px;\n",
              "      padding: 0 0 0 0;\n",
              "      width: 32px;\n",
              "    }\n",
              "\n",
              "    .colab-df-convert:hover {\n",
              "      background-color: #E2EBFA;\n",
              "      box-shadow: 0px 1px 2px rgba(60, 64, 67, 0.3), 0px 1px 3px 1px rgba(60, 64, 67, 0.15);\n",
              "      fill: #174EA6;\n",
              "    }\n",
              "\n",
              "    [theme=dark] .colab-df-convert {\n",
              "      background-color: #3B4455;\n",
              "      fill: #D2E3FC;\n",
              "    }\n",
              "\n",
              "    [theme=dark] .colab-df-convert:hover {\n",
              "      background-color: #434B5C;\n",
              "      box-shadow: 0px 1px 3px 1px rgba(0, 0, 0, 0.15);\n",
              "      filter: drop-shadow(0px 1px 2px rgba(0, 0, 0, 0.3));\n",
              "      fill: #FFFFFF;\n",
              "    }\n",
              "  </style>\n",
              "\n",
              "      <script>\n",
              "        const buttonEl =\n",
              "          document.querySelector('#df-5f860dbf-4d29-4a43-9b93-0b83333e939e button.colab-df-convert');\n",
              "        buttonEl.style.display =\n",
              "          google.colab.kernel.accessAllowed ? 'block' : 'none';\n",
              "\n",
              "        async function convertToInteractive(key) {\n",
              "          const element = document.querySelector('#df-5f860dbf-4d29-4a43-9b93-0b83333e939e');\n",
              "          const dataTable =\n",
              "            await google.colab.kernel.invokeFunction('convertToInteractive',\n",
              "                                                     [key], {});\n",
              "          if (!dataTable) return;\n",
              "\n",
              "          const docLinkHtml = 'Like what you see? Visit the ' +\n",
              "            '<a target=\"_blank\" href=https://colab.research.google.com/notebooks/data_table.ipynb>data table notebook</a>'\n",
              "            + ' to learn more about interactive tables.';\n",
              "          element.innerHTML = '';\n",
              "          dataTable['output_type'] = 'display_data';\n",
              "          await google.colab.output.renderOutput(dataTable, element);\n",
              "          const docLink = document.createElement('div');\n",
              "          docLink.innerHTML = docLinkHtml;\n",
              "          element.appendChild(docLink);\n",
              "        }\n",
              "      </script>\n",
              "    </div>\n",
              "  </div>\n",
              "  "
            ]
          },
          "metadata": {},
          "execution_count": 4
        }
      ]
    },
    {
      "cell_type": "code",
      "source": [
        "len(train_dataset)"
      ],
      "metadata": {
        "colab": {
          "base_uri": "https://localhost:8080/"
        },
        "id": "Z2vBMeh7czxk",
        "outputId": "975123f1-75d8-4169-d0d4-e65dd8872355"
      },
      "execution_count": null,
      "outputs": [
        {
          "output_type": "execute_result",
          "data": {
            "text/plain": [
              "150000"
            ]
          },
          "metadata": {},
          "execution_count": 5
        }
      ]
    },
    {
      "cell_type": "markdown",
      "source": [
        "# 2. 데이터 전처리"
      ],
      "metadata": {
        "id": "n4hEcnSZc2Qg"
      }
    },
    {
      "cell_type": "code",
      "source": [
        "# 결측치를 확인하고 결츨치를 제거\n",
        "train_dataset.replace('', float('NaN'), inplace=True)\n",
        "print(train_dataset.isnull().values.any())\n",
        "\n",
        "train_dataset = train_dataset.dropna().reset_index(drop=True)\n",
        "print(f'필터링된 데이터셋 총 개수: {len(train_dataset)}')"
      ],
      "metadata": {
        "colab": {
          "base_uri": "https://localhost:8080/"
        },
        "id": "vTAw-z2Yc5vf",
        "outputId": "2dbc2e5f-9223-4490-8a90-157d0fa3b3ca"
      },
      "execution_count": null,
      "outputs": [
        {
          "output_type": "stream",
          "name": "stdout",
          "text": [
            "True\n",
            "필터링된 데이터셋 총 개수: 149995\n"
          ]
        }
      ]
    },
    {
      "cell_type": "code",
      "source": [
        "# 열을 기준으로 중복 데이터를 제거\n",
        "train_dataset = train_dataset.drop_duplicates(['document']).reset_index(drop=True)\n",
        "print(f'필터링된 데이터셋 총 개수: {len(train_dataset)}')"
      ],
      "metadata": {
        "colab": {
          "base_uri": "https://localhost:8080/"
        },
        "id": "nTgURrbSdBOX",
        "outputId": "13892a0f-569c-4cc0-cb84-c4035c0e552f"
      },
      "execution_count": null,
      "outputs": [
        {
          "output_type": "stream",
          "name": "stdout",
          "text": [
            "필터링된 데이터셋 총 개수: 146182\n"
          ]
        }
      ]
    },
    {
      "cell_type": "code",
      "source": [
        "# 한글이 아닌 문자를 포함하는 데이터 제거(ㅋㅋㅋ 제거하지 않음)\n",
        "train_dataset['document'] = train_dataset['document'].str.replace('[^ㄱ-ㅎㅏ-ㅣ가-힣]', ' ')\n",
        "print(f'필터링된 데이터셋 총 개수: {len(train_dataset)}')"
      ],
      "metadata": {
        "colab": {
          "base_uri": "https://localhost:8080/"
        },
        "id": "72EkutSodDzb",
        "outputId": "7d989688-b5ff-461b-bfce-299a06fa6bf8"
      },
      "execution_count": null,
      "outputs": [
        {
          "output_type": "stream",
          "name": "stderr",
          "text": [
            "<ipython-input-8-4bd13c41ca4c>:2: FutureWarning: The default value of regex will change from True to False in a future version.\n",
            "  train_dataset['document'] = train_dataset['document'].str.replace('[^ㄱ-ㅎㅏ-ㅣ가-힣]', ' ')\n"
          ]
        },
        {
          "output_type": "stream",
          "name": "stdout",
          "text": [
            "필터링된 데이터셋 총 개수: 146182\n"
          ]
        }
      ]
    },
    {
      "cell_type": "code",
      "source": [
        "# 너무 짧은 단어를 제거(단어의 길이가 2이하)\n",
        "train_dataset['document'] = train_dataset['document'].apply(lambda x: ' '.join([token for token in x.split() if len(token) > 2]))\n",
        "print(f'필터링된 데이터셋 총 개수: {len(train_dataset)}')"
      ],
      "metadata": {
        "colab": {
          "base_uri": "https://localhost:8080/"
        },
        "id": "0dJkAVUudNvK",
        "outputId": "74d5defa-8932-4c32-a4ba-f9ab0d8a1c4d"
      },
      "execution_count": null,
      "outputs": [
        {
          "output_type": "stream",
          "name": "stdout",
          "text": [
            "필터링된 데이터셋 총 개수: 146182\n"
          ]
        }
      ]
    },
    {
      "cell_type": "code",
      "source": [
        "# 전체 길이가 10이하이거나 전체 단어 개수가 5개 이하인 데이터를 제거\n",
        "train_dataset = train_dataset[train_dataset.document.apply(lambda x: len(str(x)) > 10 and len(str(x).split()) > 5)].reset_index(drop=True)\n",
        "print(f'필터링된 데이터셋 총 개수: {len(train_dataset)}')"
      ],
      "metadata": {
        "colab": {
          "base_uri": "https://localhost:8080/"
        },
        "id": "Q1wH7hsLdWZG",
        "outputId": "8d29a23a-04c0-409b-de60-aa2621d43508"
      },
      "execution_count": null,
      "outputs": [
        {
          "output_type": "stream",
          "name": "stdout",
          "text": [
            "필터링된 데이터셋 총 개수: 46785\n"
          ]
        }
      ]
    },
    {
      "cell_type": "code",
      "source": [
        "print(type(train_dataset))"
      ],
      "metadata": {
        "colab": {
          "base_uri": "https://localhost:8080/"
        },
        "id": "l3-mp1Wa-ota",
        "outputId": "7262fa7f-62b8-41f8-b73f-b555d8fbca00"
      },
      "execution_count": null,
      "outputs": [
        {
          "output_type": "stream",
          "name": "stdout",
          "text": [
            "<class 'pandas.core.frame.DataFrame'>\n"
          ]
        }
      ]
    },
    {
      "cell_type": "code",
      "source": [
        "train_dataset = train_dataset.sample(n=6000, random_state=1)"
      ],
      "metadata": {
        "id": "SAxUAeUO9mUW"
      },
      "execution_count": null,
      "outputs": []
    },
    {
      "cell_type": "code",
      "source": [
        "print(len(train_dataset))"
      ],
      "metadata": {
        "colab": {
          "base_uri": "https://localhost:8080/"
        },
        "id": "lic4dbWC89Hz",
        "outputId": "4ad8ada3-be8c-48f3-b02e-328501d6fc07"
      },
      "execution_count": null,
      "outputs": [
        {
          "output_type": "stream",
          "name": "stdout",
          "text": [
            "6000\n"
          ]
        }
      ]
    },
    {
      "cell_type": "code",
      "source": [
        "train_dataset.info()"
      ],
      "metadata": {
        "colab": {
          "base_uri": "https://localhost:8080/"
        },
        "id": "KnVPwtFkftZL",
        "outputId": "9e4f40e1-d3f7-4c81-d9a6-e3639d3f0e3a"
      },
      "execution_count": null,
      "outputs": [
        {
          "output_type": "stream",
          "name": "stdout",
          "text": [
            "<class 'pandas.core.frame.DataFrame'>\n",
            "Int64Index: 6000 entries, 18739 to 21220\n",
            "Data columns (total 3 columns):\n",
            " #   Column    Non-Null Count  Dtype \n",
            "---  ------    --------------  ----- \n",
            " 0   id        6000 non-null   int64 \n",
            " 1   document  6000 non-null   object\n",
            " 2   label     6000 non-null   int64 \n",
            "dtypes: int64(2), object(1)\n",
            "memory usage: 187.5+ KB\n"
          ]
        }
      ]
    },
    {
      "cell_type": "code",
      "source": [
        "!pip install konlpy"
      ],
      "metadata": {
        "colab": {
          "base_uri": "https://localhost:8080/"
        },
        "id": "KMzTPf76m5QB",
        "outputId": "aa4bfaba-80f7-4731-f950-0f84dfd7c7c6"
      },
      "execution_count": null,
      "outputs": [
        {
          "output_type": "stream",
          "name": "stdout",
          "text": [
            "Collecting konlpy\n",
            "  Downloading konlpy-0.6.0-py2.py3-none-any.whl (19.4 MB)\n",
            "\u001b[2K     \u001b[90m━━━━━━━━━━━━━━━━━━━━━━━━━━━━━━━━━━━━━━━━\u001b[0m \u001b[32m19.4/19.4 MB\u001b[0m \u001b[31m50.5 MB/s\u001b[0m eta \u001b[36m0:00:00\u001b[0m\n",
            "\u001b[?25hCollecting JPype1>=0.7.0 (from konlpy)\n",
            "  Downloading JPype1-1.4.1-cp310-cp310-manylinux_2_12_x86_64.manylinux2010_x86_64.whl (465 kB)\n",
            "\u001b[2K     \u001b[90m━━━━━━━━━━━━━━━━━━━━━━━━━━━━━━━━━━━━━━\u001b[0m \u001b[32m465.3/465.3 kB\u001b[0m \u001b[31m30.7 MB/s\u001b[0m eta \u001b[36m0:00:00\u001b[0m\n",
            "\u001b[?25hRequirement already satisfied: lxml>=4.1.0 in /usr/local/lib/python3.10/dist-packages (from konlpy) (4.9.2)\n",
            "Requirement already satisfied: numpy>=1.6 in /usr/local/lib/python3.10/dist-packages (from konlpy) (1.22.4)\n",
            "Requirement already satisfied: packaging in /usr/local/lib/python3.10/dist-packages (from JPype1>=0.7.0->konlpy) (23.1)\n",
            "Installing collected packages: JPype1, konlpy\n",
            "Successfully installed JPype1-1.4.1 konlpy-0.6.0\n"
          ]
        }
      ]
    },
    {
      "cell_type": "code",
      "source": [
        "from konlpy.tag import Okt"
      ],
      "metadata": {
        "id": "8KUsoFnDm_kw"
      },
      "execution_count": null,
      "outputs": []
    },
    {
      "cell_type": "code",
      "source": [
        "# 불용어 정의\n",
        "stopwords = ['의', '가', '이', '은', '들', '는', '좀', '잘', '걍', '과', '도', '를', '으로', '자', '에', '와', '한', '하다']"
      ],
      "metadata": {
        "id": "rlVYmB0znE0B"
      },
      "execution_count": null,
      "outputs": []
    },
    {
      "cell_type": "code",
      "source": [
        "train_dataset = list(train_dataset['document'])\n",
        "#train_dataset"
      ],
      "metadata": {
        "id": "wm-bvIq-ncPO"
      },
      "execution_count": null,
      "outputs": []
    },
    {
      "cell_type": "code",
      "source": [
        "okt = Okt() #한국어 형태소 분석기\n",
        "\n",
        "tokenized_data = [] #불용어 제거된 토큰화된 문장을 저장한다\n",
        "\n",
        "for sentence in train_dataset:\n",
        "  tokenized_sentence = okt.morphs(sentence, stem=True) #morphs를 이용해서 형태소 분리후 stem=True통해 단어의 원형을 추출\n",
        "  stopwords_removed_sentence = [word for word in tokenized_sentence if not word in stopwords]\n",
        "  tokenized_data.append(stopwords_removed_sentence) #불용어가 제거된 토큰화된 문장을 tokenized_data에 저장"
      ],
      "metadata": {
        "id": "NVIAAITOn4Jx"
      },
      "execution_count": null,
      "outputs": []
    },
    {
      "cell_type": "code",
      "source": [
        "tokenized_data[0]"
      ],
      "metadata": {
        "colab": {
          "base_uri": "https://localhost:8080/"
        },
        "id": "u9ARi74Bo4P2",
        "outputId": "f74991aa-12b0-4961-a0d8-9e4e6ddacac0"
      },
      "execution_count": null,
      "outputs": [
        {
          "output_type": "execute_result",
          "data": {
            "text/plain": [
              "['질',\n",
              " '낮다',\n",
              " '영화',\n",
              " '한편',\n",
              " '보다',\n",
              " '고생',\n",
              " '다행',\n",
              " '기',\n",
              " '대안',\n",
              " '하고',\n",
              " '실망',\n",
              " '안',\n",
              " '에테르',\n",
              " '궁금하다',\n",
              " '만들다',\n",
              " '아니다',\n",
              " '답답하다',\n",
              " '만들다',\n",
              " '주인공',\n",
              " '행동',\n",
              " '유치하다']"
            ]
          },
          "metadata": {},
          "execution_count": 20
        }
      ]
    },
    {
      "cell_type": "code",
      "source": [
        "import matplotlib.pyplot as plt\n",
        "\n",
        "print('리뷰의 최대 길이: ', max(len(review) for review in tokenized_data))\n",
        "print('리뷰의 평균 길이: ', sum(map(len, tokenized_data)) / len(tokenized_data))\n",
        "plt.hist([len(review) for review in tokenized_data], bins=50,edgecolor='black')\n",
        "plt.xlabel('Length of samples')\n",
        "plt.ylabel('Number of samples')\n",
        "plt.show()\n",
        "\n"
      ],
      "metadata": {
        "colab": {
          "base_uri": "https://localhost:8080/",
          "height": 486
        },
        "id": "tXSzMF2prEor",
        "outputId": "d4e3e5e3-177b-4179-d0a3-6ef73fd13f6d"
      },
      "execution_count": null,
      "outputs": [
        {
          "output_type": "stream",
          "name": "stdout",
          "text": [
            "리뷰의 최대 길이:  52\n",
            "리뷰의 평균 길이:  15.656666666666666\n"
          ]
        },
        {
          "output_type": "display_data",
          "data": {
            "text/plain": [
              "<Figure size 640x480 with 1 Axes>"
            ],
            "image/png": "[encoded data removed]"
          },
          "metadata": {}
        }
      ]
    },
    {
      "cell_type": "markdown",
      "source": [
        "# 3. 워드 임베딩 구축"
      ],
      "metadata": {
        "id": "cdm91MRRpoBc"
      }
    },
    {
      "cell_type": "code",
      "source": [
        "from gensim.models import Word2Vec"
      ],
      "metadata": {
        "id": "B7lE41zRsSUT"
      },
      "execution_count": null,
      "outputs": []
    },
    {
      "cell_type": "code",
      "source": [
        "embedding_dim = 100\n",
        "\n",
        "# sg: 0(CBOW), 1(Skip-gram)\n",
        "\n",
        "model = Word2Vec(\n",
        "    sentences = tokenized_data,\n",
        "    vector_size = embedding_dim,\n",
        "    window = 5,\n",
        "    min_count = 5,\n",
        "    workers = 4, #쓰래드 숫자(동시에 작업하는 구간)\n",
        "    sg = 0,\n",
        ")"
      ],
      "metadata": {
        "id": "T56LsaTosWQC"
      },
      "execution_count": null,
      "outputs": []
    },
    {
      "cell_type": "code",
      "source": [
        "# 임베딩 행렬의 크기 단어 사전에는 총 2628개의 단어가 존재하고, 각각의 단어는\n",
        "# 미리설정한 embedding_dim= 100차원으로 구성\n",
        "model.wv.vectors.shape"
      ],
      "metadata": {
        "colab": {
          "base_uri": "https://localhost:8080/"
        },
        "id": "Q42nRPF8vgzm",
        "outputId": "4c9d7b2e-67c0-4c60-b9d1-9e2f1df7bd0d"
      },
      "execution_count": null,
      "outputs": [
        {
          "output_type": "execute_result",
          "data": {
            "text/plain": [
              "(2628, 100)"
            ]
          },
          "metadata": {},
          "execution_count": 24
        }
      ]
    },
    {
      "cell_type": "code",
      "source": [
        "word_vectors = model.wv\n",
        "vocabs = list(word_vectors.index_to_key)\n",
        "vocabs[:20]"
      ],
      "metadata": {
        "colab": {
          "base_uri": "https://localhost:8080/"
        },
        "id": "1sJlsgQsv0tr",
        "outputId": "7c041dcd-cf1b-40bd-b778-2e950cff87fc"
      },
      "execution_count": null,
      "outputs": [
        {
          "output_type": "execute_result",
          "data": {
            "text/plain": [
              "['영화',\n",
              " '보다',\n",
              " '을',\n",
              " '이다',\n",
              " '있다',\n",
              " '적',\n",
              " '로',\n",
              " '없다',\n",
              " '에서',\n",
              " '좋다',\n",
              " '만',\n",
              " '아니다',\n",
              " '되다',\n",
              " '같다',\n",
              " '스토리',\n",
              " '나오다',\n",
              " '다',\n",
              " '생각',\n",
              " '인',\n",
              " '사람']"
            ]
          },
          "metadata": {},
          "execution_count": 25
        }
      ]
    },
    {
      "cell_type": "code",
      "source": [
        "for sim_word in model.wv.most_similar('영화'):\n",
        "  print(sim_word)"
      ],
      "metadata": {
        "colab": {
          "base_uri": "https://localhost:8080/"
        },
        "id": "rtCUM0EwwQpt",
        "outputId": "a10a8e83-20df-452c-f1d2-64182b97574d"
      },
      "execution_count": null,
      "outputs": [
        {
          "output_type": "stream",
          "name": "stdout",
          "text": [
            "('최악', 0.9994853138923645)\n",
            "('다', 0.9994730949401855)\n",
            "('이렇다', 0.9994580745697021)\n",
            "('이영화', 0.9994133710861206)\n",
            "('재미없다', 0.9994009137153625)\n",
            "('없이', 0.9993987083435059)\n",
            "('아니다', 0.9993941187858582)\n",
            "('놀라다', 0.9993866682052612)\n",
            "('급', 0.9993788599967957)\n",
            "('라고', 0.9993757009506226)\n"
          ]
        }
      ]
    },
    {
      "cell_type": "code",
      "source": [
        "for sim_word in model.wv.most_similar('좋다'):\n",
        "  print(sim_word)"
      ],
      "metadata": {
        "colab": {
          "base_uri": "https://localhost:8080/"
        },
        "id": "rH7Vb8nxwjdP",
        "outputId": "0ebab3f4-e97c-40be-99a7-646d71a36f68"
      },
      "execution_count": null,
      "outputs": [
        {
          "output_type": "stream",
          "name": "stdout",
          "text": [
            "('그래도', 0.9996352195739746)\n",
            "('지만', 0.9996144771575928)\n",
            "('아쉽다', 0.9996079206466675)\n",
            "('씨', 0.9995923042297363)\n",
            "('처럼', 0.9995883703231812)\n",
            "('이나', 0.9995810389518738)\n",
            "('여자', 0.9995794296264648)\n",
            "('괜찮다', 0.9995777606964111)\n",
            "('이라고', 0.9995771646499634)\n",
            "('맞다', 0.9995753169059753)\n"
          ]
        }
      ]
    },
    {
      "cell_type": "markdown",
      "source": [
        "# 4. 워드 임베딩 시각화\n"
      ],
      "metadata": {
        "id": "_A0ejbTTxA07"
      }
    },
    {
      "cell_type": "code",
      "source": [
        "import matplotlib.font_manager"
      ],
      "metadata": {
        "id": "Tor0iHIh070F"
      },
      "execution_count": null,
      "outputs": []
    },
    {
      "cell_type": "code",
      "source": [
        "#나눔글꼴 확인\n",
        "font_list = matplotlib.font_manager.findSystemFonts(fontpaths=None, fontext='ttf')\n",
        "[matplotlib.font_manager.FontProperties(fname=font).get_name() for font in font_list if 'Nanum' in font]"
      ],
      "metadata": {
        "colab": {
          "base_uri": "https://localhost:8080/"
        },
        "id": "XmgW1TWW1ACn",
        "outputId": "f8657705-ff53-43a8-8fc3-b471d3c2e1c8"
      },
      "execution_count": null,
      "outputs": [
        {
          "output_type": "execute_result",
          "data": {
            "text/plain": [
              "['NanumGothic',\n",
              " 'NanumBarunGothic',\n",
              " 'NanumSquareRound',\n",
              " 'NanumBarunGothic',\n",
              " 'NanumGothic',\n",
              " 'NanumMyeongjo',\n",
              " 'NanumSquare',\n",
              " 'NanumSquareRound',\n",
              " 'NanumMyeongjo',\n",
              " 'NanumSquare']"
            ]
          },
          "metadata": {},
          "execution_count": 29
        }
      ]
    },
    {
      "cell_type": "code",
      "source": [
        "plt.rc('font',family='NanumBarunGothic')"
      ],
      "metadata": {
        "id": "w1TZjuVq1ERw"
      },
      "execution_count": null,
      "outputs": []
    },
    {
      "cell_type": "code",
      "source": [
        "word_vector_list = [word_vectors[word] for word in vocabs]\n",
        "word_vector_list[0]"
      ],
      "metadata": {
        "colab": {
          "base_uri": "https://localhost:8080/"
        },
        "id": "qiRfvzoi1Yax",
        "outputId": "2fbb9f9c-b160-4f11-e605-3e4986015c86"
      },
      "execution_count": null,
      "outputs": [
        {
          "output_type": "execute_result",
          "data": {
            "text/plain": [
              "array([-0.16820504,  0.28002378, -0.01185031, -0.09273485,  0.01464482,\n",
              "       -0.6650221 ,  0.19067697,  0.9833998 , -0.5056892 , -0.2524226 ,\n",
              "       -0.11657078, -0.61754066, -0.17471325,  0.19060005,  0.18841313,\n",
              "       -0.40662852,  0.14882559, -0.31433758, -0.17611659, -0.88725233,\n",
              "        0.17160575, -0.00899574,  0.21582061, -0.17555535, -0.12555826,\n",
              "        0.04199225, -0.4044184 , -0.419754  , -0.413925  ,  0.14590421,\n",
              "        0.43938118,  0.11125295,  0.20363903, -0.3140063 , -0.12532678,\n",
              "        0.5002853 , -0.00923552, -0.5001702 , -0.29456404, -0.756638  ,\n",
              "       -0.00437073, -0.3724951 ,  0.02865506,  0.01548377,  0.25183165,\n",
              "       -0.21825153, -0.34119642, -0.13538775,  0.22833037,  0.14357796,\n",
              "        0.23928647, -0.35324788, -0.07956127, -0.0771478 , -0.3126128 ,\n",
              "        0.22257507,  0.3375302 ,  0.10629144, -0.31959608,  0.03452446,\n",
              "        0.06190541,  0.07810812, -0.17910352, -0.11612273, -0.64074206,\n",
              "        0.63404614,  0.04979034,  0.39395854, -0.61832017,  0.56616896,\n",
              "       -0.31445283,  0.2751118 ,  0.32816637, -0.19341789,  0.43007255,\n",
              "        0.11474872,  0.02111421,  0.09848396, -0.48259377,  0.24583109,\n",
              "       -0.27727032,  0.02201964, -0.41034484,  0.6595928 , -0.14166772,\n",
              "       -0.04533273,  0.04837177,  0.31379777,  0.53634024,  0.0920084 ,\n",
              "        0.3981382 ,  0.19840358, -0.08377314,  0.11252762,  0.7646617 ,\n",
              "        0.48881546,  0.25605214, -0.43904975,  0.20523529,  0.06101187],\n",
              "      dtype=float32)"
            ]
          },
          "metadata": {},
          "execution_count": 31
        }
      ]
    },
    {
      "cell_type": "code",
      "source": [
        "print(len(x_axis_tsne)) # 6000개의 리뷰에서 가져온 2628개의 단어\n",
        "print(len(y_axis_tsne))"
      ],
      "metadata": {
        "id": "EzgZckn0uVvx",
        "outputId": "405d620f-72d0-485e-c751-39012b81d001",
        "colab": {
          "base_uri": "https://localhost:8080/",
          "height": 193
        }
      },
      "execution_count": null,
      "outputs": [
        {
          "output_type": "error",
          "ename": "NameError",
          "evalue": "ignored",
          "traceback": [
            "\u001b[0;31m---------------------------------------------------------------------------\u001b[0m",
            "\u001b[0;31mNameError\u001b[0m                                 Traceback (most recent call last)",
            "\u001b[0;32m<ipython-input-35-3449190b6c09>\u001b[0m in \u001b[0;36m<cell line: 1>\u001b[0;34m()\u001b[0m\n\u001b[0;32m----> 1\u001b[0;31m \u001b[0mprint\u001b[0m\u001b[0;34m(\u001b[0m\u001b[0mlen\u001b[0m\u001b[0;34m(\u001b[0m\u001b[0mx_axis_tsne\u001b[0m\u001b[0;34m)\u001b[0m\u001b[0;34m)\u001b[0m \u001b[0;31m# 6000개의 리뷰에서 가져온 2628개의 단어\u001b[0m\u001b[0;34m\u001b[0m\u001b[0;34m\u001b[0m\u001b[0m\n\u001b[0m\u001b[1;32m      2\u001b[0m \u001b[0mprint\u001b[0m\u001b[0;34m(\u001b[0m\u001b[0mlen\u001b[0m\u001b[0;34m(\u001b[0m\u001b[0my_axis_tsne\u001b[0m\u001b[0;34m)\u001b[0m\u001b[0;34m)\u001b[0m\u001b[0;34m\u001b[0m\u001b[0;34m\u001b[0m\u001b[0m\n",
            "\u001b[0;31mNameError\u001b[0m: name 'x_axis_tsne' is not defined"
          ]
        }
      ]
    },
    {
      "cell_type": "code",
      "source": [
        "x_axis_tsne #2628개의 단어의 좌표값"
      ],
      "metadata": {
        "colab": {
          "base_uri": "https://localhost:8080/",
          "height": 174
        },
        "id": "tt18U2r9dOI2",
        "outputId": "86e68b88-50a0-4bb2-ff88-0f0d2c8a5a94"
      },
      "execution_count": null,
      "outputs": [
        {
          "output_type": "error",
          "ename": "NameError",
          "evalue": "ignored",
          "traceback": [
            "\u001b[0;31m---------------------------------------------------------------------------\u001b[0m",
            "\u001b[0;31mNameError\u001b[0m                                 Traceback (most recent call last)",
            "\u001b[0;32m<ipython-input-36-a473e6b78246>\u001b[0m in \u001b[0;36m<cell line: 1>\u001b[0;34m()\u001b[0m\n\u001b[0;32m----> 1\u001b[0;31m \u001b[0mx_axis_tsne\u001b[0m \u001b[0;31m#2628개의 단어의 좌표값\u001b[0m\u001b[0;34m\u001b[0m\u001b[0;34m\u001b[0m\u001b[0m\n\u001b[0m",
            "\u001b[0;31mNameError\u001b[0m: name 'x_axis_tsne' is not defined"
          ]
        }
      ]
    },
    {
      "cell_type": "code",
      "source": [
        "# PCA가 자주 이용되는 차원 축소 방식이긴 하지만 군집의 변별력을 해친다는 단접이 있음\n",
        "# PCA를 개선한 방법이 t-SNE 차원 축소 방식\n",
        "# 고차원 데이터를 저차원으로 시각화하기 위한 알고리즘\n",
        "# 고차원의 데이터는 직접적으로 시각화할 수 없기 때문에\n",
        "from sklearn.manifold import TSNE\n"
      ],
      "metadata": {
        "id": "CXi0Dzsd1qL-"
      },
      "execution_count": null,
      "outputs": []
    },
    {
      "cell_type": "code",
      "source": [
        "import numpy as np\n",
        "tsne = TSNE(learning_rate=100)\n",
        "\n",
        "transformed = tsne.fit_transform(np.array(word_vector_list))\n",
        "\n",
        "x_axis_tsne = transformed[:, 0]\n",
        "y_axis_tsne = transformed[:, 1]"
      ],
      "metadata": {
        "id": "Jcugb2iy45Xk"
      },
      "execution_count": null,
      "outputs": []
    },
    {
      "cell_type": "code",
      "source": [
        "def plot_tsne_graph(vocabs, x_asix, y_asix):\n",
        "  plt.figure(figsize=(30, 30))\n",
        "  plt.scatter(x_asix, y_asix, marker = 'o')\n",
        "  for i, v in enumerate(vocabs):\n",
        "    plt.annotate(v, xy=(x_asix[i], y_asix[i]))"
      ],
      "metadata": {
        "id": "DwafKjrjUUTN"
      },
      "execution_count": null,
      "outputs": []
    },
    {
      "cell_type": "code",
      "source": [
        "plot_tsne_graph(vocabs, x_axis_tsne, y_axis_tsne)"
      ],
      "metadata": {
        "id": "CboCNLWcVsUH"
      },
      "execution_count": null,
      "outputs": []
    },
    {
      "cell_type": "code",
      "source": [],
      "metadata": {
        "id": "MFVpw8LOtuEn"
      },
      "execution_count": null,
      "outputs": []
    },
    {
      "cell_type": "markdown",
      "source": [
        "# 5.TSNE 고도화\n",
        "* Python에서 제공하는 interactive visualization library인 [bokey](https://docs.bokeh.org/en/latest/)를 사용하여 시각화 고도화\n"
      ],
      "metadata": {
        "id": "cDkECFUPWH-n"
      }
    },
    {
      "cell_type": "code",
      "source": [
        "import pickle"
      ],
      "metadata": {
        "id": "MAG6Z_90XKgS"
      },
      "execution_count": null,
      "outputs": []
    },
    {
      "cell_type": "code",
      "source": [
        "tsne_df = pd.DataFrame(transformed, columns=['x_coord', 'y_coord'])"
      ],
      "metadata": {
        "id": "F6VnVraqW7TP"
      },
      "execution_count": null,
      "outputs": []
    },
    {
      "cell_type": "code",
      "source": [
        "tsne_df"
      ],
      "metadata": {
        "id": "gyx23tQPXQyt"
      },
      "execution_count": null,
      "outputs": []
    },
    {
      "cell_type": "code",
      "source": [
        "from bokeh.plotting import figure, show, output_notebook\n",
        "from bokeh.models import HoverTool, ColumnDataSource, value"
      ],
      "metadata": {
        "id": "c7FOT_UuXxmF"
      },
      "execution_count": null,
      "outputs": []
    },
    {
      "cell_type": "code",
      "source": [
        "import matplotlib.font_manager as fm\n",
        "font_list = [font.name for font in fm.fontManager.ttflist]\n",
        "font_list\n"
      ],
      "metadata": {
        "id": "k_XYk9AYZB6n"
      },
      "execution_count": null,
      "outputs": []
    },
    {
      "cell_type": "code",
      "source": [
        "from bokeh.io import curdoc\n",
        "from bokeh.themes import Theme\n",
        "\n",
        "curdoc().theme = Theme(json={\n",
        "    \"attrs\": {\n",
        "        \"Plot\": {\"toolbar_location\": None},\n",
        "        \"Grid\": {\"grid_line_color\": None},\n",
        "        \"Axis\": {\n",
        "            \"axis_line_color\": None,\n",
        "            \"major_label_text_color\": None,\n",
        "            \"major_tick_line_color\": None,\n",
        "            \"minor_tick_line_color\": None,\n",
        "            'major_label_text_font': 'NanumBarunGothic'  # 적용하려는 폰트 이름\n",
        "        },\n",
        "        \"Text\": {\n",
        "            'text_font': 'NanumBarunGothic'  # 적용하려는 폰트 이름\n",
        "        },\n",
        "    }\n",
        "})\n",
        "\n"
      ],
      "metadata": {
        "id": "theZpzoxZFiw"
      },
      "execution_count": null,
      "outputs": []
    },
    {
      "cell_type": "code",
      "source": [
        "import matplotlib.font_manager as fm\n",
        "\n",
        "# 설치된 폰트 출력\n",
        "font_list = [font.name for font in fm.fontManager.ttflist]\n",
        "font_list"
      ],
      "metadata": {
        "id": "g8j4w87eeO8z"
      },
      "execution_count": null,
      "outputs": []
    },
    {
      "cell_type": "code",
      "source": [
        "plt.rcParams['font.family'] = 'Nanum Brush Script'"
      ],
      "metadata": {
        "id": "wvrFTgfteSS8"
      },
      "execution_count": null,
      "outputs": []
    },
    {
      "cell_type": "code",
      "source": [
        "output_notebook()"
      ],
      "metadata": {
        "id": "j778PU1PXXJF"
      },
      "execution_count": null,
      "outputs": []
    },
    {
      "cell_type": "code",
      "source": [
        "# prepare the data in a form suitable for bokeh.\n",
        "plot_data = ColumnDataSource(tsne_df)\n",
        "# create the plot and configure it\n",
        "tsne_plot = figure(title='t-SNE Word Embeddings',\n",
        "  plot_width = 800,\n",
        "  plot_height = 800,\n",
        "  active_scroll='wheel_zoom'\n",
        ")\n",
        "# add a hover tool to display words on roll-over\n",
        "tsne_plot.add_tools( HoverTool(tooltips = '@word') )\n",
        "tsne_plot.circle(\n",
        "    'x_coord', 'y_coord', source=plot_data,\n",
        "    color='red', line_alpha=0.2, fill_alpha=0.1,\n",
        "    size=10, hover_line_color='orange'\n",
        "  )\n",
        "# adjust visual elements of the plot\n",
        "tsne_plot.xaxis.visible = False\n",
        "tsne_plot.yaxis.visible = False\n",
        "tsne_plot.grid.grid_line_color = None\n",
        "tsne_plot.outline_line_color = None\n",
        "# show time!\n",
        "show(tsne_plot);"
      ],
      "metadata": {
        "id": "Owt0PFIcX0bq"
      },
      "execution_count": null,
      "outputs": []
    },
    {
      "cell_type": "code",
      "source": [
        "from gensim.models import KeyedVectors"
      ],
      "metadata": {
        "id": "RQvFe9nMZe3s"
      },
      "execution_count": null,
      "outputs": []
    },
    {
      "cell_type": "code",
      "source": [
        "model.wv.save_word2vec_format('sample_word2vec_embedding')"
      ],
      "metadata": {
        "id": "Nkh2ZQunZj13"
      },
      "execution_count": null,
      "outputs": []
    },
    {
      "cell_type": "code",
      "source": [
        "!python -m gensim.scripts.word2vec2tensor --input sample_word2vec_embedding --output sample_word2vec_embedding"
      ],
      "metadata": {
        "id": "wINRzN7aZr2r"
      },
      "execution_count": null,
      "outputs": []
    },
    {
      "cell_type": "code",
      "source": [],
      "metadata": {
        "id": "N3VCPuaHZ_2h"
      },
      "execution_count": null,
      "outputs": []
    }
  ]
}