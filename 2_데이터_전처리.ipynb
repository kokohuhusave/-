{
  "nbformat": 4,
  "nbformat_minor": 0,
  "metadata": {
    "colab": {
      "provenance": []
    },
    "kernelspec": {
      "name": "python3",
      "display_name": "Python 3"
    },
    "language_info": {
      "name": "python"
    }
  },
  "cells": [
    {
      "cell_type": "markdown",
      "source": [
        "# 1. 코퍼스(Corpus)\n",
        "* 사전적인 의미는 \"말뭉치, \"대량의 텍스트 데이터\"를 말함\n",
        "* 자연어처리 연구나 애플리ㅔ이션 활용을 염두에 두고 수집된 텍스트 테이터셋을 의미\n"
      ],
      "metadata": {
        "id": "P3TIu5fztw5J"
      }
    },
    {
      "cell_type": "markdown",
      "source": [
        "# 2. 토큰화(Tokenization)\n",
        "* 전처리 과정에는 토큰화, 정제, 정규화 작업등이 있음\n",
        "* 토믄화는 원시 데이터를 가져와 유용한 데이터 문자열로 변환하는 간단한 프로세스\n",
        "* 사이버 보안, NFT 생성에 사용되는 것으로 유명, 자연어 프로세스의 중요한 부분을 차지함\n",
        "* 토큰의 단위는 자연어 내에서 의미를 가지는 최소 단위로 정의\n",
        "* 단락과 문장을 보다 쉽게 의미를 할당 할 수 있는 더 작은 단위로 분할하는데 사용\n",
        "\n",
        "> 토큰화 작업은 주어진 코퍼스내 자연어 문장들을 토큰아러 불리는 최소 단위로 나누는 작업"
      ],
      "metadata": {
        "id": "AFwFiTIAuxP1"
      }
    },
    {
      "cell_type": "markdown",
      "source": [
        "### 2-1. 토큰화 작업의 필요성\n",
        "* 언어 모델의 자연어 이해 능력 향상\n",
        "\n",
        "\"역삽동에 어떤 맛집이 있나요?\"\n",
        "\"역삼동에\" \"어떤\" \"맛집이\" \"있나요?\"\n",
        "\"역삼동\" \"에\" \"어떤\" \"맛집\" \"이\" \"있나\" \"요?\"\n",
        "\n",
        "* 다양한 자연어를 효율적으로 표현 가능\n",
        "  - 중복을 제거한 대규모 자연어 코퍼스 내 토큰의 집합(단어 사전)사용\n",
        "  - 적절한 정보량을 내포하면서 전체 단어 사전의 개수가 많아지지 않도록 토큰의 단위를 잘 정의해야 함\n",
        "  - 상황에 따라 다르지만, 일반적인 자연어처리 작업에서 단어 사전의 규모는 약 10,000 ~ 50,000개 정도로 구성(현대 한글의 글자 수는 11,172개)\n",
        "\n"
      ],
      "metadata": {
        "id": "ho517q6Izfkl"
      }
    },
    {
      "cell_type": "markdown",
      "source": [
        "### 2-2. 토큰화 방법\n",
        "* 문장 토큰화: 토큰의 기준을 문장으로 하는 토큰화 방법\n",
        "  - 문장에 끝에 오는 문장 부호를 기준으로 코퍼스를 잘라냄(. 또는 ! 또는 ?)\n",
        "  - 예외) 제 이메일 주소는 rlawn@gmail.com입니다. .의 의해 잘린다\n",
        "* 단어 토큰화: 토큰의 기준을 단어로 하는 토큰화 방법\n",
        "  - 보편적으로 구분기호를 가지고 텍스트를 나누게 되며, 기본적으로 공백을 구분자로 사용\n",
        "  - 한국어의 경우 교착어이기 떄문에 공백으로 단어 토큰화를 하면 성능이 좋지 않음\n",
        "  - 새로운 단어가 추가될수록 단어 사전의 크기가 게속 증가\n",
        "  - OVV(Out of Vocabulary) 문제\n",
        "* 문자 토큰화: 토큰의 기준을 문자로 하는 토큰화 방법\n",
        "  - 단어 토큰화의 한계점들을 해결하기 휘한 방법\n",
        "  - 영어는 26개 알파벳에 따라 분리, 한귝어는 자음 19개와 모음 21개의 글자에 따라 분리(안녕하세요 -> ㅇ ㅏ ㄴ ㄴ ㅕ ㅇ ㅎ ㅏ ㅅ ㅔ ㅇ ㅛ)\n",
        "  - 문장 하나를 생성하는데 너무 많은 추론이 필요함\n",
        "\n",
        "  - 예) 오늘 날씨 어때? -> 너무 많은 추론이 필요\n",
        "  - 단어 사정은 작지만 모델의 예측시간에 문제가 생길수 있다\n",
        "\n",
        "* 서브워드 토큰화: 토큰의 기준을 서브워드로 하는 토큰화 방법\n",
        "  - 단어 토큰화와 문자 토큰화의 한계점을 해결하기 위한 방법\n",
        "  - 문자 토큰화의 확장된 버전으로 토큰의 단위를 n개의 문자로 정의하고, 해당 기준에 따라 텍스트를 분절하는 방법\n",
        "  - 형태소 분절 기반의 서브워드 토큰화로 확장될 수 있어 한국에서도 좋은 성능을 가짐\n",
        "  - 서브 워드를 만드는 알고리즘 중에서 가장 유명한 것이 BPE\n"
      ],
      "metadata": {
        "id": "IWgJJOAM2L-p"
      }
    },
    {
      "cell_type": "markdown",
      "source": [
        "# 3. 서브워드 토큰화"
      ],
      "metadata": {
        "id": "wg-bpAb-3Q2_"
      }
    },
    {
      "cell_type": "markdown",
      "source": [
        "### 3-1. 서브워드(subword)\n",
        "* 단어보다 더 작은 의미의 단위\n",
        "* 예) Birthday = birth + day, 아침밥 = 아침 + 밥\n",
        "* 단어를 여러 서브워드로 분리해서 단어 사전을 구축하겠다는 토큰화 방법\n",
        "* 신조어에서 주로 발생하는 OOV 문제를 완화\n",
        "* upperwear"
      ],
      "metadata": {
        "id": "B8wfvoUY7CUU"
      }
    },
    {
      "cell_type": "markdown",
      "source": [
        "### 과제\n",
        "\"BPE 알고리즘, \"WordPiece Tokenizer\"에 대해 조사하고 해당 알고리즘을 잘 설명할 수 있는 예제와 실습과제를 완성해보자"
      ],
      "metadata": {
        "id": "mBiZrgbI7ltd"
      }
    },
    {
      "cell_type": "markdown",
      "source": [
        "### 3-2. BPE(bype pair Encoding)\n",
        "* 코퍼스 내 단어의 등장 빈도에 따라 서브워드를 구축하는데 사용\n",
        "* 2016년 [Neural Machine Translation of Rare Word with Subword Units] (https://arxiv.org/abs/1508.07909) 논문에서 처음 제안\n",
        "* 글자단위에서 점진적으로 서브워드 자비합을 만들어내는 Bottom-up 방식의 접근 방식으로 자연어 코퍼스에 있는 모든 단어들을 굴자 단위로 분리한 뒤에 등장 빈도에 따라 글자들을 서브워드로 통합하는 방식\n"
      ],
      "metadata": {
        "id": "wBp2zcOcrWx3"
      }
    },
    {
      "cell_type": "code",
      "source": [],
      "metadata": {
        "id": "2GTtrEoVsobV"
      },
      "execution_count": 4,
      "outputs": []
    },
    {
      "cell_type": "markdown",
      "source": [
        "# 4. 정제(Cleaning)\n",
        "* 토큰화 작업에 방해가 되는 부분들을 필터링하거나 토큰화 작업 이후에도 여전히 남아있는 노이즈들을 제거하기 뤼해 지속적으로 이뤄지는 전처리 과정\n",
        "* 어떤 특성이 노이즈인지 판단하거나, 모든 노이즈를 완벽하게 제거하는 것은 어렵기 때문에 일종의 합의점을 찾아야함"
      ],
      "metadata": {
        "id": "6GDZRsB99cs3"
      }
    },
    {
      "cell_type": "markdown",
      "source": [
        "### 4-1. 정제 작업의 종류\n",
        "* 불용어(Stopword) 처리(큰 의미가 없다라는 것은 자주 등장하지만 분석을 하는 것에 있어서는 큰 도움이 되지 않는 단어)\n",
        "  - NLTK 라이브러리에서는 자주 사용되는 단어들을 불용어로 정의\n",
        "  - 불용어의 정의는 가변적이기 때문에 추가하고 싶은 불용어가 있다면 직접 정의할 수 있음\n",
        "  - 보편적으로 선택할 수 잇는 한국어 불용어 리스트(https://www.ranks.nl/stopwords/korean)\n",
        "* 불필요한 태그 및 특수 문자 제거\n",
        "\n",
        "* 코퍼스 내 등장 빈도가 적은 단어 제거\n",
        "  - 코퍼스 내 단어들의 빈도를 분석하여 분포를 보고 특정 threshold를 설정 한 후, 해당 threshold 아래의 단어들을 필터링하는 방식으로 정제\n",
        "  \n"
      ],
      "metadata": {
        "id": "2uyI9r3s98OE"
      }
    },
    {
      "cell_type": "markdown",
      "source": [
        "### 4-2. 정제과정에서 유의해야할 점\n",
        "* @과 같은 특수 문자는 일반적이 작업에서는 정보량이 적은 토큰일 수 있지만 이메일과 관련한 내용을 판단해야 하는 작업에서는 유용한 토큰으로 사용될 수 잇음\n",
        "* 자연어처리 작업에서 데이터를 수집한 이후에는 항상 목적에 맞지 않는 노이즈가 있진 않은지 검사하고 발견한 노이즈를 정제하기 위한 노력이 필요\n"
      ],
      "metadata": {
        "id": "lWa7P4h9BpRJ"
      }
    },
    {
      "cell_type": "markdown",
      "source": [
        "# 5. 정규화(Normalization)\n",
        "* 일반적인 머신러닝 작업에서 데이터 정규화는 학습 데이터의 값들이 적당한 범위를 유지하도록 데이터의 범위를 변환하거나 스케일링하는 과정\n",
        "* 정규화 목표는 모든 데이터가 같은 정도의 스케일로 반영하도록 하는 것\n",
        "* 자연어 처리 정규화의 핵심은 표현 방법이 다른 단어들을 통합시켜서 같은 단어로 만들어주는 과정\n"
      ],
      "metadata": {
        "id": "7UIUGMHkC_cw"
      }
    },
    {
      "cell_type": "markdown",
      "source": [
        "### 5-1. 정규화 작업이 필요한 이유\n",
        "* 이상적으로 단어 사전내의 단어 토큰들이 모두 중요하게 고려되길 원함\n",
        "* 자연어의 특성 상 의미가 같은데 표기가 다른 단어들이 있을 수 있고, 의미는 같지만 사용 빈도가 낮은 동의어들은 학습에 유용하게 활용되지 않을 수 있음\n",
        "* 의미가 같지만 표기가 다른 단어들을 통합할 수 있다면 통합된 단어의 사용 빈도가 높아질 것이고, 빈도가 낮은 단어들의 중요도가 높아질 수 있다."
      ],
      "metadata": {
        "id": "h3P5OaYNFDmg"
      }
    },
    {
      "cell_type": "markdown",
      "source": [
        "### 5-2. 정규화 작업의 종류\n",
        "* 어간 추출, 표제어 추출\n",
        "  - 어간 추출: 형태학적 분석을 단순화한 버전으로, 정해진 규칙만 보고 단어의 어미를 자르는 어림짐작의 작\n",
        "  - 표제어 추출: 단어들이 다른 형태를 가지더라도 , 그 뿌리 단어를 찾아가서 단어의 개수를 줄일 수 있는지 판단하는 방법\n",
        "* 대소문자 통합\n",
        "  - 대문자와 소문자가 구분되어야 하는 경우도 있음, 따라서 무작정 소문자로 통합해서는 안됨.\n",
        "  - 예) US(미국) ,us(우리)\n",
        "  "
      ],
      "metadata": {
        "id": "6mRuyoNfE6NZ"
      }
    },
    {
      "cell_type": "markdown",
      "source": [
        "### 5-3. 정규화 시 유의할 점\n",
        "* 규칙이 너무 엄격한 정규화 방법은 부작용이 심해 학습에 악영향을 줄 수 있음\n",
        "* 원본 의미를 최대한 유지하는 것이 학습에 도움이 됨\n",
        "* 대화에서 사용하는 의미가 비슷란 이모티콘들을 통합하는 정규화 작업\n",
        "  * \"ㅋㅋㅋㅋㅋㅋㅋㅋㅋ\" -> \"ㅋㅋ\"\n",
        "```\n",
        "\"ㅋㅋㅋㅋㅋㅋㅋㅋㅋ\"\n",
        "\"ㅋㅋㅋㅋㅋ\"\n",
        "\"ㅋㅋ\"\n",
        "디 디르게 해석\n",
        "```"
      ],
      "metadata": {
        "id": "UAbVnHmgGVIm"
      }
    },
    {
      "cell_type": "markdown",
      "source": [
        "# 6.한국어 데이터 전처리"
      ],
      "metadata": {
        "id": "poOQgGWpdB_A"
      }
    },
    {
      "cell_type": "markdown",
      "source": [
        "### 6-1. 한국어의 특성\n",
        "* 영어는 합성어나 줄입말에 대한 예외처리만 한다면,  띄어쓰기를 기준으로 하는 토큰화 작업으로도 어느정도의 성능을 보장 할 수있음\n",
        "* 한국어에는 조사나 어미가 발달되어 있기 때문에 띄어쓰기만으로 단어를 분리하면 의미적인 훼손이 일어날 수 있음\n",
        "* 띄어쓰기 단위가 되는 단위를 \"어절\"이라고 하는데 어절 토큰화와 단어 토큰화가 같니 않기 때문"
      ],
      "metadata": {
        "id": "nGYLcYuqdGqo"
      }
    },
    {
      "cell_type": "markdown",
      "source": [
        "### 6-2. 형태소 분석\n",
        "* 형태소를 비롯하여, 어근/접두사/접미사/품사 등 다양한 언어적 속성의 구조를 파악하는 것을 의미\n",
        "* 형태소 분석과정은 한국어 단어에서 형태소를 추출하여 분리하는 작업이며 이후에 필요에 따라 사전 정의된 품사를 해당 언어에 태깅하는 작업을 하기도 함\n",
        "* 태깅: 형태소의 뜻과 문맥을 고려하여 단어에 품사를 매핑하는 것\n"
      ],
      "metadata": {
        "id": "h52IWCrZdpY8"
      }
    },
    {
      "cell_type": "markdown",
      "source": [
        "### 6-3. 형태소 분석 방법\n",
        "* 한국어에 다양한 형태소를 분석하고 분류하기 위해 KoNLPy패키지에서 분석기를 사용\n",
        "* KoNLPy패키지의 다양한 함수를 사용하여 한국어 내 다양한 전처리를 진행\n",
        "  * Mecab: 일본어용 형태소 분석기를 한국어를 사용할 수 있도록 수정\n",
        "  * Hannanum: 한나눔, KAIST SEmatic Web Reserch Center에서 개발\n",
        "  * Kkma: 꼬꼬마, 서울대학교 IDS 연굿ㄹ에서 개발\n",
        "  * Komoran: 코모란, Shineware에서 개발\n",
        "  * OKT(Open Korean Text):오픈 소스 한국어 분석기, 과거 트위터 형태소 분석기\n",
        "\n",
        "* 각 형태소 분석기는 성능과 결과가 다르게 나오기 때문에 사용하고자 하는 필요 용도에 어떤 형태소 분석기가 적절한지를 판단\n",
        "* 속도를 중시한다면 Mecab을 사용\n"
      ],
      "metadata": {
        "id": "3z7GpRtbeWPQ"
      }
    },
    {
      "cell_type": "markdown",
      "source": [
        "# 7. 데이터 전처리 실습"
      ],
      "metadata": {
        "id": "afxRxCE3h41k"
      }
    },
    {
      "cell_type": "code",
      "source": [
        "# 뉴스 기사 크롤링 라이브러리 설치\n",
        "!pip install newspaper3k"
      ],
      "metadata": {
        "colab": {
          "base_uri": "https://localhost:8080/"
        },
        "id": "e_3IDGZ4fTys",
        "outputId": "1a53307c-6df8-4197-e526-8a94280639ae"
      },
      "execution_count": 5,
      "outputs": [
        {
          "output_type": "stream",
          "name": "stdout",
          "text": [
            "Looking in indexes: https://pypi.org/simple, https://us-python.pkg.dev/colab-wheels/public/simple/\n",
            "Collecting newspaper3k\n",
            "  Downloading newspaper3k-0.2.8-py3-none-any.whl (211 kB)\n",
            "\u001b[2K     \u001b[90m━━━━━━━━━━━━━━━━━━━━━━━━━━━━━━━━━━━━━━━\u001b[0m \u001b[32m211.1/211.1 kB\u001b[0m \u001b[31m7.1 MB/s\u001b[0m eta \u001b[36m0:00:00\u001b[0m\n",
            "\u001b[?25hRequirement already satisfied: beautifulsoup4>=4.4.1 in /usr/local/lib/python3.10/dist-packages (from newspaper3k) (4.11.2)\n",
            "Requirement already satisfied: Pillow>=3.3.0 in /usr/local/lib/python3.10/dist-packages (from newspaper3k) (8.4.0)\n",
            "Requirement already satisfied: PyYAML>=3.11 in /usr/local/lib/python3.10/dist-packages (from newspaper3k) (6.0)\n",
            "Collecting cssselect>=0.9.2 (from newspaper3k)\n",
            "  Downloading cssselect-1.2.0-py2.py3-none-any.whl (18 kB)\n",
            "Requirement already satisfied: lxml>=3.6.0 in /usr/local/lib/python3.10/dist-packages (from newspaper3k) (4.9.2)\n",
            "Requirement already satisfied: nltk>=3.2.1 in /usr/local/lib/python3.10/dist-packages (from newspaper3k) (3.8.1)\n",
            "Requirement already satisfied: requests>=2.10.0 in /usr/local/lib/python3.10/dist-packages (from newspaper3k) (2.27.1)\n",
            "Collecting feedparser>=5.2.1 (from newspaper3k)\n",
            "  Downloading feedparser-6.0.10-py3-none-any.whl (81 kB)\n",
            "\u001b[2K     \u001b[90m━━━━━━━━━━━━━━━━━━━━━━━━━━━━━━━━━━━━━━━━\u001b[0m \u001b[32m81.1/81.1 kB\u001b[0m \u001b[31m7.5 MB/s\u001b[0m eta \u001b[36m0:00:00\u001b[0m\n",
            "\u001b[?25hCollecting tldextract>=2.0.1 (from newspaper3k)\n",
            "  Downloading tldextract-3.4.4-py3-none-any.whl (93 kB)\n",
            "\u001b[2K     \u001b[90m━━━━━━━━━━━━━━━━━━━━━━━━━━━━━━━━━━━━━━━━\u001b[0m \u001b[32m93.3/93.3 kB\u001b[0m \u001b[31m9.3 MB/s\u001b[0m eta \u001b[36m0:00:00\u001b[0m\n",
            "\u001b[?25hCollecting feedfinder2>=0.0.4 (from newspaper3k)\n",
            "  Downloading feedfinder2-0.0.4.tar.gz (3.3 kB)\n",
            "  Preparing metadata (setup.py) ... \u001b[?25l\u001b[?25hdone\n",
            "Collecting jieba3k>=0.35.1 (from newspaper3k)\n",
            "  Downloading jieba3k-0.35.1.zip (7.4 MB)\n",
            "\u001b[2K     \u001b[90m━━━━━━━━━━━━━━━━━━━━━━━━━━━━━━━━━━━━━━━━\u001b[0m \u001b[32m7.4/7.4 MB\u001b[0m \u001b[31m60.5 MB/s\u001b[0m eta \u001b[36m0:00:00\u001b[0m\n",
            "\u001b[?25h  Preparing metadata (setup.py) ... \u001b[?25l\u001b[?25hdone\n",
            "Requirement already satisfied: python-dateutil>=2.5.3 in /usr/local/lib/python3.10/dist-packages (from newspaper3k) (2.8.2)\n",
            "Collecting tinysegmenter==0.3 (from newspaper3k)\n",
            "  Downloading tinysegmenter-0.3.tar.gz (16 kB)\n",
            "  Preparing metadata (setup.py) ... \u001b[?25l\u001b[?25hdone\n",
            "Requirement already satisfied: soupsieve>1.2 in /usr/local/lib/python3.10/dist-packages (from beautifulsoup4>=4.4.1->newspaper3k) (2.4.1)\n",
            "Requirement already satisfied: six in /usr/local/lib/python3.10/dist-packages (from feedfinder2>=0.0.4->newspaper3k) (1.16.0)\n",
            "Collecting sgmllib3k (from feedparser>=5.2.1->newspaper3k)\n",
            "  Downloading sgmllib3k-1.0.0.tar.gz (5.8 kB)\n",
            "  Preparing metadata (setup.py) ... \u001b[?25l\u001b[?25hdone\n",
            "Requirement already satisfied: click in /usr/local/lib/python3.10/dist-packages (from nltk>=3.2.1->newspaper3k) (8.1.3)\n",
            "Requirement already satisfied: joblib in /usr/local/lib/python3.10/dist-packages (from nltk>=3.2.1->newspaper3k) (1.2.0)\n",
            "Requirement already satisfied: regex>=2021.8.3 in /usr/local/lib/python3.10/dist-packages (from nltk>=3.2.1->newspaper3k) (2022.10.31)\n",
            "Requirement already satisfied: tqdm in /usr/local/lib/python3.10/dist-packages (from nltk>=3.2.1->newspaper3k) (4.65.0)\n",
            "Requirement already satisfied: urllib3<1.27,>=1.21.1 in /usr/local/lib/python3.10/dist-packages (from requests>=2.10.0->newspaper3k) (1.26.16)\n",
            "Requirement already satisfied: certifi>=2017.4.17 in /usr/local/lib/python3.10/dist-packages (from requests>=2.10.0->newspaper3k) (2023.5.7)\n",
            "Requirement already satisfied: charset-normalizer~=2.0.0 in /usr/local/lib/python3.10/dist-packages (from requests>=2.10.0->newspaper3k) (2.0.12)\n",
            "Requirement already satisfied: idna<4,>=2.5 in /usr/local/lib/python3.10/dist-packages (from requests>=2.10.0->newspaper3k) (3.4)\n",
            "Collecting requests-file>=1.4 (from tldextract>=2.0.1->newspaper3k)\n",
            "  Downloading requests_file-1.5.1-py2.py3-none-any.whl (3.7 kB)\n",
            "Requirement already satisfied: filelock>=3.0.8 in /usr/local/lib/python3.10/dist-packages (from tldextract>=2.0.1->newspaper3k) (3.12.2)\n",
            "Building wheels for collected packages: tinysegmenter, feedfinder2, jieba3k, sgmllib3k\n",
            "  Building wheel for tinysegmenter (setup.py) ... \u001b[?25l\u001b[?25hdone\n",
            "  Created wheel for tinysegmenter: filename=tinysegmenter-0.3-py3-none-any.whl size=13541 sha256=d0cfdd24b674ffe370f38797eb1601248eb247e7d7d52d61e3eb8a9af5cbbd63\n",
            "  Stored in directory: /root/.cache/pip/wheels/c8/d6/6c/384f58df48c00b9a31d638005143b5b3ac62c3d25fb1447f23\n",
            "  Building wheel for feedfinder2 (setup.py) ... \u001b[?25l\u001b[?25hdone\n",
            "  Created wheel for feedfinder2: filename=feedfinder2-0.0.4-py3-none-any.whl size=3341 sha256=78cf622e14fe7c5fd6b0891a5a2733a23fb6471f79ebde1fc9f346cbc80358c8\n",
            "  Stored in directory: /root/.cache/pip/wheels/97/02/e7/a1ff1760e12bdbaab0ac824fae5c1bc933e41c4ccd6a8f8edb\n",
            "  Building wheel for jieba3k (setup.py) ... \u001b[?25l\u001b[?25hdone\n",
            "  Created wheel for jieba3k: filename=jieba3k-0.35.1-py3-none-any.whl size=7398382 sha256=c1ae203ecdb5273c22903cbbf42fd2bc13d6721f996fa0b6f640d7123fbb317f\n",
            "  Stored in directory: /root/.cache/pip/wheels/7a/c4/0c/12a9a314ecac499456c4c3b2fcc2f635a3b45a39dfbd240299\n",
            "  Building wheel for sgmllib3k (setup.py) ... \u001b[?25l\u001b[?25hdone\n",
            "  Created wheel for sgmllib3k: filename=sgmllib3k-1.0.0-py3-none-any.whl size=6046 sha256=a0966ebe437866a7e7352fba3d311f42a2e22dc33e1eceda6e3e573ed1753ae9\n",
            "  Stored in directory: /root/.cache/pip/wheels/f0/69/93/a47e9d621be168e9e33c7ce60524393c0b92ae83cf6c6e89c5\n",
            "Successfully built tinysegmenter feedfinder2 jieba3k sgmllib3k\n",
            "Installing collected packages: tinysegmenter, sgmllib3k, jieba3k, feedparser, cssselect, requests-file, feedfinder2, tldextract, newspaper3k\n",
            "Successfully installed cssselect-1.2.0 feedfinder2-0.0.4 feedparser-6.0.10 jieba3k-0.35.1 newspaper3k-0.2.8 requests-file-1.5.1 sgmllib3k-1.0.0 tinysegmenter-0.3 tldextract-3.4.4\n"
          ]
        }
      ]
    },
    {
      "cell_type": "code",
      "source": [
        "import newspaper"
      ],
      "metadata": {
        "id": "E9tFRRtffnU0"
      },
      "execution_count": 6,
      "outputs": []
    },
    {
      "cell_type": "code",
      "source": [
        "newspaper.languages()"
      ],
      "metadata": {
        "colab": {
          "base_uri": "https://localhost:8080/"
        },
        "id": "-NVKH2jxfosd",
        "outputId": "33bfaef6-7712-485c-a769-431a12409d80"
      },
      "execution_count": 7,
      "outputs": [
        {
          "output_type": "stream",
          "name": "stdout",
          "text": [
            "\n",
            "Your available languages are:\n",
            "\n",
            "input code\t\tfull name\n",
            "  es\t\t\t  Spanish\n",
            "  ru\t\t\t  Russian\n",
            "  et\t\t\t  Estonian\n",
            "  pl\t\t\t  Polish\n",
            "  ar\t\t\t  Arabic\n",
            "  hi\t\t\t  Hindi\n",
            "  no\t\t\t  Norwegian\n",
            "  sl\t\t\t  Slovenian\n",
            "  mk\t\t\t  Macedonian\n",
            "  de\t\t\t  German\n",
            "  ja\t\t\t  Japanese\n",
            "  pt\t\t\t  Portuguese\n",
            "  en\t\t\t  English\n",
            "  nl\t\t\t  Dutch\n",
            "  tr\t\t\t  Turkish\n",
            "  el\t\t\t  Greek\n",
            "  da\t\t\t  Danish\n",
            "  sw\t\t\t  Swahili\n",
            "  fr\t\t\t  French\n",
            "  be\t\t\t  Belarusian\n",
            "  sr\t\t\t  Serbian\n",
            "  vi\t\t\t  Vietnamese\n",
            "  hr\t\t\t  Croatian\n",
            "  ro\t\t\t  Romanian\n",
            "  fi\t\t\t  Finnish\n",
            "  bg\t\t\t  Bulgarian\n",
            "  ko\t\t\t  Korean\n",
            "  he\t\t\t  Hebrew\n",
            "  it\t\t\t  Italian\n",
            "  fa\t\t\t  Persian\n",
            "  id\t\t\t  Indonesian\n",
            "  sv\t\t\t  Swedish\n",
            "  nb\t\t\t  Norwegian (Bokmål)\n",
            "  hu\t\t\t  Hungarian\n",
            "  uk\t\t\t  Ukrainian\n",
            "  zh\t\t\t  Chinese\n",
            "\n"
          ]
        }
      ]
    },
    {
      "cell_type": "code",
      "source": [
        "from newspaper import Article"
      ],
      "metadata": {
        "id": "5LbBCUqQfpmj"
      },
      "execution_count": 8,
      "outputs": []
    },
    {
      "cell_type": "code",
      "source": [
        "URL = 'https://v.daum.net/v/xyz5YQI9vW'\n",
        "\n",
        "article = Article(URL, language='ko')"
      ],
      "metadata": {
        "id": "xdjFhm_of0ch"
      },
      "execution_count": 9,
      "outputs": []
    },
    {
      "cell_type": "code",
      "source": [
        "article.download()\n",
        "article.parse()\n",
        "\n",
        "print('title:', article.title)\n",
        "print('content:', article.text)"
      ],
      "metadata": {
        "colab": {
          "base_uri": "https://localhost:8080/"
        },
        "id": "V_bYe-p4gLux",
        "outputId": "d445f183-aba0-4abc-a135-84fc22c8b8cd"
      },
      "execution_count": 10,
      "outputs": [
        {
          "output_type": "stream",
          "name": "stdout",
          "text": [
            "title: 톰 크루즈가 연기하는 아이언맨 '결사반대'한다는 로다주\n",
            "content: 아이언맨\n",
            "\n",
            "할리우드 배우 로버트 다우니 주니어가 최근 자신의 대표작인 '아이언맨 4' 출연에 대한 의견을 밝혔습니다. 아이언맨은 '어벤져스: 엔드게임'에서 자신을 희생해 인류를 구하는 모습으로 퇴장했으며, 로다주 역시 해당 캐릭터의 은퇴를 선언했는데요.\n",
            "\n",
            "아이언맨\n",
            "\n",
            "하지만 '아이언맨 4'의 제작 가능성과 그의 복귀에 대한 미련을 버리지 못하는 팬들이 무척 많은 것도, 그가 아이언맨으로 복귀할지 모른다는 이야기가 나올때마다 많은 팬들이 설레어하는 것도 사실입니다.\n",
            "\n",
            "트로픽 썬더\n",
            "\n",
            "해외 연예 매체 무비웹은 최근 로다주 한 인터뷰에서 \"톰 크루즈가 2008년작 '트로픽 썬더' 속편 제작을 하고 싶어한다\"는 농담에 \"나는 찬성\"이라며 웃으며 동조했다고 밝혔습니다.\n",
            "\n",
            "또한 그는 \"'아이언맨 4'로 복귀하고 싶나?\"라는 질문에 \"오, 그것도 톰 크루즈가 희망하는 거냐\"라고 반문한데 이어, \"톰, 받지 마! 가져가지 마!\"라며 톰 크루즈가 아이언맨 수트를 입는 것에 대해 경고했습니다.\n",
            "\n",
            "온라인 커뮤니티\n",
            "\n",
            "사실 톰 크루즈가 마블 시네마틱 유니버스에 합류한다는 루머는 '닥터스트레인지 2' 개봉 즈음부터 꾸준히 제기되고 있는 상황. 이 때문에 '제2의 아이언맨' 탄생이라는 수식어가 붙기도 했었는데요.\n",
            "\n",
            "온라인 커뮤니티\n",
            "\n",
            "로버트 다우니 주니어는 MCU 복귀에 대한 질문에 농담으로 넘어가면서 명확하게 선을 긋는 모습으로, 복귀하지 않을 것임을 시사했습니다. 한편 톰 크루즈 역시 마블 합류 루머에 대해 부인하는 입장을 밝힌 적 있습니다.\n",
            "\n",
            "어벤져스 인피니티워\n",
            "\n",
            "그는 \"나는 로버트 다우니 주니어를 좋아한다. 그가 아닌 다른 사람이 아이언맨을 맡는다는 것은 상상조차 할 수 없다. 아이언맨은 로버트 다우니 주니어를 위한 캐릭터다\"라고 말하며 존중의 의사를 표현하기도 했습니다.\n",
            "\n",
            "아이언맨\n",
            "\n",
            "실제로 톰 크루즈는 지난 2005년 '아이언맨' 1편에 캐스팅 제안을 받았지만 제대로 소화하지 못할 것 같다는 이유로 거절했다고 알려져있는데요.\n",
            "\n",
            "온라인 커뮤니티\n",
            "\n",
            "과연 MCU에 새로운 아이언맨이 등장할지, 마블과 다우니 주니어가 극적으로 화해하고 다시 합류 할 가능성은 없을지 팬들의 실낱같은 기대는 이어지고 있습니다.\n"
          ]
        }
      ]
    },
    {
      "cell_type": "code",
      "source": [
        "additional_info = [\n",
        "    \"※ 기자 김사과(apple@apple.com) 취재 반하나(banana@banana.com)\",\n",
        "    \"<h2>톰 크루즈가 연기하는 아이언맨 '결사반대'한다는 로다주</h2>\",\n",
        "    \"이 기사는 임시 데이터임을 알림니다 … \",\n",
        "    \"Copyrights© Pressian.com\",\n",
        "    \"<br> ☞ 이 기사는 문화 섹션으로 분류 했습니다 … </br>\",\n",
        "    \"#기사 #문화 #톰크루즈 #반대\"\n",
        "]\n",
        "\n",
        "context = article.text.split(\"\\n\")\n",
        "context += additional_info"
      ],
      "metadata": {
        "id": "dTkGHFwZgYPs"
      },
      "execution_count": 11,
      "outputs": []
    },
    {
      "cell_type": "code",
      "source": [
        "for i, text in enumerate(context):\n",
        "    print(i, text)"
      ],
      "metadata": {
        "colab": {
          "base_uri": "https://localhost:8080/"
        },
        "id": "bQN6BaUphqtM",
        "outputId": "a9382443-92e9-427e-d250-6f003bd29e1d"
      },
      "execution_count": 12,
      "outputs": [
        {
          "output_type": "stream",
          "name": "stdout",
          "text": [
            "0 아이언맨\n",
            "1 \n",
            "2 할리우드 배우 로버트 다우니 주니어가 최근 자신의 대표작인 '아이언맨 4' 출연에 대한 의견을 밝혔습니다. 아이언맨은 '어벤져스: 엔드게임'에서 자신을 희생해 인류를 구하는 모습으로 퇴장했으며, 로다주 역시 해당 캐릭터의 은퇴를 선언했는데요.\n",
            "3 \n",
            "4 아이언맨\n",
            "5 \n",
            "6 하지만 '아이언맨 4'의 제작 가능성과 그의 복귀에 대한 미련을 버리지 못하는 팬들이 무척 많은 것도, 그가 아이언맨으로 복귀할지 모른다는 이야기가 나올때마다 많은 팬들이 설레어하는 것도 사실입니다.\n",
            "7 \n",
            "8 트로픽 썬더\n",
            "9 \n",
            "10 해외 연예 매체 무비웹은 최근 로다주 한 인터뷰에서 \"톰 크루즈가 2008년작 '트로픽 썬더' 속편 제작을 하고 싶어한다\"는 농담에 \"나는 찬성\"이라며 웃으며 동조했다고 밝혔습니다.\n",
            "11 \n",
            "12 또한 그는 \"'아이언맨 4'로 복귀하고 싶나?\"라는 질문에 \"오, 그것도 톰 크루즈가 희망하는 거냐\"라고 반문한데 이어, \"톰, 받지 마! 가져가지 마!\"라며 톰 크루즈가 아이언맨 수트를 입는 것에 대해 경고했습니다.\n",
            "13 \n",
            "14 온라인 커뮤니티\n",
            "15 \n",
            "16 사실 톰 크루즈가 마블 시네마틱 유니버스에 합류한다는 루머는 '닥터스트레인지 2' 개봉 즈음부터 꾸준히 제기되고 있는 상황. 이 때문에 '제2의 아이언맨' 탄생이라는 수식어가 붙기도 했었는데요.\n",
            "17 \n",
            "18 온라인 커뮤니티\n",
            "19 \n",
            "20 로버트 다우니 주니어는 MCU 복귀에 대한 질문에 농담으로 넘어가면서 명확하게 선을 긋는 모습으로, 복귀하지 않을 것임을 시사했습니다. 한편 톰 크루즈 역시 마블 합류 루머에 대해 부인하는 입장을 밝힌 적 있습니다.\n",
            "21 \n",
            "22 어벤져스 인피니티워\n",
            "23 \n",
            "24 그는 \"나는 로버트 다우니 주니어를 좋아한다. 그가 아닌 다른 사람이 아이언맨을 맡는다는 것은 상상조차 할 수 없다. 아이언맨은 로버트 다우니 주니어를 위한 캐릭터다\"라고 말하며 존중의 의사를 표현하기도 했습니다.\n",
            "25 \n",
            "26 아이언맨\n",
            "27 \n",
            "28 실제로 톰 크루즈는 지난 2005년 '아이언맨' 1편에 캐스팅 제안을 받았지만 제대로 소화하지 못할 것 같다는 이유로 거절했다고 알려져있는데요.\n",
            "29 \n",
            "30 온라인 커뮤니티\n",
            "31 \n",
            "32 과연 MCU에 새로운 아이언맨이 등장할지, 마블과 다우니 주니어가 극적으로 화해하고 다시 합류 할 가능성은 없을지 팬들의 실낱같은 기대는 이어지고 있습니다.\n",
            "33 ※ 기자 김사과(apple@apple.com) 취재 반하나(banana@banana.com)\n",
            "34 <h2>톰 크루즈가 연기하는 아이언맨 '결사반대'한다는 로다주</h2>\n",
            "35 이 기사는 임시 데이터임을 알림니다 … \n",
            "36 Copyrights© Pressian.com\n",
            "37 <br> ☞ 이 기사는 문화 섹션으로 분류 했습니다 … </br>\n",
            "38 #기사 #문화 #톰크루즈 #반대\n"
          ]
        }
      ]
    },
    {
      "cell_type": "markdown",
      "source": [
        "### 7-1. 불용어 제거"
      ],
      "metadata": {
        "id": "b30jZz_phvld"
      }
    },
    {
      "cell_type": "code",
      "source": [
        "# 불용어 사전 정의\n",
        "stopwords = ['이하', '바로', '☞', '※', '…']\n",
        "\n",
        "# 불용어 제거 함수\n",
        "def delete_stopwords(context):\n",
        "    preprocessed_text = []\n",
        "    for text in context:\n",
        "        text = [w for w in text.split(' ') if w not in stopwords]\n",
        "        preprocessed_text.append(' '.join(text))\n",
        "    return preprocessed_text"
      ],
      "metadata": {
        "id": "_TrELQvwiAVq"
      },
      "execution_count": 13,
      "outputs": []
    },
    {
      "cell_type": "code",
      "source": [
        "processed_context = delete_stopwords(context)"
      ],
      "metadata": {
        "id": "0pXE6l9jipyJ"
      },
      "execution_count": 14,
      "outputs": []
    },
    {
      "cell_type": "code",
      "source": [
        "for i, text in enumerate(processed_context):\n",
        "    print(i, text)"
      ],
      "metadata": {
        "colab": {
          "base_uri": "https://localhost:8080/"
        },
        "id": "ELSsYesJiwXL",
        "outputId": "f3d63921-d84f-4057-8930-edab1e9c3999"
      },
      "execution_count": 15,
      "outputs": [
        {
          "output_type": "stream",
          "name": "stdout",
          "text": [
            "0 아이언맨\n",
            "1 \n",
            "2 할리우드 배우 로버트 다우니 주니어가 최근 자신의 대표작인 '아이언맨 4' 출연에 대한 의견을 밝혔습니다. 아이언맨은 '어벤져스: 엔드게임'에서 자신을 희생해 인류를 구하는 모습으로 퇴장했으며, 로다주 역시 해당 캐릭터의 은퇴를 선언했는데요.\n",
            "3 \n",
            "4 아이언맨\n",
            "5 \n",
            "6 하지만 '아이언맨 4'의 제작 가능성과 그의 복귀에 대한 미련을 버리지 못하는 팬들이 무척 많은 것도, 그가 아이언맨으로 복귀할지 모른다는 이야기가 나올때마다 많은 팬들이 설레어하는 것도 사실입니다.\n",
            "7 \n",
            "8 트로픽 썬더\n",
            "9 \n",
            "10 해외 연예 매체 무비웹은 최근 로다주 한 인터뷰에서 \"톰 크루즈가 2008년작 '트로픽 썬더' 속편 제작을 하고 싶어한다\"는 농담에 \"나는 찬성\"이라며 웃으며 동조했다고 밝혔습니다.\n",
            "11 \n",
            "12 또한 그는 \"'아이언맨 4'로 복귀하고 싶나?\"라는 질문에 \"오, 그것도 톰 크루즈가 희망하는 거냐\"라고 반문한데 이어, \"톰, 받지 마! 가져가지 마!\"라며 톰 크루즈가 아이언맨 수트를 입는 것에 대해 경고했습니다.\n",
            "13 \n",
            "14 온라인 커뮤니티\n",
            "15 \n",
            "16 사실 톰 크루즈가 마블 시네마틱 유니버스에 합류한다는 루머는 '닥터스트레인지 2' 개봉 즈음부터 꾸준히 제기되고 있는 상황. 이 때문에 '제2의 아이언맨' 탄생이라는 수식어가 붙기도 했었는데요.\n",
            "17 \n",
            "18 온라인 커뮤니티\n",
            "19 \n",
            "20 로버트 다우니 주니어는 MCU 복귀에 대한 질문에 농담으로 넘어가면서 명확하게 선을 긋는 모습으로, 복귀하지 않을 것임을 시사했습니다. 한편 톰 크루즈 역시 마블 합류 루머에 대해 부인하는 입장을 밝힌 적 있습니다.\n",
            "21 \n",
            "22 어벤져스 인피니티워\n",
            "23 \n",
            "24 그는 \"나는 로버트 다우니 주니어를 좋아한다. 그가 아닌 다른 사람이 아이언맨을 맡는다는 것은 상상조차 할 수 없다. 아이언맨은 로버트 다우니 주니어를 위한 캐릭터다\"라고 말하며 존중의 의사를 표현하기도 했습니다.\n",
            "25 \n",
            "26 아이언맨\n",
            "27 \n",
            "28 실제로 톰 크루즈는 지난 2005년 '아이언맨' 1편에 캐스팅 제안을 받았지만 제대로 소화하지 못할 것 같다는 이유로 거절했다고 알려져있는데요.\n",
            "29 \n",
            "30 온라인 커뮤니티\n",
            "31 \n",
            "32 과연 MCU에 새로운 아이언맨이 등장할지, 마블과 다우니 주니어가 극적으로 화해하고 다시 합류 할 가능성은 없을지 팬들의 실낱같은 기대는 이어지고 있습니다.\n",
            "33 기자 김사과(apple@apple.com) 취재 반하나(banana@banana.com)\n",
            "34 <h2>톰 크루즈가 연기하는 아이언맨 '결사반대'한다는 로다주</h2>\n",
            "35 이 기사는 임시 데이터임을 알림니다 \n",
            "36 Copyrights© Pressian.com\n",
            "37 <br> 이 기사는 문화 섹션으로 분류 했습니다 </br>\n",
            "38 #기사 #문화 #톰크루즈 #반대\n"
          ]
        }
      ]
    },
    {
      "cell_type": "markdown",
      "source": [
        "### 7-2. HTML 태그 제거"
      ],
      "metadata": {
        "id": "6QBzrengizkR"
      }
    },
    {
      "cell_type": "code",
      "source": [
        "import re"
      ],
      "metadata": {
        "id": "HTfHsI7smjV_"
      },
      "execution_count": 16,
      "outputs": []
    },
    {
      "cell_type": "code",
      "source": [
        "def delete_html_tag(context):\n",
        "    preprocessed_text = []\n",
        "\n",
        "    for text in context:\n",
        "        text = re.sub(r'<[^>]+>\\s+(?=<)|<[^>]+>', '', text).strip()\n",
        "        if text:\n",
        "            preprocessed_text.append(text)\n",
        "    return preprocessed_text"
      ],
      "metadata": {
        "id": "HAn0yUJUm8AV"
      },
      "execution_count": 17,
      "outputs": []
    },
    {
      "cell_type": "code",
      "source": [
        "processed_context = delete_html_tag(processed_context)"
      ],
      "metadata": {
        "id": "dN2kF6E7nBUj"
      },
      "execution_count": 18,
      "outputs": []
    },
    {
      "cell_type": "code",
      "source": [
        "for i, text in enumerate(processed_context):\n",
        "    print(i, text)"
      ],
      "metadata": {
        "colab": {
          "base_uri": "https://localhost:8080/"
        },
        "id": "tCjnSqRFnIA4",
        "outputId": "ecb69024-45cd-430d-f78b-35fadab726ea"
      },
      "execution_count": 19,
      "outputs": [
        {
          "output_type": "stream",
          "name": "stdout",
          "text": [
            "0 아이언맨\n",
            "1 할리우드 배우 로버트 다우니 주니어가 최근 자신의 대표작인 '아이언맨 4' 출연에 대한 의견을 밝혔습니다. 아이언맨은 '어벤져스: 엔드게임'에서 자신을 희생해 인류를 구하는 모습으로 퇴장했으며, 로다주 역시 해당 캐릭터의 은퇴를 선언했는데요.\n",
            "2 아이언맨\n",
            "3 하지만 '아이언맨 4'의 제작 가능성과 그의 복귀에 대한 미련을 버리지 못하는 팬들이 무척 많은 것도, 그가 아이언맨으로 복귀할지 모른다는 이야기가 나올때마다 많은 팬들이 설레어하는 것도 사실입니다.\n",
            "4 트로픽 썬더\n",
            "5 해외 연예 매체 무비웹은 최근 로다주 한 인터뷰에서 \"톰 크루즈가 2008년작 '트로픽 썬더' 속편 제작을 하고 싶어한다\"는 농담에 \"나는 찬성\"이라며 웃으며 동조했다고 밝혔습니다.\n",
            "6 또한 그는 \"'아이언맨 4'로 복귀하고 싶나?\"라는 질문에 \"오, 그것도 톰 크루즈가 희망하는 거냐\"라고 반문한데 이어, \"톰, 받지 마! 가져가지 마!\"라며 톰 크루즈가 아이언맨 수트를 입는 것에 대해 경고했습니다.\n",
            "7 온라인 커뮤니티\n",
            "8 사실 톰 크루즈가 마블 시네마틱 유니버스에 합류한다는 루머는 '닥터스트레인지 2' 개봉 즈음부터 꾸준히 제기되고 있는 상황. 이 때문에 '제2의 아이언맨' 탄생이라는 수식어가 붙기도 했었는데요.\n",
            "9 온라인 커뮤니티\n",
            "10 로버트 다우니 주니어는 MCU 복귀에 대한 질문에 농담으로 넘어가면서 명확하게 선을 긋는 모습으로, 복귀하지 않을 것임을 시사했습니다. 한편 톰 크루즈 역시 마블 합류 루머에 대해 부인하는 입장을 밝힌 적 있습니다.\n",
            "11 어벤져스 인피니티워\n",
            "12 그는 \"나는 로버트 다우니 주니어를 좋아한다. 그가 아닌 다른 사람이 아이언맨을 맡는다는 것은 상상조차 할 수 없다. 아이언맨은 로버트 다우니 주니어를 위한 캐릭터다\"라고 말하며 존중의 의사를 표현하기도 했습니다.\n",
            "13 아이언맨\n",
            "14 실제로 톰 크루즈는 지난 2005년 '아이언맨' 1편에 캐스팅 제안을 받았지만 제대로 소화하지 못할 것 같다는 이유로 거절했다고 알려져있는데요.\n",
            "15 온라인 커뮤니티\n",
            "16 과연 MCU에 새로운 아이언맨이 등장할지, 마블과 다우니 주니어가 극적으로 화해하고 다시 합류 할 가능성은 없을지 팬들의 실낱같은 기대는 이어지고 있습니다.\n",
            "17 기자 김사과(apple@apple.com) 취재 반하나(banana@banana.com)\n",
            "18 톰 크루즈가 연기하는 아이언맨 '결사반대'한다는 로다주\n",
            "19 이 기사는 임시 데이터임을 알림니다\n",
            "20 Copyrights© Pressian.com\n",
            "21 이 기사는 문화 섹션으로 분류 했습니다\n",
            "22 #기사 #문화 #톰크루즈 #반대\n"
          ]
        }
      ]
    },
    {
      "cell_type": "markdown",
      "source": [
        "### 7-3. 문장 분리\n",
        "* 학습 데이터를 구성할 때 입력 데이터의 단위를 설정하기 애매해지므로 문장 단위로 모델이 학습하도록 유도하기 위해 문장 분리가 필요\n",
        "* 한국어 문장 분리기 중, 가장 성능이 우수한 것으로 알려진 [kss 라이브러리](https://github.com/hyunwoongko/kss)를 사용"
      ],
      "metadata": {
        "id": "2No2xr4qnJXF"
      }
    },
    {
      "cell_type": "code",
      "source": [
        "!pip install kss"
      ],
      "metadata": {
        "colab": {
          "base_uri": "https://localhost:8080/"
        },
        "id": "VjCADndvtvpb",
        "outputId": "e7786a2f-da0e-488e-cc78-4d49f5f8d02f"
      },
      "execution_count": 20,
      "outputs": [
        {
          "output_type": "stream",
          "name": "stdout",
          "text": [
            "Looking in indexes: https://pypi.org/simple, https://us-python.pkg.dev/colab-wheels/public/simple/\n",
            "Collecting kss\n",
            "  Downloading kss-4.5.3.tar.gz (78 kB)\n",
            "\u001b[2K     \u001b[90m━━━━━━━━━━━━━━━━━━━━━━━━━━━━━━━━━━━━━━━━\u001b[0m \u001b[32m78.5/78.5 kB\u001b[0m \u001b[31m4.1 MB/s\u001b[0m eta \u001b[36m0:00:00\u001b[0m\n",
            "\u001b[?25h  Preparing metadata (setup.py) ... \u001b[?25l\u001b[?25hdone\n",
            "Collecting emoji==1.2.0 (from kss)\n",
            "  Downloading emoji-1.2.0-py3-none-any.whl (131 kB)\n",
            "\u001b[2K     \u001b[90m━━━━━━━━━━━━━━━━━━━━━━━━━━━━━━━━━━━━━━━\u001b[0m \u001b[32m131.3/131.3 kB\u001b[0m \u001b[31m8.5 MB/s\u001b[0m eta \u001b[36m0:00:00\u001b[0m\n",
            "\u001b[?25hRequirement already satisfied: regex in /usr/local/lib/python3.10/dist-packages (from kss) (2022.10.31)\n",
            "Collecting pecab (from kss)\n",
            "  Downloading pecab-1.0.8.tar.gz (26.4 MB)\n",
            "\u001b[2K     \u001b[90m━━━━━━━━━━━━━━━━━━━━━━━━━━━━━━━━━━━━━━━━\u001b[0m \u001b[32m26.4/26.4 MB\u001b[0m \u001b[31m21.2 MB/s\u001b[0m eta \u001b[36m0:00:00\u001b[0m\n",
            "\u001b[?25h  Preparing metadata (setup.py) ... \u001b[?25l\u001b[?25hdone\n",
            "Requirement already satisfied: networkx in /usr/local/lib/python3.10/dist-packages (from kss) (3.1)\n",
            "Requirement already satisfied: numpy in /usr/local/lib/python3.10/dist-packages (from pecab->kss) (1.22.4)\n",
            "Requirement already satisfied: pyarrow in /usr/local/lib/python3.10/dist-packages (from pecab->kss) (9.0.0)\n",
            "Requirement already satisfied: pytest in /usr/local/lib/python3.10/dist-packages (from pecab->kss) (7.2.2)\n",
            "Requirement already satisfied: attrs>=19.2.0 in /usr/local/lib/python3.10/dist-packages (from pytest->pecab->kss) (23.1.0)\n",
            "Requirement already satisfied: iniconfig in /usr/local/lib/python3.10/dist-packages (from pytest->pecab->kss) (2.0.0)\n",
            "Requirement already satisfied: packaging in /usr/local/lib/python3.10/dist-packages (from pytest->pecab->kss) (23.1)\n",
            "Requirement already satisfied: pluggy<2.0,>=0.12 in /usr/local/lib/python3.10/dist-packages (from pytest->pecab->kss) (1.2.0)\n",
            "Requirement already satisfied: exceptiongroup>=1.0.0rc8 in /usr/local/lib/python3.10/dist-packages (from pytest->pecab->kss) (1.1.1)\n",
            "Requirement already satisfied: tomli>=1.0.0 in /usr/local/lib/python3.10/dist-packages (from pytest->pecab->kss) (2.0.1)\n",
            "Building wheels for collected packages: kss, pecab\n",
            "  Building wheel for kss (setup.py) ... \u001b[?25l\u001b[?25hdone\n",
            "  Created wheel for kss: filename=kss-4.5.3-py3-none-any.whl size=54258 sha256=d55393252ff54130f2ec1ecb94d4286e3d1eece02ec709876506e956b91f87a6\n",
            "  Stored in directory: /root/.cache/pip/wheels/d8/9e/a3/5b09e3f14722fa0d77f47fe840668d426760023bdd11b0fbd9\n",
            "  Building wheel for pecab (setup.py) ... \u001b[?25l\u001b[?25hdone\n",
            "  Created wheel for pecab: filename=pecab-1.0.8-py3-none-any.whl size=26646666 sha256=ccb2e4b5922e33487acdf6c74d753a61aae3efb918627cc4d963f54ae525aee0\n",
            "  Stored in directory: /root/.cache/pip/wheels/5c/6f/b4/ab61b8863d7d8b1409def8ae31adcaa089fa91b8d022ec309d\n",
            "Successfully built kss pecab\n",
            "Installing collected packages: emoji, pecab, kss\n",
            "Successfully installed emoji-1.2.0 kss-4.5.3 pecab-1.0.8\n"
          ]
        }
      ]
    },
    {
      "cell_type": "code",
      "source": [
        "import kss"
      ],
      "metadata": {
        "id": "NgudO0B9uLqR"
      },
      "execution_count": 21,
      "outputs": []
    },
    {
      "cell_type": "code",
      "source": [
        "def sentence_seperator(processed_context):\n",
        "    splited_context = []\n",
        "\n",
        "    for text in processed_context:\n",
        "        text = text.strip()\n",
        "        if text:\n",
        "            splited_text = kss.split_sentences(text)\n",
        "            splited_context.extend(splited_text)\n",
        "\n",
        "    return splited_context"
      ],
      "metadata": {
        "id": "k5pPgBZ4uWl6"
      },
      "execution_count": 22,
      "outputs": []
    },
    {
      "cell_type": "code",
      "source": [
        "splited_context = sentence_seperator(processed_context)"
      ],
      "metadata": {
        "id": "Y00hYNlzu-M7",
        "colab": {
          "base_uri": "https://localhost:8080/"
        },
        "outputId": "b5d424d6-5d48-4252-c08a-741771a00cc9"
      },
      "execution_count": 23,
      "outputs": [
        {
          "output_type": "stream",
          "name": "stderr",
          "text": [
            "WARNING:root:Because there's no supported C++ morpheme analyzer, Kss will take pecab as a backend. :D\n",
            "For your information, Kss also supports mecab backend.\n",
            "We recommend you to install mecab or konlpy.tag.Mecab for faster execution of Kss.\n",
            "Please refer to following web sites for details:\n",
            "- mecab: https://github.com/hyunwoongko/python-mecab-kor\n",
            "- konlpy.tag.Mecab: https://konlpy.org/en/latest/api/konlpy.tag/#mecab-class\n",
            "\n"
          ]
        }
      ]
    },
    {
      "cell_type": "code",
      "source": [
        "for i, text in enumerate(splited_context):\n",
        "    print(i, text)"
      ],
      "metadata": {
        "colab": {
          "base_uri": "https://localhost:8080/"
        },
        "id": "kSlPYzYyvC8a",
        "outputId": "274c84b2-487b-4d48-953f-6cb161dd2eff"
      },
      "execution_count": 24,
      "outputs": [
        {
          "output_type": "stream",
          "name": "stdout",
          "text": [
            "0 아이언맨\n",
            "1 할리우드 배우 로버트 다우니 주니어가 최근 자신의 대표작인 '아이언맨 4' 출연에 대한 의견을 밝혔습니다.\n",
            "2 아이언맨은 '어벤져스: 엔드게임'에서 자신을 희생해 인류를 구하는 모습으로 퇴장했으며, 로다주 역시 해당 캐릭터의 은퇴를 선언했는데요.\n",
            "3 아이언맨\n",
            "4 하지만 '아이언맨 4'의 제작 가능성과 그의 복귀에 대한 미련을 버리지 못하는 팬들이 무척 많은 것도, 그가 아이언맨으로 복귀할지 모른다는 이야기가 나올때마다 많은 팬들이 설레어하는 것도 사실입니다.\n",
            "5 트로픽 썬더\n",
            "6 해외 연예 매체 무비웹은 최근 로다주 한 인터뷰에서 \"톰 크루즈가 2008년작 '트로픽 썬더' 속편 제작을 하고 싶어한다\"는 농담에 \"나는 찬성\"이라며 웃으며 동조했다고 밝혔습니다.\n",
            "7 또한 그는 \"'아이언맨 4'로 복귀하고 싶나?\"라는 질문에 \"오, 그것도 톰 크루즈가 희망하는 거냐\"라고 반문한데 이어, \"톰, 받지 마! 가져가지 마!\"라며 톰 크루즈가 아이언맨 수트를 입는 것에 대해 경고했습니다.\n",
            "8 온라인 커뮤니티\n",
            "9 사실 톰 크루즈가 마블 시네마틱 유니버스에 합류한다는 루머는 '닥터스트레인지 2' 개봉 즈음부터 꾸준히 제기되고 있는 상황.\n",
            "10 이 때문에 '제2의 아이언맨' 탄생이라는 수식어가 붙기도 했었는데요.\n",
            "11 온라인 커뮤니티\n",
            "12 로버트 다우니 주니어는 MCU 복귀에 대한 질문에 농담으로 넘어가면서 명확하게 선을 긋는 모습으로, 복귀하지 않을 것임을 시사했습니다.\n",
            "13 한편 톰 크루즈 역시 마블 합류 루머에 대해 부인하는 입장을 밝힌 적 있습니다.\n",
            "14 어벤져스 인피니티워\n",
            "15 그는 \"나는 로버트 다우니 주니어를 좋아한다. 그가 아닌 다른 사람이 아이언맨을 맡는다는 것은 상상조차 할 수 없다. 아이언맨은 로버트 다우니 주니어를 위한 캐릭터다\"라고 말하며 존중의 의사를 표현하기도 했습니다.\n",
            "16 아이언맨\n",
            "17 실제로 톰 크루즈는 지난 2005년 '아이언맨' 1편에 캐스팅 제안을 받았지만 제대로 소화하지 못할 것 같다는 이유로 거절했다고 알려져있는데요.\n",
            "18 온라인 커뮤니티\n",
            "19 과연 MCU에 새로운 아이언맨이 등장할지, 마블과 다우니 주니어가 극적으로 화해하고 다시 합류 할 가능성은 없을지 팬들의 실낱같은 기대는 이어지고 있습니다.\n",
            "20 기자 김사과(apple@apple.com) 취재 반하나(banana@banana.com)\n",
            "21 톰 크루즈가 연기하는 아이언맨 '결사반대'한다는 로다주\n",
            "22 이 기사는 임시 데이터임을 알림니다\n",
            "23 Copyrights© Pressian.com\n",
            "24 이 기사는 문화 섹션으로 분류 했습니다\n",
            "25 #기사 #문화 #톰크루즈 #반대\n"
          ]
        }
      ]
    },
    {
      "cell_type": "markdown",
      "source": [
        "### 7-4. 이메일 제거"
      ],
      "metadata": {
        "id": "AmAHXQXsvHIz"
      }
    },
    {
      "cell_type": "code",
      "source": [
        "def delete_email(context):\n",
        "    preprocessed_text = []\n",
        "    for text in context:\n",
        "        text = re.sub(r'[a-zA-Z0-9+-_.]+@[a-zA-Z0-9-]+\\.[a-zA-Z0-9-.]+', '', text).strip()\n",
        "        if text:\n",
        "            preprocessed_text.append(text)\n",
        "    return preprocessed_text"
      ],
      "metadata": {
        "id": "jC8gewBZvrtb"
      },
      "execution_count": 25,
      "outputs": []
    },
    {
      "cell_type": "code",
      "source": [
        "preprocessed_context = delete_email(splited_context)"
      ],
      "metadata": {
        "id": "0uMuavWhwRne"
      },
      "execution_count": 26,
      "outputs": []
    },
    {
      "cell_type": "code",
      "source": [
        "for i, text in enumerate(preprocessed_context):\n",
        "    print(i, text)"
      ],
      "metadata": {
        "colab": {
          "base_uri": "https://localhost:8080/"
        },
        "id": "sWM3jqSVwZDY",
        "outputId": "71b71f6e-3cbd-4769-8cf6-8953b3d0aaaa"
      },
      "execution_count": 27,
      "outputs": [
        {
          "output_type": "stream",
          "name": "stdout",
          "text": [
            "0 아이언맨\n",
            "1 할리우드 배우 로버트 다우니 주니어가 최근 자신의 대표작인 '아이언맨 4' 출연에 대한 의견을 밝혔습니다.\n",
            "2 아이언맨은 '어벤져스: 엔드게임'에서 자신을 희생해 인류를 구하는 모습으로 퇴장했으며, 로다주 역시 해당 캐릭터의 은퇴를 선언했는데요.\n",
            "3 아이언맨\n",
            "4 하지만 '아이언맨 4'의 제작 가능성과 그의 복귀에 대한 미련을 버리지 못하는 팬들이 무척 많은 것도, 그가 아이언맨으로 복귀할지 모른다는 이야기가 나올때마다 많은 팬들이 설레어하는 것도 사실입니다.\n",
            "5 트로픽 썬더\n",
            "6 해외 연예 매체 무비웹은 최근 로다주 한 인터뷰에서 \"톰 크루즈가 2008년작 '트로픽 썬더' 속편 제작을 하고 싶어한다\"는 농담에 \"나는 찬성\"이라며 웃으며 동조했다고 밝혔습니다.\n",
            "7 또한 그는 \"'아이언맨 4'로 복귀하고 싶나?\"라는 질문에 \"오, 그것도 톰 크루즈가 희망하는 거냐\"라고 반문한데 이어, \"톰, 받지 마! 가져가지 마!\"라며 톰 크루즈가 아이언맨 수트를 입는 것에 대해 경고했습니다.\n",
            "8 온라인 커뮤니티\n",
            "9 사실 톰 크루즈가 마블 시네마틱 유니버스에 합류한다는 루머는 '닥터스트레인지 2' 개봉 즈음부터 꾸준히 제기되고 있는 상황.\n",
            "10 이 때문에 '제2의 아이언맨' 탄생이라는 수식어가 붙기도 했었는데요.\n",
            "11 온라인 커뮤니티\n",
            "12 로버트 다우니 주니어는 MCU 복귀에 대한 질문에 농담으로 넘어가면서 명확하게 선을 긋는 모습으로, 복귀하지 않을 것임을 시사했습니다.\n",
            "13 한편 톰 크루즈 역시 마블 합류 루머에 대해 부인하는 입장을 밝힌 적 있습니다.\n",
            "14 어벤져스 인피니티워\n",
            "15 그는 \"나는 로버트 다우니 주니어를 좋아한다. 그가 아닌 다른 사람이 아이언맨을 맡는다는 것은 상상조차 할 수 없다. 아이언맨은 로버트 다우니 주니어를 위한 캐릭터다\"라고 말하며 존중의 의사를 표현하기도 했습니다.\n",
            "16 아이언맨\n",
            "17 실제로 톰 크루즈는 지난 2005년 '아이언맨' 1편에 캐스팅 제안을 받았지만 제대로 소화하지 못할 것 같다는 이유로 거절했다고 알려져있는데요.\n",
            "18 온라인 커뮤니티\n",
            "19 과연 MCU에 새로운 아이언맨이 등장할지, 마블과 다우니 주니어가 극적으로 화해하고 다시 합류 할 가능성은 없을지 팬들의 실낱같은 기대는 이어지고 있습니다.\n",
            "20 기자 김사과() 취재 반하나()\n",
            "21 톰 크루즈가 연기하는 아이언맨 '결사반대'한다는 로다주\n",
            "22 이 기사는 임시 데이터임을 알림니다\n",
            "23 Copyrights© Pressian.com\n",
            "24 이 기사는 문화 섹션으로 분류 했습니다\n",
            "25 #기사 #문화 #톰크루즈 #반대\n"
          ]
        }
      ]
    },
    {
      "cell_type": "markdown",
      "source": [
        "### 7-5. 해시태그 제거"
      ],
      "metadata": {
        "id": "MNK71X5jwbP_"
      }
    },
    {
      "cell_type": "code",
      "source": [
        "def delete_hashtag(context):\n",
        "    preprocessed_text = []\n",
        "    for text in context:\n",
        "        text = re.sub(r'#\\S+', '', text).strip()\n",
        "        if text:\n",
        "            preprocessed_text.append(text)\n",
        "    return preprocessed_text"
      ],
      "metadata": {
        "id": "ykxluY-rwstC"
      },
      "execution_count": 28,
      "outputs": []
    },
    {
      "cell_type": "code",
      "source": [
        "preprocessed_context = delete_hashtag(preprocessed_context)"
      ],
      "metadata": {
        "id": "_MKD4r9ew9IL"
      },
      "execution_count": 29,
      "outputs": []
    },
    {
      "cell_type": "code",
      "source": [
        "for i, text in enumerate(preprocessed_context):\n",
        "    print(i, text)"
      ],
      "metadata": {
        "colab": {
          "base_uri": "https://localhost:8080/"
        },
        "id": "-2YBzsSTxD-8",
        "outputId": "cdd6add2-f1b3-4c2c-bfda-f70766a52fa0"
      },
      "execution_count": 30,
      "outputs": [
        {
          "output_type": "stream",
          "name": "stdout",
          "text": [
            "0 아이언맨\n",
            "1 할리우드 배우 로버트 다우니 주니어가 최근 자신의 대표작인 '아이언맨 4' 출연에 대한 의견을 밝혔습니다.\n",
            "2 아이언맨은 '어벤져스: 엔드게임'에서 자신을 희생해 인류를 구하는 모습으로 퇴장했으며, 로다주 역시 해당 캐릭터의 은퇴를 선언했는데요.\n",
            "3 아이언맨\n",
            "4 하지만 '아이언맨 4'의 제작 가능성과 그의 복귀에 대한 미련을 버리지 못하는 팬들이 무척 많은 것도, 그가 아이언맨으로 복귀할지 모른다는 이야기가 나올때마다 많은 팬들이 설레어하는 것도 사실입니다.\n",
            "5 트로픽 썬더\n",
            "6 해외 연예 매체 무비웹은 최근 로다주 한 인터뷰에서 \"톰 크루즈가 2008년작 '트로픽 썬더' 속편 제작을 하고 싶어한다\"는 농담에 \"나는 찬성\"이라며 웃으며 동조했다고 밝혔습니다.\n",
            "7 또한 그는 \"'아이언맨 4'로 복귀하고 싶나?\"라는 질문에 \"오, 그것도 톰 크루즈가 희망하는 거냐\"라고 반문한데 이어, \"톰, 받지 마! 가져가지 마!\"라며 톰 크루즈가 아이언맨 수트를 입는 것에 대해 경고했습니다.\n",
            "8 온라인 커뮤니티\n",
            "9 사실 톰 크루즈가 마블 시네마틱 유니버스에 합류한다는 루머는 '닥터스트레인지 2' 개봉 즈음부터 꾸준히 제기되고 있는 상황.\n",
            "10 이 때문에 '제2의 아이언맨' 탄생이라는 수식어가 붙기도 했었는데요.\n",
            "11 온라인 커뮤니티\n",
            "12 로버트 다우니 주니어는 MCU 복귀에 대한 질문에 농담으로 넘어가면서 명확하게 선을 긋는 모습으로, 복귀하지 않을 것임을 시사했습니다.\n",
            "13 한편 톰 크루즈 역시 마블 합류 루머에 대해 부인하는 입장을 밝힌 적 있습니다.\n",
            "14 어벤져스 인피니티워\n",
            "15 그는 \"나는 로버트 다우니 주니어를 좋아한다. 그가 아닌 다른 사람이 아이언맨을 맡는다는 것은 상상조차 할 수 없다. 아이언맨은 로버트 다우니 주니어를 위한 캐릭터다\"라고 말하며 존중의 의사를 표현하기도 했습니다.\n",
            "16 아이언맨\n",
            "17 실제로 톰 크루즈는 지난 2005년 '아이언맨' 1편에 캐스팅 제안을 받았지만 제대로 소화하지 못할 것 같다는 이유로 거절했다고 알려져있는데요.\n",
            "18 온라인 커뮤니티\n",
            "19 과연 MCU에 새로운 아이언맨이 등장할지, 마블과 다우니 주니어가 극적으로 화해하고 다시 합류 할 가능성은 없을지 팬들의 실낱같은 기대는 이어지고 있습니다.\n",
            "20 기자 김사과() 취재 반하나()\n",
            "21 톰 크루즈가 연기하는 아이언맨 '결사반대'한다는 로다주\n",
            "22 이 기사는 임시 데이터임을 알림니다\n",
            "23 Copyrights© Pressian.com\n",
            "24 이 기사는 문화 섹션으로 분류 했습니다\n"
          ]
        }
      ]
    },
    {
      "cell_type": "markdown",
      "source": [
        "### 7-6. 저작권 관련 테스트 제거"
      ],
      "metadata": {
        "id": "X7LgSid9xF6Y"
      }
    },
    {
      "cell_type": "code",
      "source": [
        "def delete_copyright(context):\n",
        "    re_patterns = [\n",
        "        r'\\<저작권자(\\(c\\)|©|(C)|(\\(C\\))).+?\\>',\n",
        "        r'(Copyrights)|(\\(c\\))|(\\(C\\))|©|(C)|'\n",
        "    ]\n",
        "    preprocessed_text = []\n",
        "    for text in context:\n",
        "        for re_pattern in re_patterns:\n",
        "            text = re.sub(re_pattern, \"\", text).strip()\n",
        "        if text:\n",
        "            preprocessed_text.append(text)\n",
        "    return preprocessed_text"
      ],
      "metadata": {
        "id": "QzlHKFm_xqIW"
      },
      "execution_count": 31,
      "outputs": []
    },
    {
      "cell_type": "code",
      "source": [
        "preprocessed_context = delete_copyright(preprocessed_context)"
      ],
      "metadata": {
        "id": "qFfLY-VDyqZY"
      },
      "execution_count": 32,
      "outputs": []
    },
    {
      "cell_type": "code",
      "source": [
        "for i, text in enumerate(preprocessed_context):\n",
        "    print(i, text)"
      ],
      "metadata": {
        "colab": {
          "base_uri": "https://localhost:8080/"
        },
        "id": "MO3ZUj3RyvkA",
        "outputId": "ea853723-b3e1-48b3-ffb5-6c02b8cff379"
      },
      "execution_count": 33,
      "outputs": [
        {
          "output_type": "stream",
          "name": "stdout",
          "text": [
            "0 아이언맨\n",
            "1 할리우드 배우 로버트 다우니 주니어가 최근 자신의 대표작인 '아이언맨 4' 출연에 대한 의견을 밝혔습니다.\n",
            "2 아이언맨은 '어벤져스: 엔드게임'에서 자신을 희생해 인류를 구하는 모습으로 퇴장했으며, 로다주 역시 해당 캐릭터의 은퇴를 선언했는데요.\n",
            "3 아이언맨\n",
            "4 하지만 '아이언맨 4'의 제작 가능성과 그의 복귀에 대한 미련을 버리지 못하는 팬들이 무척 많은 것도, 그가 아이언맨으로 복귀할지 모른다는 이야기가 나올때마다 많은 팬들이 설레어하는 것도 사실입니다.\n",
            "5 트로픽 썬더\n",
            "6 해외 연예 매체 무비웹은 최근 로다주 한 인터뷰에서 \"톰 크루즈가 2008년작 '트로픽 썬더' 속편 제작을 하고 싶어한다\"는 농담에 \"나는 찬성\"이라며 웃으며 동조했다고 밝혔습니다.\n",
            "7 또한 그는 \"'아이언맨 4'로 복귀하고 싶나?\"라는 질문에 \"오, 그것도 톰 크루즈가 희망하는 거냐\"라고 반문한데 이어, \"톰, 받지 마! 가져가지 마!\"라며 톰 크루즈가 아이언맨 수트를 입는 것에 대해 경고했습니다.\n",
            "8 온라인 커뮤니티\n",
            "9 사실 톰 크루즈가 마블 시네마틱 유니버스에 합류한다는 루머는 '닥터스트레인지 2' 개봉 즈음부터 꾸준히 제기되고 있는 상황.\n",
            "10 이 때문에 '제2의 아이언맨' 탄생이라는 수식어가 붙기도 했었는데요.\n",
            "11 온라인 커뮤니티\n",
            "12 로버트 다우니 주니어는 MU 복귀에 대한 질문에 농담으로 넘어가면서 명확하게 선을 긋는 모습으로, 복귀하지 않을 것임을 시사했습니다.\n",
            "13 한편 톰 크루즈 역시 마블 합류 루머에 대해 부인하는 입장을 밝힌 적 있습니다.\n",
            "14 어벤져스 인피니티워\n",
            "15 그는 \"나는 로버트 다우니 주니어를 좋아한다. 그가 아닌 다른 사람이 아이언맨을 맡는다는 것은 상상조차 할 수 없다. 아이언맨은 로버트 다우니 주니어를 위한 캐릭터다\"라고 말하며 존중의 의사를 표현하기도 했습니다.\n",
            "16 아이언맨\n",
            "17 실제로 톰 크루즈는 지난 2005년 '아이언맨' 1편에 캐스팅 제안을 받았지만 제대로 소화하지 못할 것 같다는 이유로 거절했다고 알려져있는데요.\n",
            "18 온라인 커뮤니티\n",
            "19 과연 MU에 새로운 아이언맨이 등장할지, 마블과 다우니 주니어가 극적으로 화해하고 다시 합류 할 가능성은 없을지 팬들의 실낱같은 기대는 이어지고 있습니다.\n",
            "20 기자 김사과() 취재 반하나()\n",
            "21 톰 크루즈가 연기하는 아이언맨 '결사반대'한다는 로다주\n",
            "22 이 기사는 임시 데이터임을 알림니다\n",
            "23 Pressian.com\n",
            "24 이 기사는 문화 섹션으로 분류 했습니다\n"
          ]
        }
      ]
    },
    {
      "cell_type": "markdown",
      "source": [
        "### 7-7. 반복 횟수가 많은 문자 정규화"
      ],
      "metadata": {
        "id": "nnKyJIlyyxAT"
      }
    },
    {
      "cell_type": "code",
      "source": [
        "!pip install soynlp"
      ],
      "metadata": {
        "colab": {
          "base_uri": "https://localhost:8080/"
        },
        "id": "F6U49kVaze4M",
        "outputId": "e479fe6b-91bf-4607-98c7-d446311d41d9"
      },
      "execution_count": 34,
      "outputs": [
        {
          "output_type": "stream",
          "name": "stdout",
          "text": [
            "Looking in indexes: https://pypi.org/simple, https://us-python.pkg.dev/colab-wheels/public/simple/\n",
            "Collecting soynlp\n",
            "  Downloading soynlp-0.0.493-py3-none-any.whl (416 kB)\n",
            "\u001b[2K     \u001b[90m━━━━━━━━━━━━━━━━━━━━━━━━━━━━━━━━━━━━━━\u001b[0m \u001b[32m416.8/416.8 kB\u001b[0m \u001b[31m11.6 MB/s\u001b[0m eta \u001b[36m0:00:00\u001b[0m\n",
            "\u001b[?25hRequirement already satisfied: numpy>=1.12.1 in /usr/local/lib/python3.10/dist-packages (from soynlp) (1.22.4)\n",
            "Requirement already satisfied: psutil>=5.0.1 in /usr/local/lib/python3.10/dist-packages (from soynlp) (5.9.5)\n",
            "Requirement already satisfied: scipy>=1.1.0 in /usr/local/lib/python3.10/dist-packages (from soynlp) (1.10.1)\n",
            "Requirement already satisfied: scikit-learn>=0.20.0 in /usr/local/lib/python3.10/dist-packages (from soynlp) (1.2.2)\n",
            "Requirement already satisfied: joblib>=1.1.1 in /usr/local/lib/python3.10/dist-packages (from scikit-learn>=0.20.0->soynlp) (1.2.0)\n",
            "Requirement already satisfied: threadpoolctl>=2.0.0 in /usr/local/lib/python3.10/dist-packages (from scikit-learn>=0.20.0->soynlp) (3.1.0)\n",
            "Installing collected packages: soynlp\n",
            "Successfully installed soynlp-0.0.493\n"
          ]
        }
      ]
    },
    {
      "cell_type": "code",
      "source": [
        "from soynlp.normalizer import *"
      ],
      "metadata": {
        "id": "brLNFmfTzZf7"
      },
      "execution_count": 35,
      "outputs": []
    },
    {
      "cell_type": "code",
      "source": [
        "print(repeat_normalize('ㅋㅋㅋㅋㅋㅋㅋㅋㅋㅋㅋㅋㅋㅋㅋ', num_repeats=2))"
      ],
      "metadata": {
        "colab": {
          "base_uri": "https://localhost:8080/"
        },
        "id": "q3YTf0J1zl_i",
        "outputId": "65c40409-87e6-4d04-d324-0cd6298e60dd"
      },
      "execution_count": 36,
      "outputs": [
        {
          "output_type": "stream",
          "name": "stdout",
          "text": [
            "ㅋㅋ\n"
          ]
        }
      ]
    },
    {
      "cell_type": "code",
      "source": [
        "print(repeat_normalize('야!!!!!!!!!! 너!!!!!!!!! 지금 뭐함 ㅠㅠㅠㅠㅠㅠ', num_repeats=2))"
      ],
      "metadata": {
        "colab": {
          "base_uri": "https://localhost:8080/"
        },
        "id": "RTv48KM_zskQ",
        "outputId": "1fc8951f-2ad0-499e-ea5f-6782c7ed77ef"
      },
      "execution_count": 37,
      "outputs": [
        {
          "output_type": "stream",
          "name": "stdout",
          "text": [
            "야!!!!!!!!!! 너!!!!!!!!! 지금 뭐함 ㅠㅠ\n"
          ]
        }
      ]
    },
    {
      "cell_type": "markdown",
      "source": [
        "### 7-8. 띄어쓰기 보정"
      ],
      "metadata": {
        "id": "yhtPESBAz2M9"
      }
    },
    {
      "cell_type": "code",
      "source": [
        "!pip install git+https://github.com/haven-jeon/PyKoSpacing.git"
      ],
      "metadata": {
        "colab": {
          "base_uri": "https://localhost:8080/"
        },
        "id": "0Bw_88m60Lwn",
        "outputId": "6ff7afdb-b2b9-4582-96d9-ebe2d03f5f6d"
      },
      "execution_count": 38,
      "outputs": [
        {
          "output_type": "stream",
          "name": "stdout",
          "text": [
            "Looking in indexes: https://pypi.org/simple, https://us-python.pkg.dev/colab-wheels/public/simple/\n",
            "Collecting git+https://github.com/haven-jeon/PyKoSpacing.git\n",
            "  Cloning https://github.com/haven-jeon/PyKoSpacing.git to /tmp/pip-req-build-72fbrfwa\n",
            "  Running command git clone --filter=blob:none --quiet https://github.com/haven-jeon/PyKoSpacing.git /tmp/pip-req-build-72fbrfwa\n",
            "  Resolved https://github.com/haven-jeon/PyKoSpacing.git to commit 5bb0b3e8f62c1936a430745297821a9ecd78beb1\n",
            "  Preparing metadata (setup.py) ... \u001b[?25l\u001b[?25hdone\n",
            "Collecting tensorflow==2.9.3 (from pykospacing==0.5)\n",
            "  Downloading tensorflow-2.9.3-cp310-cp310-manylinux_2_17_x86_64.manylinux2014_x86_64.whl (511.8 MB)\n",
            "\u001b[2K     \u001b[90m━━━━━━━━━━━━━━━━━━━━━━━━━━━━━━━━━━━━━━━\u001b[0m \u001b[32m511.8/511.8 MB\u001b[0m \u001b[31m2.1 MB/s\u001b[0m eta \u001b[36m0:00:00\u001b[0m\n",
            "\u001b[?25hCollecting h5py==3.1.0 (from pykospacing==0.5)\n",
            "  Downloading h5py-3.1.0.tar.gz (371 kB)\n",
            "\u001b[2K     \u001b[90m━━━━━━━━━━━━━━━━━━━━━━━━━━━━━━━━━━━━━━\u001b[0m \u001b[32m371.4/371.4 kB\u001b[0m \u001b[31m31.0 MB/s\u001b[0m eta \u001b[36m0:00:00\u001b[0m\n",
            "\u001b[?25h  Installing build dependencies ... \u001b[?25l\u001b[?25hcanceled\n",
            "Traceback (most recent call last):\n",
            "  File \"/usr/local/lib/python3.10/dist-packages/pip/_internal/cli/base_command.py\", line 169, in exc_logging_wrapper\n",
            "    status = run_func(*args)\n",
            "  File \"/usr/local/lib/python3.10/dist-packages/pip/_internal/cli/req_command.py\", line 242, in wrapper\n",
            "    return func(self, options, args)\n",
            "  File \"/usr/local/lib/python3.10/dist-packages/pip/_internal/commands/install.py\", line 377, in run\n",
            "    requirement_set = resolver.resolve(\n",
            "  File \"/usr/local/lib/python3.10/dist-packages/pip/_internal/resolution/resolvelib/resolver.py\", line 92, in resolve\n",
            "    result = self._result = resolver.resolve(\n",
            "  File \"/usr/local/lib/python3.10/dist-packages/pip/_vendor/resolvelib/resolvers.py\", line 546, in resolve\n",
            "    state = resolution.resolve(requirements, max_rounds=max_rounds)\n",
            "  File \"/usr/local/lib/python3.10/dist-packages/pip/_vendor/resolvelib/resolvers.py\", line 427, in resolve\n",
            "    failure_causes = self._attempt_to_pin_criterion(name)\n",
            "  File \"/usr/local/lib/python3.10/dist-packages/pip/_vendor/resolvelib/resolvers.py\", line 239, in _attempt_to_pin_criterion\n",
            "    criteria = self._get_updated_criteria(candidate)\n",
            "  File \"/usr/local/lib/python3.10/dist-packages/pip/_vendor/resolvelib/resolvers.py\", line 230, in _get_updated_criteria\n",
            "    self._add_to_criteria(criteria, requirement, parent=candidate)\n",
            "  File \"/usr/local/lib/python3.10/dist-packages/pip/_vendor/resolvelib/resolvers.py\", line 173, in _add_to_criteria\n",
            "    if not criterion.candidates:\n",
            "  File \"/usr/local/lib/python3.10/dist-packages/pip/_vendor/resolvelib/structs.py\", line 156, in __bool__\n",
            "    return bool(self._sequence)\n",
            "  File \"/usr/local/lib/python3.10/dist-packages/pip/_internal/resolution/resolvelib/found_candidates.py\", line 155, in __bool__\n",
            "    return any(self)\n",
            "  File \"/usr/local/lib/python3.10/dist-packages/pip/_internal/resolution/resolvelib/found_candidates.py\", line 143, in <genexpr>\n",
            "    return (c for c in iterator if id(c) not in self._incompatible_ids)\n",
            "  File \"/usr/local/lib/python3.10/dist-packages/pip/_internal/resolution/resolvelib/found_candidates.py\", line 47, in _iter_built\n",
            "    candidate = func()\n",
            "  File \"/usr/local/lib/python3.10/dist-packages/pip/_internal/resolution/resolvelib/factory.py\", line 206, in _make_candidate_from_link\n",
            "    self._link_candidate_cache[link] = LinkCandidate(\n",
            "  File \"/usr/local/lib/python3.10/dist-packages/pip/_internal/resolution/resolvelib/candidates.py\", line 293, in __init__\n",
            "    super().__init__(\n",
            "  File \"/usr/local/lib/python3.10/dist-packages/pip/_internal/resolution/resolvelib/candidates.py\", line 156, in __init__\n",
            "    self.dist = self._prepare()\n",
            "  File \"/usr/local/lib/python3.10/dist-packages/pip/_internal/resolution/resolvelib/candidates.py\", line 225, in _prepare\n",
            "    dist = self._prepare_distribution()\n",
            "  File \"/usr/local/lib/python3.10/dist-packages/pip/_internal/resolution/resolvelib/candidates.py\", line 304, in _prepare_distribution\n",
            "    return preparer.prepare_linked_requirement(self._ireq, parallel_builds=True)\n",
            "  File \"/usr/local/lib/python3.10/dist-packages/pip/_internal/operations/prepare.py\", line 516, in prepare_linked_requirement\n",
            "    return self._prepare_linked_requirement(req, parallel_builds)\n",
            "  File \"/usr/local/lib/python3.10/dist-packages/pip/_internal/operations/prepare.py\", line 631, in _prepare_linked_requirement\n",
            "    dist = _get_prepared_distribution(\n",
            "  File \"/usr/local/lib/python3.10/dist-packages/pip/_internal/operations/prepare.py\", line 69, in _get_prepared_distribution\n",
            "    abstract_dist.prepare_distribution_metadata(\n",
            "  File \"/usr/local/lib/python3.10/dist-packages/pip/_internal/distributions/sdist.py\", line 38, in prepare_distribution_metadata\n",
            "    self._prepare_build_backend(finder)\n",
            "  File \"/usr/local/lib/python3.10/dist-packages/pip/_internal/distributions/sdist.py\", line 70, in _prepare_build_backend\n",
            "    self.req.build_env.install_requirements(\n",
            "  File \"/usr/local/lib/python3.10/dist-packages/pip/_internal/build_env.py\", line 217, in install_requirements\n",
            "    self._install_requirements(\n",
            "  File \"/usr/local/lib/python3.10/dist-packages/pip/_internal/build_env.py\", line 275, in _install_requirements\n",
            "    call_subprocess(\n",
            "  File \"/usr/local/lib/python3.10/dist-packages/pip/_internal/utils/subprocess.py\", line 166, in call_subprocess\n",
            "    line: str = proc.stdout.readline()\n",
            "KeyboardInterrupt\n",
            "\n",
            "During handling of the above exception, another exception occurred:\n",
            "\n",
            "Traceback (most recent call last):\n",
            "  File \"/usr/local/bin/pip3\", line 8, in <module>\n",
            "    sys.exit(main())\n",
            "  File \"/usr/local/lib/python3.10/dist-packages/pip/_internal/cli/main.py\", line 79, in main\n",
            "    return command.main(cmd_args)\n",
            "  File \"/usr/local/lib/python3.10/dist-packages/pip/_internal/cli/base_command.py\", line 101, in main\n",
            "    return self._main(args)\n",
            "  File \"/usr/local/lib/python3.10/dist-packages/pip/_internal/cli/base_command.py\", line 223, in _main\n",
            "    return run(options, args)\n",
            "  File \"/usr/local/lib/python3.10/dist-packages/pip/_internal/cli/base_command.py\", line 206, in exc_logging_wrapper\n",
            "    logger.critical(\"Operation cancelled by user\")\n",
            "  File \"/usr/lib/python3.10/logging/__init__.py\", line 1524, in critical\n",
            "    self._log(CRITICAL, msg, args, **kwargs)\n",
            "  File \"/usr/lib/python3.10/logging/__init__.py\", line 1624, in _log\n",
            "    self.handle(record)\n",
            "  File \"/usr/lib/python3.10/logging/__init__.py\", line 1634, in handle\n",
            "    self.callHandlers(record)\n",
            "  File \"/usr/lib/python3.10/logging/__init__.py\", line 1696, in callHandlers\n",
            "    hdlr.handle(record)\n",
            "  File \"/usr/lib/python3.10/logging/__init__.py\", line 968, in handle\n",
            "    self.emit(record)\n",
            "  File \"/usr/local/lib/python3.10/dist-packages/pip/_internal/utils/logging.py\", line 177, in emit\n",
            "    self.console.print(renderable, overflow=\"ignore\", crop=False, style=style)\n",
            "  File \"/usr/local/lib/python3.10/dist-packages/pip/_vendor/rich/console.py\", line 1683, in print\n",
            "    render_options = self.options.update(\n",
            "  File \"/usr/local/lib/python3.10/dist-packages/pip/_vendor/rich/console.py\", line 987, in options\n",
            "    is_terminal=self.is_terminal,\n",
            "  File \"/usr/local/lib/python3.10/dist-packages/pip/_vendor/rich/console.py\", line 930, in is_terminal\n",
            "    @property\n",
            "KeyboardInterrupt\n",
            "^C\n"
          ]
        }
      ]
    },
    {
      "cell_type": "markdown",
      "source": [
        "### 7-8 중복 문장 정규화\n"
      ],
      "metadata": {
        "id": "kAFZ_bnRMTz-"
      }
    },
    {
      "cell_type": "code",
      "source": [
        "from collections import OrderedDict"
      ],
      "metadata": {
        "id": "iQEJ99ptODs5"
      },
      "execution_count": 39,
      "outputs": []
    },
    {
      "cell_type": "code",
      "source": [
        "def duplicated_setence_normalizer(context):\n",
        "  context = list(OrderedDict.fromkeys(context))\n",
        "  return context"
      ],
      "metadata": {
        "id": "yCwg-rKUOHMs"
      },
      "execution_count": 40,
      "outputs": []
    },
    {
      "cell_type": "code",
      "source": [
        "normalized_context = duplicated_setence_normalizer(preprocessed_context)"
      ],
      "metadata": {
        "id": "vnJuPjVkObBO"
      },
      "execution_count": 41,
      "outputs": []
    },
    {
      "cell_type": "code",
      "source": [
        "for i, text in enumerate(normalized_context):\n",
        "    print(i, text)"
      ],
      "metadata": {
        "colab": {
          "base_uri": "https://localhost:8080/"
        },
        "id": "VUnT1rvgOqSC",
        "outputId": "1e4c132e-6aef-4d30-bade-7b101d6e1579"
      },
      "execution_count": 42,
      "outputs": [
        {
          "output_type": "stream",
          "name": "stdout",
          "text": [
            "0 아이언맨\n",
            "1 할리우드 배우 로버트 다우니 주니어가 최근 자신의 대표작인 '아이언맨 4' 출연에 대한 의견을 밝혔습니다.\n",
            "2 아이언맨은 '어벤져스: 엔드게임'에서 자신을 희생해 인류를 구하는 모습으로 퇴장했으며, 로다주 역시 해당 캐릭터의 은퇴를 선언했는데요.\n",
            "3 하지만 '아이언맨 4'의 제작 가능성과 그의 복귀에 대한 미련을 버리지 못하는 팬들이 무척 많은 것도, 그가 아이언맨으로 복귀할지 모른다는 이야기가 나올때마다 많은 팬들이 설레어하는 것도 사실입니다.\n",
            "4 트로픽 썬더\n",
            "5 해외 연예 매체 무비웹은 최근 로다주 한 인터뷰에서 \"톰 크루즈가 2008년작 '트로픽 썬더' 속편 제작을 하고 싶어한다\"는 농담에 \"나는 찬성\"이라며 웃으며 동조했다고 밝혔습니다.\n",
            "6 또한 그는 \"'아이언맨 4'로 복귀하고 싶나?\"라는 질문에 \"오, 그것도 톰 크루즈가 희망하는 거냐\"라고 반문한데 이어, \"톰, 받지 마! 가져가지 마!\"라며 톰 크루즈가 아이언맨 수트를 입는 것에 대해 경고했습니다.\n",
            "7 온라인 커뮤니티\n",
            "8 사실 톰 크루즈가 마블 시네마틱 유니버스에 합류한다는 루머는 '닥터스트레인지 2' 개봉 즈음부터 꾸준히 제기되고 있는 상황.\n",
            "9 이 때문에 '제2의 아이언맨' 탄생이라는 수식어가 붙기도 했었는데요.\n",
            "10 로버트 다우니 주니어는 MU 복귀에 대한 질문에 농담으로 넘어가면서 명확하게 선을 긋는 모습으로, 복귀하지 않을 것임을 시사했습니다.\n",
            "11 한편 톰 크루즈 역시 마블 합류 루머에 대해 부인하는 입장을 밝힌 적 있습니다.\n",
            "12 어벤져스 인피니티워\n",
            "13 그는 \"나는 로버트 다우니 주니어를 좋아한다. 그가 아닌 다른 사람이 아이언맨을 맡는다는 것은 상상조차 할 수 없다. 아이언맨은 로버트 다우니 주니어를 위한 캐릭터다\"라고 말하며 존중의 의사를 표현하기도 했습니다.\n",
            "14 실제로 톰 크루즈는 지난 2005년 '아이언맨' 1편에 캐스팅 제안을 받았지만 제대로 소화하지 못할 것 같다는 이유로 거절했다고 알려져있는데요.\n",
            "15 과연 MU에 새로운 아이언맨이 등장할지, 마블과 다우니 주니어가 극적으로 화해하고 다시 합류 할 가능성은 없을지 팬들의 실낱같은 기대는 이어지고 있습니다.\n",
            "16 기자 김사과() 취재 반하나()\n",
            "17 톰 크루즈가 연기하는 아이언맨 '결사반대'한다는 로다주\n",
            "18 이 기사는 임시 데이터임을 알림니다\n",
            "19 Pressian.com\n",
            "20 이 기사는 문화 섹션으로 분류 했습니다\n"
          ]
        }
      ]
    },
    {
      "cell_type": "markdown",
      "source": [
        "### 7-9. Cleaning\n",
        "* 형태소 분석 기반 필터링\n",
        "* 데이터 후처리\n"
      ],
      "metadata": {
        "id": "WgohnZYnPAVS"
      }
    },
    {
      "cell_type": "code",
      "source": [
        "!pip install konlpy"
      ],
      "metadata": {
        "colab": {
          "base_uri": "https://localhost:8080/"
        },
        "id": "tBMpZ2skPMg2",
        "outputId": "940ebfe9-d3f4-4692-9ad1-c6db53ac184b"
      },
      "execution_count": 43,
      "outputs": [
        {
          "output_type": "stream",
          "name": "stdout",
          "text": [
            "Looking in indexes: https://pypi.org/simple, https://us-python.pkg.dev/colab-wheels/public/simple/\n",
            "Collecting konlpy\n",
            "  Downloading konlpy-0.6.0-py2.py3-none-any.whl (19.4 MB)\n",
            "\u001b[2K     \u001b[90m━━━━━━━━━━━━━━━━━━━━━━━━━━━━━━━━━━━━━━━━\u001b[0m \u001b[32m19.4/19.4 MB\u001b[0m \u001b[31m42.6 MB/s\u001b[0m eta \u001b[36m0:00:00\u001b[0m\n",
            "\u001b[?25hCollecting JPype1>=0.7.0 (from konlpy)\n",
            "  Downloading JPype1-1.4.1-cp310-cp310-manylinux_2_12_x86_64.manylinux2010_x86_64.whl (465 kB)\n",
            "\u001b[2K     \u001b[90m━━━━━━━━━━━━━━━━━━━━━━━━━━━━━━━━━━━━━━\u001b[0m \u001b[32m465.3/465.3 kB\u001b[0m \u001b[31m26.6 MB/s\u001b[0m eta \u001b[36m0:00:00\u001b[0m\n",
            "\u001b[?25hRequirement already satisfied: lxml>=4.1.0 in /usr/local/lib/python3.10/dist-packages (from konlpy) (4.9.2)\n",
            "Requirement already satisfied: numpy>=1.6 in /usr/local/lib/python3.10/dist-packages (from konlpy) (1.22.4)\n",
            "Requirement already satisfied: packaging in /usr/local/lib/python3.10/dist-packages (from JPype1>=0.7.0->konlpy) (23.1)\n",
            "Installing collected packages: JPype1, konlpy\n",
            "Successfully installed JPype1-1.4.1 konlpy-0.6.0\n"
          ]
        }
      ]
    },
    {
      "cell_type": "code",
      "source": [
        "!pip install mecab-python"
      ],
      "metadata": {
        "colab": {
          "base_uri": "https://localhost:8080/"
        },
        "id": "5LjMHURbUfny",
        "outputId": "4677494a-cad1-4bba-9a2b-283bc50ad1a0"
      },
      "execution_count": 44,
      "outputs": [
        {
          "output_type": "stream",
          "name": "stdout",
          "text": [
            "Looking in indexes: https://pypi.org/simple, https://us-python.pkg.dev/colab-wheels/public/simple/\n",
            "Collecting mecab-python\n",
            "  Downloading mecab-python-1.0.0.tar.gz (1.3 kB)\n",
            "  Preparing metadata (setup.py) ... \u001b[?25l\u001b[?25hdone\n",
            "Collecting mecab-python3 (from mecab-python)\n",
            "  Downloading mecab_python3-1.0.6-cp310-cp310-manylinux_2_17_x86_64.manylinux2014_x86_64.whl (581 kB)\n",
            "\u001b[2K     \u001b[90m━━━━━━━━━━━━━━━━━━━━━━━━━━━━━━━━━━━━━━\u001b[0m \u001b[32m581.6/581.6 kB\u001b[0m \u001b[31m11.2 MB/s\u001b[0m eta \u001b[36m0:00:00\u001b[0m\n",
            "\u001b[?25hBuilding wheels for collected packages: mecab-python\n",
            "  Building wheel for mecab-python (setup.py) ... \u001b[?25l\u001b[?25hdone\n",
            "  Created wheel for mecab-python: filename=mecab_python-1.0.0-py3-none-any.whl size=1232 sha256=1ba2663e987df26f88e7747af631b920d4c7b7f9e534952c9bade27afd5ac038\n",
            "  Stored in directory: /root/.cache/pip/wheels/ec/41/c8/ce8fb469be2547ce596c4000613806505dc54c296aae45da71\n",
            "Successfully built mecab-python\n",
            "Installing collected packages: mecab-python3, mecab-python\n",
            "Successfully installed mecab-python-1.0.0 mecab-python3-1.0.6\n"
          ]
        }
      ]
    },
    {
      "cell_type": "code",
      "source": [
        "from konlpy.tag import Mecab\n"
      ],
      "metadata": {
        "id": "gwvvHyplT35G"
      },
      "execution_count": 45,
      "outputs": []
    },
    {
      "cell_type": "code",
      "source": [
        "!bash <(curl -s https://raw.githubusercontent.com/konlpy/konlpy/master/scripts/mecab.sh)"
      ],
      "metadata": {
        "colab": {
          "base_uri": "https://localhost:8080/"
        },
        "id": "1HU96atiUiCT",
        "outputId": "f5eaa649-4e2c-4a39-8f7e-5484ca527674"
      },
      "execution_count": 46,
      "outputs": [
        {
          "output_type": "stream",
          "name": "stdout",
          "text": [
            "mecab-ko is already installed\n",
            "mecab-ko-dic is already installed\n",
            "mecab-python is already installed\n",
            "Done.\n"
          ]
        }
      ]
    },
    {
      "cell_type": "code",
      "source": [
        "mecab = Mecab()\n",
        "morphs = mecab.pos('아버지가방에들어가신다', join=False)\n",
        "print(morphs)"
      ],
      "metadata": {
        "colab": {
          "base_uri": "https://localhost:8080/"
        },
        "id": "xj5iUE-bPtPh",
        "outputId": "8f7a6058-0da7-466e-c9d3-e1a9d27bbfdf"
      },
      "execution_count": 47,
      "outputs": [
        {
          "output_type": "stream",
          "name": "stdout",
          "text": [
            "[('아버지', 'NNG'), ('가', 'JKS'), ('방', 'NNG'), ('에', 'JKB'), ('들어가', 'VV'), ('신다', 'EP+EC')]\n"
          ]
        }
      ]
    },
    {
      "cell_type": "code",
      "source": [
        "# 명사(NN), 동사(V), 형용사(J)의 포함 여부에 따라 문장 필터링\n",
        "def morph_filter(context):\n",
        "    NN_TAGS = ['NNG', 'NNP', 'NNB', 'NP']\n",
        "    V_TAGS = ['VV', 'VA', 'VX', 'VCP', 'VCN', 'XSN', 'XSA', 'XSV']\n",
        "    J_TAGS = ['JKS', 'J', 'JO', 'JK', 'JKC', 'JKG', 'JKB', 'JKV', 'JKQ',\n",
        "                'JX', 'JC', 'JKI', 'JKO', 'JKM', 'ETM']\n",
        "    preprocessed_text = []\n",
        "    for text in context:\n",
        "        morphs = mecab.pos(text, join=False)\n",
        "        nn_flag = False\n",
        "        v_flag = False\n",
        "        j_flag = False\n",
        "        print(morphs)\n",
        "        for morph in morphs:\n",
        "            pos_tags = morph[1].split(\"+\")\n",
        "            for pos_tag in pos_tags:\n",
        "                if not nn_flag and pos_tag in NN_TAGS:\n",
        "                    nn_flag = True\n",
        "                if not v_flag and pos_tag in V_TAGS:\n",
        "                    v_flag = True\n",
        "                if not j_flag and pos_tag in J_TAGS:\n",
        "                    j_flag = True\n",
        "            if nn_flag and v_flag and j_flag:\n",
        "                preprocessed_text.append(text)\n",
        "                break\n",
        "    return preprocessed_text"
      ],
      "metadata": {
        "id": "3XIREjQ1U3NJ"
      },
      "execution_count": 48,
      "outputs": []
    },
    {
      "cell_type": "code",
      "source": [
        "post_preprocessed_text = morph_filter(preprocessed_context)"
      ],
      "metadata": {
        "colab": {
          "base_uri": "https://localhost:8080/"
        },
        "id": "ACOdt21JWwHP",
        "outputId": "626c95ca-5b56-4ba9-d381-66768fc8d2bb"
      },
      "execution_count": 49,
      "outputs": [
        {
          "output_type": "stream",
          "name": "stdout",
          "text": [
            "[('아이언맨', 'NNP')]\n",
            "[('할리우드', 'NNP'), ('배우', 'NNG'), ('로버트', 'NNP'), ('다우니', 'NNP'), ('주니어', 'NNP'), ('가', 'JKS'), ('최근', 'NNG'), ('자신', 'NNG'), ('의', 'JKG'), ('대표작', 'NNG'), ('인', 'VCP+ETM'), (\"'\", 'SY'), ('아이언맨', 'NNP'), ('4', 'SN'), (\"'\", 'SY'), ('출연', 'NNG'), ('에', 'JKB'), ('대한', 'VV+ETM'), ('의견', 'NNG'), ('을', 'JKO'), ('밝혔', 'VV+EP'), ('습니다', 'EF'), ('.', 'SF')]\n",
            "[('아이언맨', 'NNP'), ('은', 'JX'), (\"'\", 'SY'), ('어벤져스', 'NNG'), (':', 'SC'), ('엔드게임', 'NNP'), (\"'\", 'SY'), ('에서', 'JKB'), ('자신', 'NNG'), ('을', 'JKO'), ('희생', 'NNG'), ('해', 'XSV+EC'), ('인류', 'NNG'), ('를', 'JKO'), ('구하', 'VV'), ('는', 'ETM'), ('모습', 'NNG'), ('으로', 'JKB'), ('퇴장', 'NNG'), ('했으며', 'XSV+EP+EC'), (',', 'SC'), ('로', 'JKB'), ('다주', 'NNG'), ('역시', 'MAJ'), ('해당', 'NNG'), ('캐릭터', 'NNG'), ('의', 'JKG'), ('은퇴', 'NNG'), ('를', 'JKO'), ('선언', 'NNG'), ('했', 'XSV+EP'), ('는데요', 'EF'), ('.', 'SF')]\n",
            "[('아이언맨', 'NNP')]\n",
            "[('하지만', 'MAJ'), (\"'\", 'SY'), ('아이언맨', 'NNP'), ('4', 'SN'), (\"'\", 'SY'), ('의', 'JKG'), ('제작', 'NNG'), ('가능', 'NNG'), ('성', 'XSN'), ('과', 'JC'), ('그', 'NP'), ('의', 'JKG'), ('복귀', 'NNG'), ('에', 'JKB'), ('대한', 'VV+ETM'), ('미련', 'NNG'), ('을', 'JKO'), ('버리', 'VV'), ('지', 'EC'), ('못하', 'VX'), ('는', 'ETM'), ('팬', 'NNG'), ('들', 'XSN'), ('이', 'JKS'), ('무척', 'MAG'), ('많', 'VA'), ('은', 'ETM'), ('것', 'NNB'), ('도', 'JX'), (',', 'SC'), ('그', 'NP'), ('가', 'JKS'), ('아이언맨', 'NNP'), ('으로', 'JKB'), ('복귀', 'NNG'), ('할지', 'XSV+EC'), ('모른다는', 'VV+ETM'), ('이야기', 'NNG'), ('가', 'JKS'), ('나올', 'VV+ETM'), ('때', 'NNG'), ('마다', 'JX'), ('많', 'VA'), ('은', 'ETM'), ('팬', 'NNG'), ('들', 'XSN'), ('이', 'JKS'), ('설레', 'VV'), ('어', 'EC'), ('하', 'VV'), ('는', 'ETM'), ('것', 'NNB'), ('도', 'JX'), ('사실', 'NNG'), ('입니다', 'VCP+EF'), ('.', 'SF')]\n",
            "[('트', 'NNG'), ('로', 'JKB'), ('픽', 'IC'), ('썬더', 'NNP')]\n",
            "[('해외', 'NNG'), ('연예', 'NNG'), ('매체', 'NNG'), ('무비', 'NNG'), ('웹', 'NNG'), ('은', 'JX'), ('최근', 'NNG'), ('로', 'JKB'), ('다주', 'NNG'), ('한', 'XSA+ETM'), ('인터뷰', 'NNG'), ('에서', 'JKB'), ('\"', 'SY'), ('톰', 'NNP'), ('크루즈', 'NNP'), ('가', 'JKS'), ('2008', 'SN'), ('년', 'NNBC'), ('작', 'NNG'), (\"'\", 'SY'), ('트', 'NNG'), ('로', 'JKB'), ('픽', 'IC'), ('썬더', 'NNP'), (\"'\", 'SY'), ('속편', 'NNG'), ('제작', 'NNG'), ('을', 'JKO'), ('하', 'VV'), ('고', 'EC'), ('싶', 'VX'), ('어', 'EC'), ('한다', 'VX+EC'), ('\"', 'SY'), ('는', 'JX'), ('농담', 'NNG'), ('에', 'JKB'), ('\"', 'SY'), ('나', 'NP'), ('는', 'JX'), ('찬성', 'NNG'), ('\"', 'SY'), ('이', 'VCP'), ('라며', 'EC'), ('웃', 'VV'), ('으며', 'EC'), ('동조', 'NNG'), ('했', 'XSV+EP'), ('다고', 'EC'), ('밝혔', 'VV+EP'), ('습니다', 'EF'), ('.', 'SF')]\n",
            "[('또한', 'MAJ'), ('그', 'NP'), ('는', 'JX'), ('\"\\'', 'SY'), ('아이언맨', 'NNP'), ('4', 'SN'), (\"'\", 'SY'), ('로', 'JKB'), ('복귀', 'NNG'), ('하', 'XSV'), ('고', 'EC'), ('싶', 'VX'), ('나', 'EF'), ('?', 'SF'), ('\"', 'SY'), ('라는', 'VCP+ETM'), ('질문', 'NNG'), ('에', 'JKB'), ('\"', 'SY'), ('오', 'IC'), (',', 'SC'), ('그것', 'NP'), ('도', 'JX'), ('톰', 'NNP'), ('크루즈', 'NNP'), ('가', 'JKS'), ('희망', 'NNG'), ('하', 'XSV'), ('는', 'ETM'), ('거', 'NNB'), ('냐', 'VCP+EC'), ('\"', 'SY'), ('라고', 'JKQ'), ('반문', 'NNG'), ('한데', 'NNG'), ('이', 'VCP'), ('어', 'EF'), (',', 'SC'), ('\"', 'SY'), ('톰', 'NNG'), (',', 'SC'), ('받', 'VV'), ('지', 'EC'), ('마', 'VX+EF'), ('!', 'SF'), ('가져', 'VV+EC'), ('가지', 'VX'), ('마', 'EF'), ('!', 'SF'), ('\"', 'SY'), ('라며', 'VCP+EC'), ('톰', 'NNP'), ('크루즈', 'NNP'), ('가', 'JKS'), ('아이언맨', 'NNP'), ('수트', 'NNP'), ('를', 'JKO'), ('입', 'VV'), ('는', 'ETM'), ('것', 'NNB'), ('에', 'JKB'), ('대해', 'VV+EC'), ('경고', 'NNG'), ('했', 'XSV+EP'), ('습니다', 'EF'), ('.', 'SF')]\n",
            "[('온라인', 'NNG'), ('커뮤니티', 'NNG')]\n",
            "[('사실', 'MAG'), ('톰', 'NNP'), ('크루즈', 'NNP'), ('가', 'JKS'), ('마블', 'NNG'), ('시네마', 'NNG'), ('틱', 'XSN'), ('유니버스', 'NNP'), ('에', 'JKB'), ('합류', 'NNG'), ('한다는', 'XSV+ETM'), ('루머', 'NNG'), ('는', 'JX'), (\"'\", 'SY'), ('닥터', 'NNP'), ('스트레인지', 'NNP'), ('2', 'SN'), (\"'\", 'SY'), ('개봉', 'NNG'), ('즈음', 'NNB'), ('부터', 'JX'), ('꾸준히', 'MAG'), ('제기', 'NNG'), ('되', 'XSV'), ('고', 'EC'), ('있', 'VX'), ('는', 'ETM'), ('상황', 'NNG'), ('.', 'SF')]\n",
            "[('이', 'MM'), ('때문', 'NNB'), ('에', 'JKB'), (\"'\", 'SY'), ('제', 'XPN'), ('2', 'SN'), ('의', 'JKG'), ('아이언맨', 'NNP'), (\"'\", 'SY'), ('탄생', 'NNG'), ('이', 'VCP'), ('라는', 'ETM'), ('수식어', 'NNG'), ('가', 'JKS'), ('붙', 'VV'), ('기', 'ETN'), ('도', 'JX'), ('했었', 'VV+EP'), ('는데요', 'EF'), ('.', 'SF')]\n",
            "[('온라인', 'NNG'), ('커뮤니티', 'NNG')]\n",
            "[('로버트', 'NNP'), ('다우니', 'NNP'), ('주니어', 'NNP'), ('는', 'JX'), ('MU', 'SL'), ('복귀', 'NNG'), ('에', 'JKB'), ('대한', 'VV+ETM'), ('질문', 'NNG'), ('에', 'JKB'), ('농담', 'NNG'), ('으로', 'JKB'), ('넘어가', 'VV'), ('면서', 'EC'), ('명확', 'XR'), ('하', 'XSA'), ('게', 'EC'), ('선', 'NNG'), ('을', 'JKO'), ('긋', 'VV'), ('는', 'ETM'), ('모습', 'NNG'), ('으로', 'JKB'), (',', 'SC'), ('복귀', 'NNG'), ('하', 'XSV'), ('지', 'EC'), ('않', 'VX'), ('을', 'ETM'), ('것', 'NNB'), ('임', 'VCP+ETN'), ('을', 'JKO'), ('시사', 'NNG'), ('했', 'XSV+EP'), ('습니다', 'EF'), ('.', 'SF')]\n",
            "[('한편', 'NNG'), ('톰', 'NNP'), ('크루즈', 'NNP'), ('역시', 'MAJ'), ('마블', 'NNG'), ('합류', 'NNG'), ('루머', 'NNG'), ('에', 'JKB'), ('대해', 'VV+EC'), ('부인', 'NNG'), ('하', 'XSV'), ('는', 'ETM'), ('입장', 'NNG'), ('을', 'JKO'), ('밝힌', 'VV+ETM'), ('적', 'NNB'), ('있', 'VA'), ('습니다', 'EF'), ('.', 'SF')]\n",
            "[('어벤져스', 'NNG'), ('인피니티', 'NNP'), ('워', 'NNG')]\n",
            "[('그', 'NP'), ('는', 'JX'), ('\"', 'SY'), ('나', 'NP'), ('는', 'JX'), ('로버트', 'NNP'), ('다우니', 'NNP'), ('주니어', 'NNG'), ('를', 'JKO'), ('좋아한다', 'VV+EF'), ('.', 'SF'), ('그', 'NP'), ('가', 'JKS'), ('아닌', 'VCN+ETM'), ('다른', 'MM'), ('사람', 'NNG'), ('이', 'JKS'), ('아이언맨', 'NNP'), ('을', 'JKO'), ('맡', 'VV'), ('는다는', 'ETM'), ('것', 'NNB'), ('은', 'JX'), ('상상', 'NNG'), ('조차', 'JX'), ('할', 'VV+ETM'), ('수', 'NNB'), ('없', 'VA'), ('다', 'EF'), ('.', 'SF'), ('아이언맨', 'NNP'), ('은', 'JX'), ('로버트', 'NNP'), ('다우니', 'NNP'), ('주니어', 'NNG'), ('를', 'JKO'), ('위한', 'VV+ETM'), ('캐릭', 'NNG'), ('터다', 'NNP'), ('\"', 'SY'), ('라고', 'JKQ'), ('말', 'NNG'), ('하', 'XSV'), ('며', 'EC'), ('존중', 'NNG'), ('의', 'JKG'), ('의사', 'NNG'), ('를', 'JKO'), ('표현', 'NNG'), ('하', 'XSV'), ('기', 'ETN'), ('도', 'JX'), ('했', 'VV+EP'), ('습니다', 'EF'), ('.', 'SF')]\n",
            "[('아이언맨', 'NNP')]\n",
            "[('실제로', 'MAG'), ('톰', 'NNP'), ('크루즈', 'NNP'), ('는', 'JX'), ('지난', 'VV+ETM'), ('2005', 'SN'), ('년', 'NNBC'), (\"'\", 'SY'), ('아이언맨', 'NNP'), (\"'\", 'SY'), ('1', 'SN'), ('편', 'NNBC'), ('에', 'JKB'), ('캐스팅', 'NNG'), ('제안', 'NNG'), ('을', 'JKO'), ('받', 'VV'), ('았', 'EP'), ('지만', 'EC'), ('제대로', 'MAG'), ('소화', 'NNG'), ('하', 'XSV'), ('지', 'EC'), ('못할', 'VX+ETM'), ('것', 'NNB'), ('같', 'VA'), ('다는', 'ETM'), ('이유', 'NNG'), ('로', 'JKB'), ('거절', 'NNG'), ('했', 'XSV+EP'), ('다고', 'EC'), ('알려져', 'VV+EC+VX+EC'), ('있', 'VX'), ('는데요', 'EF'), ('.', 'SF')]\n",
            "[('온라인', 'NNG'), ('커뮤니티', 'NNG')]\n",
            "[('과연', 'MAG'), ('MU', 'SL'), ('에', 'JKB'), ('새로운', 'VA+ETM'), ('아이언맨', 'NNP'), ('이', 'JKS'), ('등장', 'NNG'), ('할지', 'XSV+EF'), (',', 'SC'), ('마블', 'NNG'), ('과', 'JC'), ('다우니', 'NNP'), ('주니어', 'NNP'), ('가', 'JKS'), ('극', 'NNG'), ('적', 'XSN'), ('으로', 'JKB'), ('화해', 'NNG'), ('하', 'XSV'), ('고', 'EC'), ('다시', 'MAG'), ('합류', 'NNG'), ('할', 'XSV+ETM'), ('가능', 'NNG'), ('성', 'XSN'), ('은', 'JX'), ('없', 'VA'), ('을지', 'EC'), ('팬', 'NNG'), ('들', 'XSN'), ('의', 'JKG'), ('실낱', 'NNG'), ('같', 'VA'), ('은', 'ETM'), ('기대', 'NNG'), ('는', 'JX'), ('이어지', 'VV'), ('고', 'EC'), ('있', 'VX'), ('습니다', 'EF'), ('.', 'SF')]\n",
            "[('기자', 'NNG'), ('김사과', 'NNP'), ('(', 'SSO'), (')', 'SSC'), ('취재', 'NNG'), ('반', 'NNG'), ('하나', 'NR'), ('(', 'SSO'), (')', 'SSC')]\n",
            "[('톰', 'NNP'), ('크루즈', 'NNP'), ('가', 'JKS'), ('연기', 'NNG'), ('하', 'XSV'), ('는', 'ETM'), ('아이언맨', 'NNP'), (\"'\", 'SY'), ('결사반대', 'NNG'), (\"'\", 'SY'), ('한다는', 'XSV+ETM'), ('로', 'JKB'), ('다주', 'NNG')]\n",
            "[('이', 'MM'), ('기사', 'NNG'), ('는', 'JX'), ('임시', 'NNG'), ('데이터', 'NNG'), ('임', 'VCP+ETN'), ('을', 'JKO'), ('알림', 'VV+ETN'), ('니다', 'EC')]\n",
            "[('Pressian', 'SL'), ('.', 'SY'), ('com', 'SL')]\n",
            "[('이', 'MM'), ('기사', 'NNG'), ('는', 'JX'), ('문화', 'NNG'), ('섹션', 'NNG'), ('으로', 'JKB'), ('분류', 'NNG'), ('했', 'XSV+EP'), ('습니다', 'EF')]\n"
          ]
        }
      ]
    },
    {
      "cell_type": "code",
      "source": [
        "for i, text in enumerate(preprocessed_context):\n",
        "    print(i, text)"
      ],
      "metadata": {
        "colab": {
          "base_uri": "https://localhost:8080/"
        },
        "id": "t9nSlIYDZtnM",
        "outputId": "c0b50f73-e7b7-41c6-b98c-372ff20d8847"
      },
      "execution_count": 50,
      "outputs": [
        {
          "output_type": "stream",
          "name": "stdout",
          "text": [
            "0 아이언맨\n",
            "1 할리우드 배우 로버트 다우니 주니어가 최근 자신의 대표작인 '아이언맨 4' 출연에 대한 의견을 밝혔습니다.\n",
            "2 아이언맨은 '어벤져스: 엔드게임'에서 자신을 희생해 인류를 구하는 모습으로 퇴장했으며, 로다주 역시 해당 캐릭터의 은퇴를 선언했는데요.\n",
            "3 아이언맨\n",
            "4 하지만 '아이언맨 4'의 제작 가능성과 그의 복귀에 대한 미련을 버리지 못하는 팬들이 무척 많은 것도, 그가 아이언맨으로 복귀할지 모른다는 이야기가 나올때마다 많은 팬들이 설레어하는 것도 사실입니다.\n",
            "5 트로픽 썬더\n",
            "6 해외 연예 매체 무비웹은 최근 로다주 한 인터뷰에서 \"톰 크루즈가 2008년작 '트로픽 썬더' 속편 제작을 하고 싶어한다\"는 농담에 \"나는 찬성\"이라며 웃으며 동조했다고 밝혔습니다.\n",
            "7 또한 그는 \"'아이언맨 4'로 복귀하고 싶나?\"라는 질문에 \"오, 그것도 톰 크루즈가 희망하는 거냐\"라고 반문한데 이어, \"톰, 받지 마! 가져가지 마!\"라며 톰 크루즈가 아이언맨 수트를 입는 것에 대해 경고했습니다.\n",
            "8 온라인 커뮤니티\n",
            "9 사실 톰 크루즈가 마블 시네마틱 유니버스에 합류한다는 루머는 '닥터스트레인지 2' 개봉 즈음부터 꾸준히 제기되고 있는 상황.\n",
            "10 이 때문에 '제2의 아이언맨' 탄생이라는 수식어가 붙기도 했었는데요.\n",
            "11 온라인 커뮤니티\n",
            "12 로버트 다우니 주니어는 MU 복귀에 대한 질문에 농담으로 넘어가면서 명확하게 선을 긋는 모습으로, 복귀하지 않을 것임을 시사했습니다.\n",
            "13 한편 톰 크루즈 역시 마블 합류 루머에 대해 부인하는 입장을 밝힌 적 있습니다.\n",
            "14 어벤져스 인피니티워\n",
            "15 그는 \"나는 로버트 다우니 주니어를 좋아한다. 그가 아닌 다른 사람이 아이언맨을 맡는다는 것은 상상조차 할 수 없다. 아이언맨은 로버트 다우니 주니어를 위한 캐릭터다\"라고 말하며 존중의 의사를 표현하기도 했습니다.\n",
            "16 아이언맨\n",
            "17 실제로 톰 크루즈는 지난 2005년 '아이언맨' 1편에 캐스팅 제안을 받았지만 제대로 소화하지 못할 것 같다는 이유로 거절했다고 알려져있는데요.\n",
            "18 온라인 커뮤니티\n",
            "19 과연 MU에 새로운 아이언맨이 등장할지, 마블과 다우니 주니어가 극적으로 화해하고 다시 합류 할 가능성은 없을지 팬들의 실낱같은 기대는 이어지고 있습니다.\n",
            "20 기자 김사과() 취재 반하나()\n",
            "21 톰 크루즈가 연기하는 아이언맨 '결사반대'한다는 로다주\n",
            "22 이 기사는 임시 데이터임을 알림니다\n",
            "23 Pressian.com\n",
            "24 이 기사는 문화 섹션으로 분류 했습니다\n"
          ]
        }
      ]
    },
    {
      "cell_type": "code",
      "source": [
        "morph_filter(['아버지가방에들어가신다'])"
      ],
      "metadata": {
        "colab": {
          "base_uri": "https://localhost:8080/"
        },
        "id": "Bq_nZpSQai2E",
        "outputId": "f163e1b4-0559-4e53-8aff-2e6d3601df1e"
      },
      "execution_count": 51,
      "outputs": [
        {
          "output_type": "stream",
          "name": "stdout",
          "text": [
            "[('아버지', 'NNG'), ('가', 'JKS'), ('방', 'NNG'), ('에', 'JKB'), ('들어가', 'VV'), ('신다', 'EP+EC')]\n"
          ]
        },
        {
          "output_type": "execute_result",
          "data": {
            "text/plain": [
              "['아버지가방에들어가신다']"
            ]
          },
          "metadata": {},
          "execution_count": 51
        }
      ]
    },
    {
      "cell_type": "code",
      "source": [
        "morph_filter(['아버지 가방'])"
      ],
      "metadata": {
        "colab": {
          "base_uri": "https://localhost:8080/"
        },
        "id": "g594quqoawz9",
        "outputId": "9cb878fc-fdd8-4212-b33a-458f3f61d3ed"
      },
      "execution_count": 52,
      "outputs": [
        {
          "output_type": "stream",
          "name": "stdout",
          "text": [
            "[('아버지', 'NNG'), ('가방', 'NNG')]\n"
          ]
        },
        {
          "output_type": "execute_result",
          "data": {
            "text/plain": [
              "[]"
            ]
          },
          "metadata": {},
          "execution_count": 52
        }
      ]
    },
    {
      "cell_type": "markdown",
      "source": [
        "### 7-10. 문장 길이 기반 필터링"
      ],
      "metadata": {
        "id": "lZJO0sqya_pH"
      }
    },
    {
      "cell_type": "code",
      "source": [
        "def min_max_filter(min_len, max_len, context):\n",
        "  preprocessed_text = []\n",
        "  for text in context:\n",
        "    if min_len < len(text) and len(text) < max_len:\n",
        "      preprocessed_text.append(text)\n",
        "  return preprocessed_text"
      ],
      "metadata": {
        "id": "JdOdWs0ydF3A"
      },
      "execution_count": 53,
      "outputs": []
    },
    {
      "cell_type": "code",
      "source": [
        "post_preprocessed_context = min_max_filter(20, 60, preprocessed_context)\n"
      ],
      "metadata": {
        "id": "1R1dOdqYbjJq"
      },
      "execution_count": 54,
      "outputs": []
    },
    {
      "cell_type": "code",
      "source": [
        "for i, text in enumerate(post_preprocessed_context):\n",
        "    print(i, text)"
      ],
      "metadata": {
        "colab": {
          "base_uri": "https://localhost:8080/"
        },
        "id": "LK-rWH3adlrc",
        "outputId": "ee674052-8727-4eeb-fb9c-7fd1dca5d16e"
      },
      "execution_count": 55,
      "outputs": [
        {
          "output_type": "stream",
          "name": "stdout",
          "text": [
            "0 할리우드 배우 로버트 다우니 주니어가 최근 자신의 대표작인 '아이언맨 4' 출연에 대한 의견을 밝혔습니다.\n",
            "1 이 때문에 '제2의 아이언맨' 탄생이라는 수식어가 붙기도 했었는데요.\n",
            "2 한편 톰 크루즈 역시 마블 합류 루머에 대해 부인하는 입장을 밝힌 적 있습니다.\n",
            "3 톰 크루즈가 연기하는 아이언맨 '결사반대'한다는 로다주\n",
            "4 이 기사는 문화 섹션으로 분류 했습니다\n"
          ]
        }
      ]
    },
    {
      "cell_type": "markdown",
      "source": [
        "### 7-11. 토큰화\n"
      ],
      "metadata": {
        "id": "-A-vv9mEd4Rh"
      }
    },
    {
      "cell_type": "code",
      "source": [
        "from tensorflow.keras.preprocessing.text import Tokenizer"
      ],
      "metadata": {
        "id": "TXLRYPI4d7Z-"
      },
      "execution_count": 56,
      "outputs": []
    },
    {
      "cell_type": "code",
      "source": [
        "tokenizer = Tokenizer()  # create an instance of Tokenizer\n",
        "tokenizer.fit_on_texts(post_preprocessed_context)\n"
      ],
      "metadata": {
        "id": "Q9Qv1q_3e4Xb"
      },
      "execution_count": 57,
      "outputs": []
    },
    {
      "cell_type": "code",
      "source": [
        "tokenizer"
      ],
      "metadata": {
        "colab": {
          "base_uri": "https://localhost:8080/"
        },
        "id": "hl8LPOg_fF98",
        "outputId": "48995056-e52c-42cd-9870-b598c088d59b"
      },
      "execution_count": 58,
      "outputs": [
        {
          "output_type": "execute_result",
          "data": {
            "text/plain": [
              "<keras.preprocessing.text.Tokenizer at 0x7f327db007c0>"
            ]
          },
          "metadata": {},
          "execution_count": 58
        }
      ]
    },
    {
      "cell_type": "code",
      "source": [
        "word2idx = tokenizer.word_index\n",
        "# word2idx\n",
        "idx2word = {value : key for key, value in word2idx.items()}\n",
        "# idx2word\n",
        "encoded = tokenizer.texts_to_sequences(post_preprocessed_context)"
      ],
      "metadata": {
        "id": "UuzMNekNfQxG"
      },
      "execution_count": 59,
      "outputs": []
    },
    {
      "cell_type": "code",
      "source": [
        "vocab_size = len(word2idx) + 1\n",
        "print(f'단어 사전의 크기: {vocab_size}')"
      ],
      "metadata": {
        "colab": {
          "base_uri": "https://localhost:8080/"
        },
        "id": "1DmMuya7f2T3",
        "outputId": "abae4e61-82b0-4e24-c9ea-32b7243c136c"
      },
      "execution_count": 60,
      "outputs": [
        {
          "output_type": "stream",
          "name": "stdout",
          "text": [
            "단어 사전의 크기: 46\n"
          ]
        }
      ]
    },
    {
      "cell_type": "code",
      "source": [
        "print(encoded[0])"
      ],
      "metadata": {
        "colab": {
          "base_uri": "https://localhost:8080/"
        },
        "id": "ee2gWcYUgMBi",
        "outputId": "0351815b-4051-4645-988b-cc19a6023c89"
      },
      "execution_count": 61,
      "outputs": [
        {
          "output_type": "stream",
          "name": "stdout",
          "text": [
            "[3, 4, 5, 6, 7, 8, 9, 10, 11, 12, 13, 14, 15, 16]\n"
          ]
        }
      ]
    }
  ]
}