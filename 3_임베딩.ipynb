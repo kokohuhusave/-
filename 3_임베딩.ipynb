{
  "nbformat": 4,
  "nbformat_minor": 0,
  "metadata": {
    "colab": {
      "provenance": []
    },
    "kernelspec": {
      "name": "python3",
      "display_name": "Python 3"
    },
    "language_info": {
      "name": "python"
    },
    "widgets": {
      "application/vnd.jupyter.widget-state+json": {
        "127c2eb1d7614842bd3013cfad37ccd6": {
          "model_module": "@jupyter-widgets/controls",
          "model_name": "HBoxModel",
          "model_module_version": "1.5.0",
          "state": {
            "_dom_classes": [],
            "_model_module": "@jupyter-widgets/controls",
            "_model_module_version": "1.5.0",
            "_model_name": "HBoxModel",
            "_view_count": null,
            "_view_module": "@jupyter-widgets/controls",
            "_view_module_version": "1.5.0",
            "_view_name": "HBoxView",
            "box_style": "",
            "children": [
              "IPY_MODEL_6033c0a7de9847abbe6a852467ea2e9b",
              "IPY_MODEL_a0e01551233b407490c2f262ba309e0c",
              "IPY_MODEL_a0889e19f71f4177b4a2167b896c8d34"
            ],
            "layout": "IPY_MODEL_284bc1d1daf248d1b941741dd9670ac6"
          }
        },
        "6033c0a7de9847abbe6a852467ea2e9b": {
          "model_module": "@jupyter-widgets/controls",
          "model_name": "HTMLModel",
          "model_module_version": "1.5.0",
          "state": {
            "_dom_classes": [],
            "_model_module": "@jupyter-widgets/controls",
            "_model_module_version": "1.5.0",
            "_model_name": "HTMLModel",
            "_view_count": null,
            "_view_module": "@jupyter-widgets/controls",
            "_view_module_version": "1.5.0",
            "_view_name": "HTMLView",
            "description": "",
            "description_tooltip": null,
            "layout": "IPY_MODEL_fa7a5b44a9c94e978923fa78d193e69f",
            "placeholder": "​",
            "style": "IPY_MODEL_7349e46abf8744dc803a0db844506726",
            "value": "Downloading (…)lve/main/config.json: 100%"
          }
        },
        "a0e01551233b407490c2f262ba309e0c": {
          "model_module": "@jupyter-widgets/controls",
          "model_name": "FloatProgressModel",
          "model_module_version": "1.5.0",
          "state": {
            "_dom_classes": [],
            "_model_module": "@jupyter-widgets/controls",
            "_model_module_version": "1.5.0",
            "_model_name": "FloatProgressModel",
            "_view_count": null,
            "_view_module": "@jupyter-widgets/controls",
            "_view_module_version": "1.5.0",
            "_view_name": "ProgressView",
            "bar_style": "success",
            "description": "",
            "description_tooltip": null,
            "layout": "IPY_MODEL_c3d5c058b49e4bcaa10e02236ecfd5db",
            "max": 625,
            "min": 0,
            "orientation": "horizontal",
            "style": "IPY_MODEL_c6e1327358e34c72aeb0c7d7be0fc3fc",
            "value": 625
          }
        },
        "a0889e19f71f4177b4a2167b896c8d34": {
          "model_module": "@jupyter-widgets/controls",
          "model_name": "HTMLModel",
          "model_module_version": "1.5.0",
          "state": {
            "_dom_classes": [],
            "_model_module": "@jupyter-widgets/controls",
            "_model_module_version": "1.5.0",
            "_model_name": "HTMLModel",
            "_view_count": null,
            "_view_module": "@jupyter-widgets/controls",
            "_view_module_version": "1.5.0",
            "_view_name": "HTMLView",
            "description": "",
            "description_tooltip": null,
            "layout": "IPY_MODEL_553817d8590145cca998cd6f6732a207",
            "placeholder": "​",
            "style": "IPY_MODEL_55f20b4dcd71429796c5d42768810c4c",
            "value": " 625/625 [00:00&lt;00:00, 20.0kB/s]"
          }
        },
        "284bc1d1daf248d1b941741dd9670ac6": {
          "model_module": "@jupyter-widgets/base",
          "model_name": "LayoutModel",
          "model_module_version": "1.2.0",
          "state": {
            "_model_module": "@jupyter-widgets/base",
            "_model_module_version": "1.2.0",
            "_model_name": "LayoutModel",
            "_view_count": null,
            "_view_module": "@jupyter-widgets/base",
            "_view_module_version": "1.2.0",
            "_view_name": "LayoutView",
            "align_content": null,
            "align_items": null,
            "align_self": null,
            "border": null,
            "bottom": null,
            "display": null,
            "flex": null,
            "flex_flow": null,
            "grid_area": null,
            "grid_auto_columns": null,
            "grid_auto_flow": null,
            "grid_auto_rows": null,
            "grid_column": null,
            "grid_gap": null,
            "grid_row": null,
            "grid_template_areas": null,
            "grid_template_columns": null,
            "grid_template_rows": null,
            "height": null,
            "justify_content": null,
            "justify_items": null,
            "left": null,
            "margin": null,
            "max_height": null,
            "max_width": null,
            "min_height": null,
            "min_width": null,
            "object_fit": null,
            "object_position": null,
            "order": null,
            "overflow": null,
            "overflow_x": null,
            "overflow_y": null,
            "padding": null,
            "right": null,
            "top": null,
            "visibility": null,
            "width": null
          }
        },
        "fa7a5b44a9c94e978923fa78d193e69f": {
          "model_module": "@jupyter-widgets/base",
          "model_name": "LayoutModel",
          "model_module_version": "1.2.0",
          "state": {
            "_model_module": "@jupyter-widgets/base",
            "_model_module_version": "1.2.0",
            "_model_name": "LayoutModel",
            "_view_count": null,
            "_view_module": "@jupyter-widgets/base",
            "_view_module_version": "1.2.0",
            "_view_name": "LayoutView",
            "align_content": null,
            "align_items": null,
            "align_self": null,
            "border": null,
            "bottom": null,
            "display": null,
            "flex": null,
            "flex_flow": null,
            "grid_area": null,
            "grid_auto_columns": null,
            "grid_auto_flow": null,
            "grid_auto_rows": null,
            "grid_column": null,
            "grid_gap": null,
            "grid_row": null,
            "grid_template_areas": null,
            "grid_template_columns": null,
            "grid_template_rows": null,
            "height": null,
            "justify_content": null,
            "justify_items": null,
            "left": null,
            "margin": null,
            "max_height": null,
            "max_width": null,
            "min_height": null,
            "min_width": null,
            "object_fit": null,
            "object_position": null,
            "order": null,
            "overflow": null,
            "overflow_x": null,
            "overflow_y": null,
            "padding": null,
            "right": null,
            "top": null,
            "visibility": null,
            "width": null
          }
        },
        "7349e46abf8744dc803a0db844506726": {
          "model_module": "@jupyter-widgets/controls",
          "model_name": "DescriptionStyleModel",
          "model_module_version": "1.5.0",
          "state": {
            "_model_module": "@jupyter-widgets/controls",
            "_model_module_version": "1.5.0",
            "_model_name": "DescriptionStyleModel",
            "_view_count": null,
            "_view_module": "@jupyter-widgets/base",
            "_view_module_version": "1.2.0",
            "_view_name": "StyleView",
            "description_width": ""
          }
        },
        "c3d5c058b49e4bcaa10e02236ecfd5db": {
          "model_module": "@jupyter-widgets/base",
          "model_name": "LayoutModel",
          "model_module_version": "1.2.0",
          "state": {
            "_model_module": "@jupyter-widgets/base",
            "_model_module_version": "1.2.0",
            "_model_name": "LayoutModel",
            "_view_count": null,
            "_view_module": "@jupyter-widgets/base",
            "_view_module_version": "1.2.0",
            "_view_name": "LayoutView",
            "align_content": null,
            "align_items": null,
            "align_self": null,
            "border": null,
            "bottom": null,
            "display": null,
            "flex": null,
            "flex_flow": null,
            "grid_area": null,
            "grid_auto_columns": null,
            "grid_auto_flow": null,
            "grid_auto_rows": null,
            "grid_column": null,
            "grid_gap": null,
            "grid_row": null,
            "grid_template_areas": null,
            "grid_template_columns": null,
            "grid_template_rows": null,
            "height": null,
            "justify_content": null,
            "justify_items": null,
            "left": null,
            "margin": null,
            "max_height": null,
            "max_width": null,
            "min_height": null,
            "min_width": null,
            "object_fit": null,
            "object_position": null,
            "order": null,
            "overflow": null,
            "overflow_x": null,
            "overflow_y": null,
            "padding": null,
            "right": null,
            "top": null,
            "visibility": null,
            "width": null
          }
        },
        "c6e1327358e34c72aeb0c7d7be0fc3fc": {
          "model_module": "@jupyter-widgets/controls",
          "model_name": "ProgressStyleModel",
          "model_module_version": "1.5.0",
          "state": {
            "_model_module": "@jupyter-widgets/controls",
            "_model_module_version": "1.5.0",
            "_model_name": "ProgressStyleModel",
            "_view_count": null,
            "_view_module": "@jupyter-widgets/base",
            "_view_module_version": "1.2.0",
            "_view_name": "StyleView",
            "bar_color": null,
            "description_width": ""
          }
        },
        "553817d8590145cca998cd6f6732a207": {
          "model_module": "@jupyter-widgets/base",
          "model_name": "LayoutModel",
          "model_module_version": "1.2.0",
          "state": {
            "_model_module": "@jupyter-widgets/base",
            "_model_module_version": "1.2.0",
            "_model_name": "LayoutModel",
            "_view_count": null,
            "_view_module": "@jupyter-widgets/base",
            "_view_module_version": "1.2.0",
            "_view_name": "LayoutView",
            "align_content": null,
            "align_items": null,
            "align_self": null,
            "border": null,
            "bottom": null,
            "display": null,
            "flex": null,
            "flex_flow": null,
            "grid_area": null,
            "grid_auto_columns": null,
            "grid_auto_flow": null,
            "grid_auto_rows": null,
            "grid_column": null,
            "grid_gap": null,
            "grid_row": null,
            "grid_template_areas": null,
            "grid_template_columns": null,
            "grid_template_rows": null,
            "height": null,
            "justify_content": null,
            "justify_items": null,
            "left": null,
            "margin": null,
            "max_height": null,
            "max_width": null,
            "min_height": null,
            "min_width": null,
            "object_fit": null,
            "object_position": null,
            "order": null,
            "overflow": null,
            "overflow_x": null,
            "overflow_y": null,
            "padding": null,
            "right": null,
            "top": null,
            "visibility": null,
            "width": null
          }
        },
        "55f20b4dcd71429796c5d42768810c4c": {
          "model_module": "@jupyter-widgets/controls",
          "model_name": "DescriptionStyleModel",
          "model_module_version": "1.5.0",
          "state": {
            "_model_module": "@jupyter-widgets/controls",
            "_model_module_version": "1.5.0",
            "_model_name": "DescriptionStyleModel",
            "_view_count": null,
            "_view_module": "@jupyter-widgets/base",
            "_view_module_version": "1.2.0",
            "_view_name": "StyleView",
            "description_width": ""
          }
        },
        "d5ce4861e9ab471a9e5d8b65ed9b0524": {
          "model_module": "@jupyter-widgets/controls",
          "model_name": "HBoxModel",
          "model_module_version": "1.5.0",
          "state": {
            "_dom_classes": [],
            "_model_module": "@jupyter-widgets/controls",
            "_model_module_version": "1.5.0",
            "_model_name": "HBoxModel",
            "_view_count": null,
            "_view_module": "@jupyter-widgets/controls",
            "_view_module_version": "1.5.0",
            "_view_name": "HBoxView",
            "box_style": "",
            "children": [
              "IPY_MODEL_5dcd17bc2a444e6f9b33ed6fc78a903c",
              "IPY_MODEL_b6ce381ab4e2469589090dc44602425f",
              "IPY_MODEL_17e05b8bed7e4eccaf14a97e6799675e"
            ],
            "layout": "IPY_MODEL_6926873ef8b24323a3098f90d431b31a"
          }
        },
        "5dcd17bc2a444e6f9b33ed6fc78a903c": {
          "model_module": "@jupyter-widgets/controls",
          "model_name": "HTMLModel",
          "model_module_version": "1.5.0",
          "state": {
            "_dom_classes": [],
            "_model_module": "@jupyter-widgets/controls",
            "_model_module_version": "1.5.0",
            "_model_name": "HTMLModel",
            "_view_count": null,
            "_view_module": "@jupyter-widgets/controls",
            "_view_module_version": "1.5.0",
            "_view_name": "HTMLView",
            "description": "",
            "description_tooltip": null,
            "layout": "IPY_MODEL_76ec1a3e12c84775b0a3d92a59701b70",
            "placeholder": "​",
            "style": "IPY_MODEL_6141a46053034ad9a97e19c2ac89cf74",
            "value": "Downloading model.safetensors: 100%"
          }
        },
        "b6ce381ab4e2469589090dc44602425f": {
          "model_module": "@jupyter-widgets/controls",
          "model_name": "FloatProgressModel",
          "model_module_version": "1.5.0",
          "state": {
            "_dom_classes": [],
            "_model_module": "@jupyter-widgets/controls",
            "_model_module_version": "1.5.0",
            "_model_name": "FloatProgressModel",
            "_view_count": null,
            "_view_module": "@jupyter-widgets/controls",
            "_view_module_version": "1.5.0",
            "_view_name": "ProgressView",
            "bar_style": "success",
            "description": "",
            "description_tooltip": null,
            "layout": "IPY_MODEL_54319b051fc241c2b7502551045e05ba",
            "max": 714290682,
            "min": 0,
            "orientation": "horizontal",
            "style": "IPY_MODEL_980e6bcf2fb1459fbdf2fa8da4af8ddc",
            "value": 714290682
          }
        },
        "17e05b8bed7e4eccaf14a97e6799675e": {
          "model_module": "@jupyter-widgets/controls",
          "model_name": "HTMLModel",
          "model_module_version": "1.5.0",
          "state": {
            "_dom_classes": [],
            "_model_module": "@jupyter-widgets/controls",
            "_model_module_version": "1.5.0",
            "_model_name": "HTMLModel",
            "_view_count": null,
            "_view_module": "@jupyter-widgets/controls",
            "_view_module_version": "1.5.0",
            "_view_name": "HTMLView",
            "description": "",
            "description_tooltip": null,
            "layout": "IPY_MODEL_9937bffe59ab4155b026d7c5f15b7e44",
            "placeholder": "​",
            "style": "IPY_MODEL_ae47c034f99d4328b9017f05726a1b2c",
            "value": " 714M/714M [00:07&lt;00:00, 81.1MB/s]"
          }
        },
        "6926873ef8b24323a3098f90d431b31a": {
          "model_module": "@jupyter-widgets/base",
          "model_name": "LayoutModel",
          "model_module_version": "1.2.0",
          "state": {
            "_model_module": "@jupyter-widgets/base",
            "_model_module_version": "1.2.0",
            "_model_name": "LayoutModel",
            "_view_count": null,
            "_view_module": "@jupyter-widgets/base",
            "_view_module_version": "1.2.0",
            "_view_name": "LayoutView",
            "align_content": null,
            "align_items": null,
            "align_self": null,
            "border": null,
            "bottom": null,
            "display": null,
            "flex": null,
            "flex_flow": null,
            "grid_area": null,
            "grid_auto_columns": null,
            "grid_auto_flow": null,
            "grid_auto_rows": null,
            "grid_column": null,
            "grid_gap": null,
            "grid_row": null,
            "grid_template_areas": null,
            "grid_template_columns": null,
            "grid_template_rows": null,
            "height": null,
            "justify_content": null,
            "justify_items": null,
            "left": null,
            "margin": null,
            "max_height": null,
            "max_width": null,
            "min_height": null,
            "min_width": null,
            "object_fit": null,
            "object_position": null,
            "order": null,
            "overflow": null,
            "overflow_x": null,
            "overflow_y": null,
            "padding": null,
            "right": null,
            "top": null,
            "visibility": null,
            "width": null
          }
        },
        "76ec1a3e12c84775b0a3d92a59701b70": {
          "model_module": "@jupyter-widgets/base",
          "model_name": "LayoutModel",
          "model_module_version": "1.2.0",
          "state": {
            "_model_module": "@jupyter-widgets/base",
            "_model_module_version": "1.2.0",
            "_model_name": "LayoutModel",
            "_view_count": null,
            "_view_module": "@jupyter-widgets/base",
            "_view_module_version": "1.2.0",
            "_view_name": "LayoutView",
            "align_content": null,
            "align_items": null,
            "align_self": null,
            "border": null,
            "bottom": null,
            "display": null,
            "flex": null,
            "flex_flow": null,
            "grid_area": null,
            "grid_auto_columns": null,
            "grid_auto_flow": null,
            "grid_auto_rows": null,
            "grid_column": null,
            "grid_gap": null,
            "grid_row": null,
            "grid_template_areas": null,
            "grid_template_columns": null,
            "grid_template_rows": null,
            "height": null,
            "justify_content": null,
            "justify_items": null,
            "left": null,
            "margin": null,
            "max_height": null,
            "max_width": null,
            "min_height": null,
            "min_width": null,
            "object_fit": null,
            "object_position": null,
            "order": null,
            "overflow": null,
            "overflow_x": null,
            "overflow_y": null,
            "padding": null,
            "right": null,
            "top": null,
            "visibility": null,
            "width": null
          }
        },
        "6141a46053034ad9a97e19c2ac89cf74": {
          "model_module": "@jupyter-widgets/controls",
          "model_name": "DescriptionStyleModel",
          "model_module_version": "1.5.0",
          "state": {
            "_model_module": "@jupyter-widgets/controls",
            "_model_module_version": "1.5.0",
            "_model_name": "DescriptionStyleModel",
            "_view_count": null,
            "_view_module": "@jupyter-widgets/base",
            "_view_module_version": "1.2.0",
            "_view_name": "StyleView",
            "description_width": ""
          }
        },
        "54319b051fc241c2b7502551045e05ba": {
          "model_module": "@jupyter-widgets/base",
          "model_name": "LayoutModel",
          "model_module_version": "1.2.0",
          "state": {
            "_model_module": "@jupyter-widgets/base",
            "_model_module_version": "1.2.0",
            "_model_name": "LayoutModel",
            "_view_count": null,
            "_view_module": "@jupyter-widgets/base",
            "_view_module_version": "1.2.0",
            "_view_name": "LayoutView",
            "align_content": null,
            "align_items": null,
            "align_self": null,
            "border": null,
            "bottom": null,
            "display": null,
            "flex": null,
            "flex_flow": null,
            "grid_area": null,
            "grid_auto_columns": null,
            "grid_auto_flow": null,
            "grid_auto_rows": null,
            "grid_column": null,
            "grid_gap": null,
            "grid_row": null,
            "grid_template_areas": null,
            "grid_template_columns": null,
            "grid_template_rows": null,
            "height": null,
            "justify_content": null,
            "justify_items": null,
            "left": null,
            "margin": null,
            "max_height": null,
            "max_width": null,
            "min_height": null,
            "min_width": null,
            "object_fit": null,
            "object_position": null,
            "order": null,
            "overflow": null,
            "overflow_x": null,
            "overflow_y": null,
            "padding": null,
            "right": null,
            "top": null,
            "visibility": null,
            "width": null
          }
        },
        "980e6bcf2fb1459fbdf2fa8da4af8ddc": {
          "model_module": "@jupyter-widgets/controls",
          "model_name": "ProgressStyleModel",
          "model_module_version": "1.5.0",
          "state": {
            "_model_module": "@jupyter-widgets/controls",
            "_model_module_version": "1.5.0",
            "_model_name": "ProgressStyleModel",
            "_view_count": null,
            "_view_module": "@jupyter-widgets/base",
            "_view_module_version": "1.2.0",
            "_view_name": "StyleView",
            "bar_color": null,
            "description_width": ""
          }
        },
        "9937bffe59ab4155b026d7c5f15b7e44": {
          "model_module": "@jupyter-widgets/base",
          "model_name": "LayoutModel",
          "model_module_version": "1.2.0",
          "state": {
            "_model_module": "@jupyter-widgets/base",
            "_model_module_version": "1.2.0",
            "_model_name": "LayoutModel",
            "_view_count": null,
            "_view_module": "@jupyter-widgets/base",
            "_view_module_version": "1.2.0",
            "_view_name": "LayoutView",
            "align_content": null,
            "align_items": null,
            "align_self": null,
            "border": null,
            "bottom": null,
            "display": null,
            "flex": null,
            "flex_flow": null,
            "grid_area": null,
            "grid_auto_columns": null,
            "grid_auto_flow": null,
            "grid_auto_rows": null,
            "grid_column": null,
            "grid_gap": null,
            "grid_row": null,
            "grid_template_areas": null,
            "grid_template_columns": null,
            "grid_template_rows": null,
            "height": null,
            "justify_content": null,
            "justify_items": null,
            "left": null,
            "margin": null,
            "max_height": null,
            "max_width": null,
            "min_height": null,
            "min_width": null,
            "object_fit": null,
            "object_position": null,
            "order": null,
            "overflow": null,
            "overflow_x": null,
            "overflow_y": null,
            "padding": null,
            "right": null,
            "top": null,
            "visibility": null,
            "width": null
          }
        },
        "ae47c034f99d4328b9017f05726a1b2c": {
          "model_module": "@jupyter-widgets/controls",
          "model_name": "DescriptionStyleModel",
          "model_module_version": "1.5.0",
          "state": {
            "_model_module": "@jupyter-widgets/controls",
            "_model_module_version": "1.5.0",
            "_model_name": "DescriptionStyleModel",
            "_view_count": null,
            "_view_module": "@jupyter-widgets/base",
            "_view_module_version": "1.2.0",
            "_view_name": "StyleView",
            "description_width": ""
          }
        },
        "217420879eeb4fb8a5bcb80adc87c8b7": {
          "model_module": "@jupyter-widgets/controls",
          "model_name": "HBoxModel",
          "model_module_version": "1.5.0",
          "state": {
            "_dom_classes": [],
            "_model_module": "@jupyter-widgets/controls",
            "_model_module_version": "1.5.0",
            "_model_name": "HBoxModel",
            "_view_count": null,
            "_view_module": "@jupyter-widgets/controls",
            "_view_module_version": "1.5.0",
            "_view_name": "HBoxView",
            "box_style": "",
            "children": [
              "IPY_MODEL_a36828b352e849948eed05d8026d1a66",
              "IPY_MODEL_204225ce91c7498c81b54db42b0fce3a",
              "IPY_MODEL_dca77f4cc1204dcf9e35c51bea55db47"
            ],
            "layout": "IPY_MODEL_f5ce4c843bbe467498fdeb224c80cc08"
          }
        },
        "a36828b352e849948eed05d8026d1a66": {
          "model_module": "@jupyter-widgets/controls",
          "model_name": "HTMLModel",
          "model_module_version": "1.5.0",
          "state": {
            "_dom_classes": [],
            "_model_module": "@jupyter-widgets/controls",
            "_model_module_version": "1.5.0",
            "_model_name": "HTMLModel",
            "_view_count": null,
            "_view_module": "@jupyter-widgets/controls",
            "_view_module_version": "1.5.0",
            "_view_name": "HTMLView",
            "description": "",
            "description_tooltip": null,
            "layout": "IPY_MODEL_ea34450b6e3f4e9880abe13aea46a921",
            "placeholder": "​",
            "style": "IPY_MODEL_37ecfa1c3db944ff953fc2cf61fd1f1a",
            "value": "Downloading (…)okenizer_config.json: 100%"
          }
        },
        "204225ce91c7498c81b54db42b0fce3a": {
          "model_module": "@jupyter-widgets/controls",
          "model_name": "FloatProgressModel",
          "model_module_version": "1.5.0",
          "state": {
            "_dom_classes": [],
            "_model_module": "@jupyter-widgets/controls",
            "_model_module_version": "1.5.0",
            "_model_name": "FloatProgressModel",
            "_view_count": null,
            "_view_module": "@jupyter-widgets/controls",
            "_view_module_version": "1.5.0",
            "_view_name": "ProgressView",
            "bar_style": "success",
            "description": "",
            "description_tooltip": null,
            "layout": "IPY_MODEL_77426ef2bb6c4b0f9bb073c254cd05ac",
            "max": 29,
            "min": 0,
            "orientation": "horizontal",
            "style": "IPY_MODEL_adce1a6a0f494b30baf7774f1c5c2e1c",
            "value": 29
          }
        },
        "dca77f4cc1204dcf9e35c51bea55db47": {
          "model_module": "@jupyter-widgets/controls",
          "model_name": "HTMLModel",
          "model_module_version": "1.5.0",
          "state": {
            "_dom_classes": [],
            "_model_module": "@jupyter-widgets/controls",
            "_model_module_version": "1.5.0",
            "_model_name": "HTMLModel",
            "_view_count": null,
            "_view_module": "@jupyter-widgets/controls",
            "_view_module_version": "1.5.0",
            "_view_name": "HTMLView",
            "description": "",
            "description_tooltip": null,
            "layout": "IPY_MODEL_daed2bc9a6a24bd3ac63bfaba06ce5a5",
            "placeholder": "​",
            "style": "IPY_MODEL_7d7a5690a84b42cb813587a9421c6285",
            "value": " 29.0/29.0 [00:00&lt;00:00, 1.52kB/s]"
          }
        },
        "f5ce4c843bbe467498fdeb224c80cc08": {
          "model_module": "@jupyter-widgets/base",
          "model_name": "LayoutModel",
          "model_module_version": "1.2.0",
          "state": {
            "_model_module": "@jupyter-widgets/base",
            "_model_module_version": "1.2.0",
            "_model_name": "LayoutModel",
            "_view_count": null,
            "_view_module": "@jupyter-widgets/base",
            "_view_module_version": "1.2.0",
            "_view_name": "LayoutView",
            "align_content": null,
            "align_items": null,
            "align_self": null,
            "border": null,
            "bottom": null,
            "display": null,
            "flex": null,
            "flex_flow": null,
            "grid_area": null,
            "grid_auto_columns": null,
            "grid_auto_flow": null,
            "grid_auto_rows": null,
            "grid_column": null,
            "grid_gap": null,
            "grid_row": null,
            "grid_template_areas": null,
            "grid_template_columns": null,
            "grid_template_rows": null,
            "height": null,
            "justify_content": null,
            "justify_items": null,
            "left": null,
            "margin": null,
            "max_height": null,
            "max_width": null,
            "min_height": null,
            "min_width": null,
            "object_fit": null,
            "object_position": null,
            "order": null,
            "overflow": null,
            "overflow_x": null,
            "overflow_y": null,
            "padding": null,
            "right": null,
            "top": null,
            "visibility": null,
            "width": null
          }
        },
        "ea34450b6e3f4e9880abe13aea46a921": {
          "model_module": "@jupyter-widgets/base",
          "model_name": "LayoutModel",
          "model_module_version": "1.2.0",
          "state": {
            "_model_module": "@jupyter-widgets/base",
            "_model_module_version": "1.2.0",
            "_model_name": "LayoutModel",
            "_view_count": null,
            "_view_module": "@jupyter-widgets/base",
            "_view_module_version": "1.2.0",
            "_view_name": "LayoutView",
            "align_content": null,
            "align_items": null,
            "align_self": null,
            "border": null,
            "bottom": null,
            "display": null,
            "flex": null,
            "flex_flow": null,
            "grid_area": null,
            "grid_auto_columns": null,
            "grid_auto_flow": null,
            "grid_auto_rows": null,
            "grid_column": null,
            "grid_gap": null,
            "grid_row": null,
            "grid_template_areas": null,
            "grid_template_columns": null,
            "grid_template_rows": null,
            "height": null,
            "justify_content": null,
            "justify_items": null,
            "left": null,
            "margin": null,
            "max_height": null,
            "max_width": null,
            "min_height": null,
            "min_width": null,
            "object_fit": null,
            "object_position": null,
            "order": null,
            "overflow": null,
            "overflow_x": null,
            "overflow_y": null,
            "padding": null,
            "right": null,
            "top": null,
            "visibility": null,
            "width": null
          }
        },
        "37ecfa1c3db944ff953fc2cf61fd1f1a": {
          "model_module": "@jupyter-widgets/controls",
          "model_name": "DescriptionStyleModel",
          "model_module_version": "1.5.0",
          "state": {
            "_model_module": "@jupyter-widgets/controls",
            "_model_module_version": "1.5.0",
            "_model_name": "DescriptionStyleModel",
            "_view_count": null,
            "_view_module": "@jupyter-widgets/base",
            "_view_module_version": "1.2.0",
            "_view_name": "StyleView",
            "description_width": ""
          }
        },
        "77426ef2bb6c4b0f9bb073c254cd05ac": {
          "model_module": "@jupyter-widgets/base",
          "model_name": "LayoutModel",
          "model_module_version": "1.2.0",
          "state": {
            "_model_module": "@jupyter-widgets/base",
            "_model_module_version": "1.2.0",
            "_model_name": "LayoutModel",
            "_view_count": null,
            "_view_module": "@jupyter-widgets/base",
            "_view_module_version": "1.2.0",
            "_view_name": "LayoutView",
            "align_content": null,
            "align_items": null,
            "align_self": null,
            "border": null,
            "bottom": null,
            "display": null,
            "flex": null,
            "flex_flow": null,
            "grid_area": null,
            "grid_auto_columns": null,
            "grid_auto_flow": null,
            "grid_auto_rows": null,
            "grid_column": null,
            "grid_gap": null,
            "grid_row": null,
            "grid_template_areas": null,
            "grid_template_columns": null,
            "grid_template_rows": null,
            "height": null,
            "justify_content": null,
            "justify_items": null,
            "left": null,
            "margin": null,
            "max_height": null,
            "max_width": null,
            "min_height": null,
            "min_width": null,
            "object_fit": null,
            "object_position": null,
            "order": null,
            "overflow": null,
            "overflow_x": null,
            "overflow_y": null,
            "padding": null,
            "right": null,
            "top": null,
            "visibility": null,
            "width": null
          }
        },
        "adce1a6a0f494b30baf7774f1c5c2e1c": {
          "model_module": "@jupyter-widgets/controls",
          "model_name": "ProgressStyleModel",
          "model_module_version": "1.5.0",
          "state": {
            "_model_module": "@jupyter-widgets/controls",
            "_model_module_version": "1.5.0",
            "_model_name": "ProgressStyleModel",
            "_view_count": null,
            "_view_module": "@jupyter-widgets/base",
            "_view_module_version": "1.2.0",
            "_view_name": "StyleView",
            "bar_color": null,
            "description_width": ""
          }
        },
        "daed2bc9a6a24bd3ac63bfaba06ce5a5": {
          "model_module": "@jupyter-widgets/base",
          "model_name": "LayoutModel",
          "model_module_version": "1.2.0",
          "state": {
            "_model_module": "@jupyter-widgets/base",
            "_model_module_version": "1.2.0",
            "_model_name": "LayoutModel",
            "_view_count": null,
            "_view_module": "@jupyter-widgets/base",
            "_view_module_version": "1.2.0",
            "_view_name": "LayoutView",
            "align_content": null,
            "align_items": null,
            "align_self": null,
            "border": null,
            "bottom": null,
            "display": null,
            "flex": null,
            "flex_flow": null,
            "grid_area": null,
            "grid_auto_columns": null,
            "grid_auto_flow": null,
            "grid_auto_rows": null,
            "grid_column": null,
            "grid_gap": null,
            "grid_row": null,
            "grid_template_areas": null,
            "grid_template_columns": null,
            "grid_template_rows": null,
            "height": null,
            "justify_content": null,
            "justify_items": null,
            "left": null,
            "margin": null,
            "max_height": null,
            "max_width": null,
            "min_height": null,
            "min_width": null,
            "object_fit": null,
            "object_position": null,
            "order": null,
            "overflow": null,
            "overflow_x": null,
            "overflow_y": null,
            "padding": null,
            "right": null,
            "top": null,
            "visibility": null,
            "width": null
          }
        },
        "7d7a5690a84b42cb813587a9421c6285": {
          "model_module": "@jupyter-widgets/controls",
          "model_name": "DescriptionStyleModel",
          "model_module_version": "1.5.0",
          "state": {
            "_model_module": "@jupyter-widgets/controls",
            "_model_module_version": "1.5.0",
            "_model_name": "DescriptionStyleModel",
            "_view_count": null,
            "_view_module": "@jupyter-widgets/base",
            "_view_module_version": "1.2.0",
            "_view_name": "StyleView",
            "description_width": ""
          }
        },
        "d7d69ba641c448b3a414a6480a7cac67": {
          "model_module": "@jupyter-widgets/controls",
          "model_name": "HBoxModel",
          "model_module_version": "1.5.0",
          "state": {
            "_dom_classes": [],
            "_model_module": "@jupyter-widgets/controls",
            "_model_module_version": "1.5.0",
            "_model_name": "HBoxModel",
            "_view_count": null,
            "_view_module": "@jupyter-widgets/controls",
            "_view_module_version": "1.5.0",
            "_view_name": "HBoxView",
            "box_style": "",
            "children": [
              "IPY_MODEL_fe6b3986943a48a18333e8d87e2975f0",
              "IPY_MODEL_97305eb86f444b66bbedd98abf23f5fe",
              "IPY_MODEL_5fbf54e0c43744418870346b52442888"
            ],
            "layout": "IPY_MODEL_a005ebf8bc274480a083941d8cef5fc1"
          }
        },
        "fe6b3986943a48a18333e8d87e2975f0": {
          "model_module": "@jupyter-widgets/controls",
          "model_name": "HTMLModel",
          "model_module_version": "1.5.0",
          "state": {
            "_dom_classes": [],
            "_model_module": "@jupyter-widgets/controls",
            "_model_module_version": "1.5.0",
            "_model_name": "HTMLModel",
            "_view_count": null,
            "_view_module": "@jupyter-widgets/controls",
            "_view_module_version": "1.5.0",
            "_view_name": "HTMLView",
            "description": "",
            "description_tooltip": null,
            "layout": "IPY_MODEL_73af456a7f7a4e519938b081fbbf0199",
            "placeholder": "​",
            "style": "IPY_MODEL_07c447051aee4afca670039b8a6520a5",
            "value": "Downloading (…)solve/main/vocab.txt: 100%"
          }
        },
        "97305eb86f444b66bbedd98abf23f5fe": {
          "model_module": "@jupyter-widgets/controls",
          "model_name": "FloatProgressModel",
          "model_module_version": "1.5.0",
          "state": {
            "_dom_classes": [],
            "_model_module": "@jupyter-widgets/controls",
            "_model_module_version": "1.5.0",
            "_model_name": "FloatProgressModel",
            "_view_count": null,
            "_view_module": "@jupyter-widgets/controls",
            "_view_module_version": "1.5.0",
            "_view_name": "ProgressView",
            "bar_style": "success",
            "description": "",
            "description_tooltip": null,
            "layout": "IPY_MODEL_712046ce094b4da9b529639c2c589972",
            "max": 995526,
            "min": 0,
            "orientation": "horizontal",
            "style": "IPY_MODEL_13314cd366554931ae47bb8e3309fac2",
            "value": 995526
          }
        },
        "5fbf54e0c43744418870346b52442888": {
          "model_module": "@jupyter-widgets/controls",
          "model_name": "HTMLModel",
          "model_module_version": "1.5.0",
          "state": {
            "_dom_classes": [],
            "_model_module": "@jupyter-widgets/controls",
            "_model_module_version": "1.5.0",
            "_model_name": "HTMLModel",
            "_view_count": null,
            "_view_module": "@jupyter-widgets/controls",
            "_view_module_version": "1.5.0",
            "_view_name": "HTMLView",
            "description": "",
            "description_tooltip": null,
            "layout": "IPY_MODEL_97e382c5605d47bbb81ce48accb919e6",
            "placeholder": "​",
            "style": "IPY_MODEL_f3265add4310461f8cfc58c5e8a34822",
            "value": " 996k/996k [00:00&lt;00:00, 7.03MB/s]"
          }
        },
        "a005ebf8bc274480a083941d8cef5fc1": {
          "model_module": "@jupyter-widgets/base",
          "model_name": "LayoutModel",
          "model_module_version": "1.2.0",
          "state": {
            "_model_module": "@jupyter-widgets/base",
            "_model_module_version": "1.2.0",
            "_model_name": "LayoutModel",
            "_view_count": null,
            "_view_module": "@jupyter-widgets/base",
            "_view_module_version": "1.2.0",
            "_view_name": "LayoutView",
            "align_content": null,
            "align_items": null,
            "align_self": null,
            "border": null,
            "bottom": null,
            "display": null,
            "flex": null,
            "flex_flow": null,
            "grid_area": null,
            "grid_auto_columns": null,
            "grid_auto_flow": null,
            "grid_auto_rows": null,
            "grid_column": null,
            "grid_gap": null,
            "grid_row": null,
            "grid_template_areas": null,
            "grid_template_columns": null,
            "grid_template_rows": null,
            "height": null,
            "justify_content": null,
            "justify_items": null,
            "left": null,
            "margin": null,
            "max_height": null,
            "max_width": null,
            "min_height": null,
            "min_width": null,
            "object_fit": null,
            "object_position": null,
            "order": null,
            "overflow": null,
            "overflow_x": null,
            "overflow_y": null,
            "padding": null,
            "right": null,
            "top": null,
            "visibility": null,
            "width": null
          }
        },
        "73af456a7f7a4e519938b081fbbf0199": {
          "model_module": "@jupyter-widgets/base",
          "model_name": "LayoutModel",
          "model_module_version": "1.2.0",
          "state": {
            "_model_module": "@jupyter-widgets/base",
            "_model_module_version": "1.2.0",
            "_model_name": "LayoutModel",
            "_view_count": null,
            "_view_module": "@jupyter-widgets/base",
            "_view_module_version": "1.2.0",
            "_view_name": "LayoutView",
            "align_content": null,
            "align_items": null,
            "align_self": null,
            "border": null,
            "bottom": null,
            "display": null,
            "flex": null,
            "flex_flow": null,
            "grid_area": null,
            "grid_auto_columns": null,
            "grid_auto_flow": null,
            "grid_auto_rows": null,
            "grid_column": null,
            "grid_gap": null,
            "grid_row": null,
            "grid_template_areas": null,
            "grid_template_columns": null,
            "grid_template_rows": null,
            "height": null,
            "justify_content": null,
            "justify_items": null,
            "left": null,
            "margin": null,
            "max_height": null,
            "max_width": null,
            "min_height": null,
            "min_width": null,
            "object_fit": null,
            "object_position": null,
            "order": null,
            "overflow": null,
            "overflow_x": null,
            "overflow_y": null,
            "padding": null,
            "right": null,
            "top": null,
            "visibility": null,
            "width": null
          }
        },
        "07c447051aee4afca670039b8a6520a5": {
          "model_module": "@jupyter-widgets/controls",
          "model_name": "DescriptionStyleModel",
          "model_module_version": "1.5.0",
          "state": {
            "_model_module": "@jupyter-widgets/controls",
            "_model_module_version": "1.5.0",
            "_model_name": "DescriptionStyleModel",
            "_view_count": null,
            "_view_module": "@jupyter-widgets/base",
            "_view_module_version": "1.2.0",
            "_view_name": "StyleView",
            "description_width": ""
          }
        },
        "712046ce094b4da9b529639c2c589972": {
          "model_module": "@jupyter-widgets/base",
          "model_name": "LayoutModel",
          "model_module_version": "1.2.0",
          "state": {
            "_model_module": "@jupyter-widgets/base",
            "_model_module_version": "1.2.0",
            "_model_name": "LayoutModel",
            "_view_count": null,
            "_view_module": "@jupyter-widgets/base",
            "_view_module_version": "1.2.0",
            "_view_name": "LayoutView",
            "align_content": null,
            "align_items": null,
            "align_self": null,
            "border": null,
            "bottom": null,
            "display": null,
            "flex": null,
            "flex_flow": null,
            "grid_area": null,
            "grid_auto_columns": null,
            "grid_auto_flow": null,
            "grid_auto_rows": null,
            "grid_column": null,
            "grid_gap": null,
            "grid_row": null,
            "grid_template_areas": null,
            "grid_template_columns": null,
            "grid_template_rows": null,
            "height": null,
            "justify_content": null,
            "justify_items": null,
            "left": null,
            "margin": null,
            "max_height": null,
            "max_width": null,
            "min_height": null,
            "min_width": null,
            "object_fit": null,
            "object_position": null,
            "order": null,
            "overflow": null,
            "overflow_x": null,
            "overflow_y": null,
            "padding": null,
            "right": null,
            "top": null,
            "visibility": null,
            "width": null
          }
        },
        "13314cd366554931ae47bb8e3309fac2": {
          "model_module": "@jupyter-widgets/controls",
          "model_name": "ProgressStyleModel",
          "model_module_version": "1.5.0",
          "state": {
            "_model_module": "@jupyter-widgets/controls",
            "_model_module_version": "1.5.0",
            "_model_name": "ProgressStyleModel",
            "_view_count": null,
            "_view_module": "@jupyter-widgets/base",
            "_view_module_version": "1.2.0",
            "_view_name": "StyleView",
            "bar_color": null,
            "description_width": ""
          }
        },
        "97e382c5605d47bbb81ce48accb919e6": {
          "model_module": "@jupyter-widgets/base",
          "model_name": "LayoutModel",
          "model_module_version": "1.2.0",
          "state": {
            "_model_module": "@jupyter-widgets/base",
            "_model_module_version": "1.2.0",
            "_model_name": "LayoutModel",
            "_view_count": null,
            "_view_module": "@jupyter-widgets/base",
            "_view_module_version": "1.2.0",
            "_view_name": "LayoutView",
            "align_content": null,
            "align_items": null,
            "align_self": null,
            "border": null,
            "bottom": null,
            "display": null,
            "flex": null,
            "flex_flow": null,
            "grid_area": null,
            "grid_auto_columns": null,
            "grid_auto_flow": null,
            "grid_auto_rows": null,
            "grid_column": null,
            "grid_gap": null,
            "grid_row": null,
            "grid_template_areas": null,
            "grid_template_columns": null,
            "grid_template_rows": null,
            "height": null,
            "justify_content": null,
            "justify_items": null,
            "left": null,
            "margin": null,
            "max_height": null,
            "max_width": null,
            "min_height": null,
            "min_width": null,
            "object_fit": null,
            "object_position": null,
            "order": null,
            "overflow": null,
            "overflow_x": null,
            "overflow_y": null,
            "padding": null,
            "right": null,
            "top": null,
            "visibility": null,
            "width": null
          }
        },
        "f3265add4310461f8cfc58c5e8a34822": {
          "model_module": "@jupyter-widgets/controls",
          "model_name": "DescriptionStyleModel",
          "model_module_version": "1.5.0",
          "state": {
            "_model_module": "@jupyter-widgets/controls",
            "_model_module_version": "1.5.0",
            "_model_name": "DescriptionStyleModel",
            "_view_count": null,
            "_view_module": "@jupyter-widgets/base",
            "_view_module_version": "1.2.0",
            "_view_name": "StyleView",
            "description_width": ""
          }
        },
        "e3aaf2ffe93043a097cc247191df02d4": {
          "model_module": "@jupyter-widgets/controls",
          "model_name": "HBoxModel",
          "model_module_version": "1.5.0",
          "state": {
            "_dom_classes": [],
            "_model_module": "@jupyter-widgets/controls",
            "_model_module_version": "1.5.0",
            "_model_name": "HBoxModel",
            "_view_count": null,
            "_view_module": "@jupyter-widgets/controls",
            "_view_module_version": "1.5.0",
            "_view_name": "HBoxView",
            "box_style": "",
            "children": [
              "IPY_MODEL_7c303a62c41343c68d45ab8c2c3d0104",
              "IPY_MODEL_15c7aa11befb4a938220e8e62fd19543",
              "IPY_MODEL_505076d5eb054884bb41baed086f584c"
            ],
            "layout": "IPY_MODEL_aafd337217a84461b9d791977fa71167"
          }
        },
        "7c303a62c41343c68d45ab8c2c3d0104": {
          "model_module": "@jupyter-widgets/controls",
          "model_name": "HTMLModel",
          "model_module_version": "1.5.0",
          "state": {
            "_dom_classes": [],
            "_model_module": "@jupyter-widgets/controls",
            "_model_module_version": "1.5.0",
            "_model_name": "HTMLModel",
            "_view_count": null,
            "_view_module": "@jupyter-widgets/controls",
            "_view_module_version": "1.5.0",
            "_view_name": "HTMLView",
            "description": "",
            "description_tooltip": null,
            "layout": "IPY_MODEL_ca24d1da20a643bf9fedd7429120992f",
            "placeholder": "​",
            "style": "IPY_MODEL_7daf45f480784ce59ce782f17d048f57",
            "value": "Downloading (…)/main/tokenizer.json: 100%"
          }
        },
        "15c7aa11befb4a938220e8e62fd19543": {
          "model_module": "@jupyter-widgets/controls",
          "model_name": "FloatProgressModel",
          "model_module_version": "1.5.0",
          "state": {
            "_dom_classes": [],
            "_model_module": "@jupyter-widgets/controls",
            "_model_module_version": "1.5.0",
            "_model_name": "FloatProgressModel",
            "_view_count": null,
            "_view_module": "@jupyter-widgets/controls",
            "_view_module_version": "1.5.0",
            "_view_name": "ProgressView",
            "bar_style": "success",
            "description": "",
            "description_tooltip": null,
            "layout": "IPY_MODEL_9425907b5858485c9804a5cfcd1b5a74",
            "max": 1961828,
            "min": 0,
            "orientation": "horizontal",
            "style": "IPY_MODEL_aeb9e4987f244cb0bc12ea0ebec6b442",
            "value": 1961828
          }
        },
        "505076d5eb054884bb41baed086f584c": {
          "model_module": "@jupyter-widgets/controls",
          "model_name": "HTMLModel",
          "model_module_version": "1.5.0",
          "state": {
            "_dom_classes": [],
            "_model_module": "@jupyter-widgets/controls",
            "_model_module_version": "1.5.0",
            "_model_name": "HTMLModel",
            "_view_count": null,
            "_view_module": "@jupyter-widgets/controls",
            "_view_module_version": "1.5.0",
            "_view_name": "HTMLView",
            "description": "",
            "description_tooltip": null,
            "layout": "IPY_MODEL_bd47a81e017942fa98d8166f359056e6",
            "placeholder": "​",
            "style": "IPY_MODEL_ae59260627444ca382f0ef300bb9c49d",
            "value": " 1.96M/1.96M [00:00&lt;00:00, 35.8MB/s]"
          }
        },
        "aafd337217a84461b9d791977fa71167": {
          "model_module": "@jupyter-widgets/base",
          "model_name": "LayoutModel",
          "model_module_version": "1.2.0",
          "state": {
            "_model_module": "@jupyter-widgets/base",
            "_model_module_version": "1.2.0",
            "_model_name": "LayoutModel",
            "_view_count": null,
            "_view_module": "@jupyter-widgets/base",
            "_view_module_version": "1.2.0",
            "_view_name": "LayoutView",
            "align_content": null,
            "align_items": null,
            "align_self": null,
            "border": null,
            "bottom": null,
            "display": null,
            "flex": null,
            "flex_flow": null,
            "grid_area": null,
            "grid_auto_columns": null,
            "grid_auto_flow": null,
            "grid_auto_rows": null,
            "grid_column": null,
            "grid_gap": null,
            "grid_row": null,
            "grid_template_areas": null,
            "grid_template_columns": null,
            "grid_template_rows": null,
            "height": null,
            "justify_content": null,
            "justify_items": null,
            "left": null,
            "margin": null,
            "max_height": null,
            "max_width": null,
            "min_height": null,
            "min_width": null,
            "object_fit": null,
            "object_position": null,
            "order": null,
            "overflow": null,
            "overflow_x": null,
            "overflow_y": null,
            "padding": null,
            "right": null,
            "top": null,
            "visibility": null,
            "width": null
          }
        },
        "ca24d1da20a643bf9fedd7429120992f": {
          "model_module": "@jupyter-widgets/base",
          "model_name": "LayoutModel",
          "model_module_version": "1.2.0",
          "state": {
            "_model_module": "@jupyter-widgets/base",
            "_model_module_version": "1.2.0",
            "_model_name": "LayoutModel",
            "_view_count": null,
            "_view_module": "@jupyter-widgets/base",
            "_view_module_version": "1.2.0",
            "_view_name": "LayoutView",
            "align_content": null,
            "align_items": null,
            "align_self": null,
            "border": null,
            "bottom": null,
            "display": null,
            "flex": null,
            "flex_flow": null,
            "grid_area": null,
            "grid_auto_columns": null,
            "grid_auto_flow": null,
            "grid_auto_rows": null,
            "grid_column": null,
            "grid_gap": null,
            "grid_row": null,
            "grid_template_areas": null,
            "grid_template_columns": null,
            "grid_template_rows": null,
            "height": null,
            "justify_content": null,
            "justify_items": null,
            "left": null,
            "margin": null,
            "max_height": null,
            "max_width": null,
            "min_height": null,
            "min_width": null,
            "object_fit": null,
            "object_position": null,
            "order": null,
            "overflow": null,
            "overflow_x": null,
            "overflow_y": null,
            "padding": null,
            "right": null,
            "top": null,
            "visibility": null,
            "width": null
          }
        },
        "7daf45f480784ce59ce782f17d048f57": {
          "model_module": "@jupyter-widgets/controls",
          "model_name": "DescriptionStyleModel",
          "model_module_version": "1.5.0",
          "state": {
            "_model_module": "@jupyter-widgets/controls",
            "_model_module_version": "1.5.0",
            "_model_name": "DescriptionStyleModel",
            "_view_count": null,
            "_view_module": "@jupyter-widgets/base",
            "_view_module_version": "1.2.0",
            "_view_name": "StyleView",
            "description_width": ""
          }
        },
        "9425907b5858485c9804a5cfcd1b5a74": {
          "model_module": "@jupyter-widgets/base",
          "model_name": "LayoutModel",
          "model_module_version": "1.2.0",
          "state": {
            "_model_module": "@jupyter-widgets/base",
            "_model_module_version": "1.2.0",
            "_model_name": "LayoutModel",
            "_view_count": null,
            "_view_module": "@jupyter-widgets/base",
            "_view_module_version": "1.2.0",
            "_view_name": "LayoutView",
            "align_content": null,
            "align_items": null,
            "align_self": null,
            "border": null,
            "bottom": null,
            "display": null,
            "flex": null,
            "flex_flow": null,
            "grid_area": null,
            "grid_auto_columns": null,
            "grid_auto_flow": null,
            "grid_auto_rows": null,
            "grid_column": null,
            "grid_gap": null,
            "grid_row": null,
            "grid_template_areas": null,
            "grid_template_columns": null,
            "grid_template_rows": null,
            "height": null,
            "justify_content": null,
            "justify_items": null,
            "left": null,
            "margin": null,
            "max_height": null,
            "max_width": null,
            "min_height": null,
            "min_width": null,
            "object_fit": null,
            "object_position": null,
            "order": null,
            "overflow": null,
            "overflow_x": null,
            "overflow_y": null,
            "padding": null,
            "right": null,
            "top": null,
            "visibility": null,
            "width": null
          }
        },
        "aeb9e4987f244cb0bc12ea0ebec6b442": {
          "model_module": "@jupyter-widgets/controls",
          "model_name": "ProgressStyleModel",
          "model_module_version": "1.5.0",
          "state": {
            "_model_module": "@jupyter-widgets/controls",
            "_model_module_version": "1.5.0",
            "_model_name": "ProgressStyleModel",
            "_view_count": null,
            "_view_module": "@jupyter-widgets/base",
            "_view_module_version": "1.2.0",
            "_view_name": "StyleView",
            "bar_color": null,
            "description_width": ""
          }
        },
        "bd47a81e017942fa98d8166f359056e6": {
          "model_module": "@jupyter-widgets/base",
          "model_name": "LayoutModel",
          "model_module_version": "1.2.0",
          "state": {
            "_model_module": "@jupyter-widgets/base",
            "_model_module_version": "1.2.0",
            "_model_name": "LayoutModel",
            "_view_count": null,
            "_view_module": "@jupyter-widgets/base",
            "_view_module_version": "1.2.0",
            "_view_name": "LayoutView",
            "align_content": null,
            "align_items": null,
            "align_self": null,
            "border": null,
            "bottom": null,
            "display": null,
            "flex": null,
            "flex_flow": null,
            "grid_area": null,
            "grid_auto_columns": null,
            "grid_auto_flow": null,
            "grid_auto_rows": null,
            "grid_column": null,
            "grid_gap": null,
            "grid_row": null,
            "grid_template_areas": null,
            "grid_template_columns": null,
            "grid_template_rows": null,
            "height": null,
            "justify_content": null,
            "justify_items": null,
            "left": null,
            "margin": null,
            "max_height": null,
            "max_width": null,
            "min_height": null,
            "min_width": null,
            "object_fit": null,
            "object_position": null,
            "order": null,
            "overflow": null,
            "overflow_x": null,
            "overflow_y": null,
            "padding": null,
            "right": null,
            "top": null,
            "visibility": null,
            "width": null
          }
        },
        "ae59260627444ca382f0ef300bb9c49d": {
          "model_module": "@jupyter-widgets/controls",
          "model_name": "DescriptionStyleModel",
          "model_module_version": "1.5.0",
          "state": {
            "_model_module": "@jupyter-widgets/controls",
            "_model_module_version": "1.5.0",
            "_model_name": "DescriptionStyleModel",
            "_view_count": null,
            "_view_module": "@jupyter-widgets/base",
            "_view_module_version": "1.2.0",
            "_view_name": "StyleView",
            "description_width": ""
          }
        }
      }
    }
  },
  "cells": [
    {
      "cell_type": "markdown",
      "source": [
        "# 1. 자연어의 특성\n",
        "* 자연어를 기계가 처리하도록 하기 위해서는 먼저 자연어를 기계가 이해할 수 있는 언어로 바꾸는 방법을 알아야 함\n",
        "* 토큰화 작업의 결과인 단어 사전을 기계가 이해할 수 있는 언어로 표현하는 과정이고 단어 사전 내 단어 하나를 어떻게 표현할까의 문제로 볼 수 있음"
      ],
      "metadata": {
        "id": "pZALsNqpuNUR"
      }
    },
    {
      "cell_type": "markdown",
      "source": [
        "### 1-1. 단어의 유사성과 모호성\n",
        "* 대부분의 언어에서 단어의 의미는 유사성과 모호성을 가지고 있는데 단어는 겉으로 보이는 형태인 표제어안에 여러가지 의미를 담고 있음\n",
        "* 대부분 사람의 주변 정보에 따라 숨겨진 의미를 파악하고 이해할 수 있으나 기계는 학습의 부재 또는 잘못된 데이터로 의미를 파악하지 못하는 경우가 있음\n",
        "* 한가지 형태의 단어에 여러 의미가 포함되어 생기는 중의성 문제는 자연어 처리에서 매우 중요\n",
        "  - 동형어와 다의어\n",
        "    - 형태는 같으나 뜻이 서로 다른 단어\n",
        "    - 다의어: 하나의 형태가 여러 의미를 지니면서도 그 의미들이 서로 관련이 있는 단어(먹다)\n",
        "  - 동의어\n",
        "    - 서로다른 형태의 단어들이 동일한 의미를 가지는 단어\n",
        "  - 상의어와 하위어\n",
        "    - 상의어: 상위 개념을 가리키는 단어\n",
        "    - 하위어: 하위 개념을 표현하는 단어\n"
      ],
      "metadata": {
        "id": "c4dYkYH_u4Uu"
      }
    },
    {
      "cell_type": "markdown",
      "source": [
        "### 1-2. 언어의 모호성을 해소\n",
        "* **동형어** 다의어처럼 여러 의미를 가지는 단어들이 하나의 형태로 공유, 동의어 처럼 하나의 형태를 가지는 단어들이 서로 같은 의미를 공유\n",
        "* 단어 중의성 해소(WSD) 알고리즘 방법을 통해 단어의 의미를 명확히 함\n",
        "  - 지식 기반 단어 중의성 해소\n",
        "    * 컴퓨터가 읽을 수 있는 사전이나 시소러스(어휘집)등을 바탕으로 단어의 의미를 추론하는 접근 방법\n",
        "    * 사람이 직접 선별해서 데이터를 넣으므로 노이즈가 적음\n",
        "    * 영어 자연어 처리 분야에서 가장 유명한 WordNet 존재\n",
        "    * 관계 구축에 많은 리소스가 필요함\n",
        "    * 시의성을 반영하지 못함\n",
        "    * 데이터 편향이 일어날 수 있음\n",
        "  - 지도 학습 기반 단어 중의성 해소\n",
        "    * 지도 학습은 데이터에 정답이 있다는 의미로, 각종 기계 학습 알고리즘을 통해 단어 의미를 분류해내는 방법\n",
        "    * WSD라고 하면 보통 단어의 세부의미가 부착된 코퍼스를 학습데이터로 사용하여 학습에 쓰지지 않았던 새로운 다어의 의미를 판별해내는 경우\n",
        "    * 좋은 성능을 위해서는 질 높은 레이블을 가진 크기가 큰 데이터가 필요함\n",
        "    * 데이터가 충분한 경우 일반화된 환경에서도 괜찮은 성능을 낼 수 있음\n",
        "  - 비지도 학습 기반 단어 중의성 해소(**군집화**)\n",
        "    * 비지도 학습 WSD는 단어 의미 추록 작업인 WSI를 가리키는 경우가 많음\n",
        "    * 문장에 등장하는 각 단어의 의미를 사전적인 의미에 연결하지 않고, 세부 의미가 같은 맥락을 군집화하는 데에 초점을 맞춤\n",
        "    * 대규모 자연어 코포스로부터 추가 작업없이 자동적으로 학습을 수행 할 수 있어서 활용 가능성이 높음\n",
        "    * 사람이 직접 제작한 학습 데이터를 사용하지 않기 때문에 성능을 내기 어려움\n"
      ],
      "metadata": {
        "id": "6yX9zjo-FMgP"
      }
    },
    {
      "cell_type": "markdown",
      "source": [
        "# 2. 임베딩 구축 방법\n"
      ],
      "metadata": {
        "id": "jcy9UEq86s4V"
      }
    },
    {
      "cell_type": "markdown",
      "source": [
        "### 2-1. 임베딩이란\n",
        "* 자연어 처리 작업에서 특징 추출을 통해 자연어 를 수치화하는 과정이 필요하고, 이런 벡터화의 과정이자 결과\n",
        "* 토큰화 작업의 목표는 사실상 임베딩을 만들기 위한 단어 사전을 구축하는 것"
      ],
      "metadata": {
        "id": "LRi4eEDGJ3qN"
      }
    },
    {
      "cell_type": "markdown",
      "source": [
        "### 2-2. 임베딩의 역활\n",
        "* 자연어의 의미적인 정보 함축\n",
        "  - 자연어의 중요한 특징들을 추출하여 벡터로 압축하는 과정\n",
        "  - 임베딩으로 표현된 문장은 실제 자연어의 주요 정보들을 포함하고 있음\n",
        "  - 벡터인 만큼 사칙연산이 가능해서 단어 벡터간 덧셈/뺄셈을 통해 단어들 사이의 의미적 문법적 관계를 도출\n",
        "  - 암베딩의 품질을 평가하기 위해 사용되는 유츄 평가 예시(https://word2vec.kr/search/)\n",
        "* 자연어 간 유사도 계산\n",
        "  * 자연어를 벡터로 표현하면, 코사인 유사도를 활용하여 두 벡터간 유사도를 계산할 수 있음\n",
        "  * 코사인 유사도는 -1이상 1이하의 값을 가지며 값이 1에 가까울수록 유사도가 높다고 판단함\n",
        "* 전이 학습(이미 만들어진 모델을 이용)\n",
        "  * 품질 좋은 임베딩을 사용할수록 목표호 하는 자연어처리 작업의 학습 속도와 성능이 향상됨\n",
        "  * 이미 만들어진 임베딩을 다른 작업을 학습하기 위한 입력값으로 쓰임 -> 전이 학습\n",
        "  * 매번 새로운 것을 배울 떄 **scratch**부터 시작한다면 매 학습이 오래걸림\n",
        "  * **파인 튜닝**: 학습하는데 임베딩을 초기화하여 사용하면 새로운 작업을 학습함에도 빠르게 학습할 수 있고 성능도 좋아짐\n"
      ],
      "metadata": {
        "id": "hxKZcxyVKqd2"
      }
    },
    {
      "cell_type": "markdown",
      "source": [
        "### 2-3. 임베딩을 만들 때 쓰는 통계적인 가설\n",
        "* 문장을 구성하는데 어떤 단어가 얼마나 많이 쓰이는가?\n",
        "* 문장에 어떤 단어가 같이 쓰이는가\n",
        "* 단어가 어떤 순서로 등장하는가\n"
      ],
      "metadata": {
        "id": "fV9FRCHcLHvA"
      }
    },
    {
      "cell_type": "markdown",
      "source": [
        "### 2-4. 단어 출현 빈도에 기반한 임베딩 구축 방법\n",
        "\n",
        "  * 원 핫 인코딩\n",
        "    - 자연어를 0를 1로 구별하겠다는 인코딩 방법\n",
        "    - 표현하고 싶은 단어의 인덱스에 1의 값을 부여하고,나머지 인덱그에는 0을 부여하는 벡터표현 방식\n",
        "    - 희소 문제(sparsity Problem)\n",
        "      * 예)단어 사전의 크기가 10,000이라면, 총 10,000개 중 현재 단어를 표현하는 1개의 차원만 1이고, 나머지 9,999개의 차원은 0으로 표현\n",
        "      * 대부분의 값들의 0인 행렬을 희소행렬이라 하는데, 단어가 늘어날수록 행렬의 크기는 게속 증가하나 증사하는 크기에 비해 표현의 효율성을 떨어짐\n",
        "    - 단어 유사도를 표현하지 못함\n",
        "  * Bag of Words\n",
        "    - 단어들의 순서는 전혀 고려하지 않고, 단어들의 출현빈도에 집중하는 자연어 코퍼스의 데이터 수치화 방법\n",
        "    - 각 단어에 고유한 정부 인덱스를 부여하여 단어 집합을 생성하고, 각 인덱스의 위치에 단어 토큰의 등장 횟수를 기록한 벡터를 만듬\n",
        "    - 단어 단위의 압축 방식이기 때문에 희소문제와 단어 순서를 반영하지 못함\n",
        "  * TF-IDF\n",
        "    - 단어의 빈도와 역문서 빈도를 사용하여 문서-단어 행렬 내 각 단어들의 중여한 정도를 가중치로 주는 표현 방법\n",
        "    - 문서의 유사도를 구하는 작업, 겁색 시스템에서 겁색 결과의 중요도를 정하는 작업,문서 내에서 특정 단어의 중요도를 구하는 작업등에서 효과적으로 쓰일 수 있음\n",
        "    - 단어의 중요도를 고려햐도 여전히 단어의 빈도로 판단하는 표현 방식이기 때문에 맥락적 유사도를 반영하지 못함\n",
        "    - 단어 사전의 규묘 자체를 푹소하는 방법이 아니기 때문에 단어 사전의 규모가 크다면 높은 계산 복잡도를 요구하는 표현 방식(희소문제)"
      ],
      "metadata": {
        "id": "8L7rt6d0TZ_l"
      }
    },
    {
      "cell_type": "markdown",
      "source": [
        "* 원핫 인코딩 희소 문제\n",
        "* 단어 유사도를 표현하지 못함\n",
        "\n",
        "\n",
        "![화면 캡처 2023-06-27 143337.jpg](data:image/jpeg;base64,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)"
      ],
      "metadata": {
        "id": "kyEik0xJV7Hy"
      }
    },
    {
      "cell_type": "markdown",
      "source": [
        "### 2-5. 분포 가설과 언어 모델\n",
        "* 비슷한 위치(문맥) 내에 등장하는 단어들은 비슷란 의미를 가진다는 가설\n",
        "```\n",
        "예) (움트다)\n",
        "봄이 되자 나뭇가지에는 파릇파릇 싹이 움트고 있었다\n",
        "입사귀가 움트기 시작해도 물 올라가는 나무뿌리\n",
        "```\n",
        "* 목표 단어의 단어들, 즉 window 크기에 따라 정의 되는 문맥의 의미를 이용해 단어를 벡터로 표현하는 것이 목표\n",
        "* 분포 가설이라는 가정 하에 만들어진 표현 방법응 분산 표현이라고 함\n",
        "* PMI(Pointwise Mutual Information)\n",
        "  * 분포 가설의 대표적인 통계량은 PMI아며, 두 확률변수 사이의 상관성을 계량하는 단위\n",
        "\n",
        "  <img src='https://encrypted-tbn0.gstatic.com/images?q=tbn:ANd9GcQDymO_xD-V_OPxd28vuMt63YWiUrx1XT3QhQ&usqp=CAU'>\n",
        "\n",
        "  * 확률 변수가 완전히 독립인 경우에 값이 0이 되며, 독립이라는 말은 단어 x가 나타나는 것이 단어 y가 등장할 확률에 전혀 영향을 주지 않으며 반대로 단어 y의 등장이 단어 x에 영행을 주지 않는 것을 의미함\n",
        "  * 단어 x가 등장할때 문맥 내에 단어 y와 같이 자주 등장한다면 PMI값이 커짐\n",
        "  * 분포 가설을 활용하는 대표적인 모델은 2013년 Google의 [Efficient Estimation of Word Representations in Vector Space](https://arxiv.org/abs/1301.3781) 논문에서 발표된 Word2Vec이라는 단어 임베딩 기법\n",
        "  \n",
        "\n",
        ""
      ],
      "metadata": {
        "id": "ABDm8KGDV753"
      }
    },
    {
      "cell_type": "markdown",
      "source": [
        "### 2-6. 단어가 어떤 순서로 쓰이는가\n",
        "* 통계 기반 언어 모델\n",
        "  - 언어 모델: 알련의 단어 토큰애 확률을 할당하는 모델\n",
        "  - 단어의 등장 순서를 중요하게 고려하지 않았던 이전 가설들과 다르게 언어 모델은 단어 기퀀스 정보를 명시적으로 학습함\n",
        "  - 단어가 n개 주어졌을 때 언어 모델은 n개의 단어가 동시에 나타날 확률을 반환\n",
        "  - 문장은 어순을 고려하여 여러 단어로 이루어진 단어 시퀀스라고도 부르며, n개의 단어로 구성된 단어 시퀀스를 확률적으로 표현\n",
        "* 딥러닝 기반 언어 모델\n",
        "  - 통계 기반 언어 모델에서는 여전히 등장 빈도라는 통계량을 활영하여 확률을 추산했지만, 딥러닝 기반 언어 모델들이 등장하면서 딥러닝 모델들이 입력과 출력 사이의 관계를 유연하게 정의할 수 있게 되고 그 자체로 확률 모델로 동작 할 수 있음\n",
        "    * MLM(Masked LAnguage Modeling)\n",
        "      - 문장 중간에 마스크를 씌워서 해당 마스크에 어떤 단어가 올지 예측하는 과정에서 학습을 진행 문장 전페를 다 보고 중간에 있는 단어를 예픅하기 때문에 양방행 학습이 가능\n",
        "      - 대표적으로 BERT 모델이 있음\n",
        "    * Next Token Prediction\n",
        "      - 주어진 단어 시퀀스를 가지고 다음 단어로 어떤 단어가 올지 예측하는 과정에서 학습\n",
        "      - 단어를 순차적으로 입력 받은 뒤, 다음 단어를 맞춰야하기 떄문에 일방향 학습을 함\n",
        "      - 대표적을 GPT, ELMo등\n",
        "      \n"
      ],
      "metadata": {
        "id": "Bd-YlhKkbHWc"
      }
    },
    {
      "cell_type": "markdown",
      "source": [
        "# 3. 텍스트 유사도\n",
        "* 두 개의 자연어 텍스트가 얼마나 유사한지를 나타내는 방법\n",
        "* 유사도를 정의하거나 판단하는 척도가 주관적이기 때문에, 이를 최대한 정량화하는 방법을 찾는 것이 중요함\n",
        "* 자연어 처리 분야에서 자주 사용되는 유사도 픅정 방법\n",
        "  - 유클리디안 거리 기반 유사도\n",
        "  - 맨하탄 거리 기반 유사도\n",
        "  - 코사인 유사도\n",
        "  - 자카드 유사도\n",
        "  - 문자열 간 유사도\n",
        "  "
      ],
      "metadata": {
        "id": "CCFnBxYAYL0Z"
      }
    },
    {
      "cell_type": "markdown",
      "source": [
        "### 3-1. 유클리디안 거리 기반 유사도\n",
        "* 두 점 사이의 거리를 측정하는 유클리디안 거리를 사용하여 문서의 우사도를 구하는 방법으로 거리가 가까울수록 유사도가 높다고 판단함\n",
        "* 자카드 유사도나 코사인 유사도만큼 유용하게 사용되는 방법은 아니나, 자연어 퍼리 분야뿐만 아니라 다른 분야에서도 범용적으로 사용되는 거리 측정 기법\n"
      ],
      "metadata": {
        "id": "rnP-PmnvelAh"
      }
    },
    {
      "cell_type": "markdown",
      "source": [
        "### 3-2. 맨하탄 거리 기반 유사도\n",
        "* 맨하탄 거리를 사용하여 문서의 유사도를 구하는 방법\n",
        "* 유클리드 거리와 유사하나, 각 차원의 차를 제곱해서 새용하는 대신 절대값을 바로 합산함\n",
        "* 항상 유클리드 거리보다 크거나 같음\n",
        "* 다차원 공간상에서 두 좌표 간 최단거리를 구하는 방법이 아니다 보니 특별한 상황이 아니먄 잘 사용하지 않음\n"
      ],
      "metadata": {
        "id": "Za3avx1Ajm7t"
      }
    },
    {
      "cell_type": "markdown",
      "source": [
        "### 3-3.코사인 유사도\n",
        "* 코사인 유사도는 두 새의 벡터값에서 코사인 각도를 이용하여 구할 수 있는 두 벡터의 유사도를 의미\n",
        "* 두 벡터의 방향이 완저히 동일한 경우에는 1의 값을 가지며, 90도의 각을 이루면 0, 180도로 반대의 방향을 가지면 -1의 값을 가짐\n",
        "* -1이상 1이하의 값을 가지며 값이 1에 가까울수록 유사하는 것을 의미\n",
        "* 두 벡터가 가리키는 방향이 얼마나 유사한가를 의미하기 떄문에 자연어 내 유사도 계산에 더 적합함\n"
      ],
      "metadata": {
        "id": "RQ_kdonAk5rH"
      }
    },
    {
      "cell_type": "markdown",
      "source": [
        "![화면 캡처 2023-06-28 102205.jpg](data:image/jpeg;base64,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)"
      ],
      "metadata": {
        "id": "B3c9fz55mDRM"
      }
    },
    {
      "cell_type": "markdown",
      "source": [
        "### 3-4. 자카드 유사도\n",
        "* 두 문장을 각각 단어의 집합으로 만든 뒤 두 집합을 통해 유사도를 측정하는 방식\n",
        "* 수치화된 벡터 없이 단어 집합 만으로 계산할 수 있음\n",
        "* 두 집합의 교집합인 공통된 단어의 개수를 두 집합의 합집합, 전체 단어의 개수로 나누는것\n",
        "* 전체 합집합 중 공통의 단어의 개수에 따라 0과 1사이의 값을 가지며 1에 가까울수록 유사도가 높음"
      ],
      "metadata": {
        "id": "f22SZssolmSp"
      }
    },
    {
      "cell_type": "markdown",
      "source": [
        "![화면 캡처 2023-06-28 102424.jpg](data:image/jpeg;base64,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)"
      ],
      "metadata": {
        "id": "3PefNOHMmd6b"
      }
    },
    {
      "cell_type": "markdown",
      "source": [
        "# 4. 유사도 측정 실습\n"
      ],
      "metadata": {
        "id": "hYMKVaCMnHi1"
      }
    },
    {
      "cell_type": "markdown",
      "source": [
        "* sen_1, sen_2 : 의미가 유사한 문장 간 유사도 계산(조사 생략)\n",
        "* sen_1, sen_3 : 의미가 유사한 문장 간 유사도 계산(순서 변경)\n",
        "* sen_2, sen_4 : 문장 내 단어를 임의의 단어로 치환한 문장과 원 문장 간 유사도 계산\n",
        "* sen_1, sen_5 : 의미는 다르지만 비슷한 주제를 가지는 문장 간 유사도 계산\n",
        "* sen_1, sen_6 : 의미가 서로 다른 문장 간 유사도 계산"
      ],
      "metadata": {
        "id": "7WTxSN3RnLtj"
      }
    },
    {
      "cell_type": "code",
      "source": [
        "sen_1 = '오늘 점심에 배가 너무 고파서 밥을 너무 많이 먹었다.'\n",
        "sen_2 = '오늘 점심에 배가 고파서 밥을 많이 먹었다.'\n",
        "sen_3 = '오늘 배가 너무 고파서 점심에 밥을 너무 많이 먹었다.'\n",
        "sen_4 = '오늘 점심에 배가 고파서 비행기를 많이 먹었다.'\n",
        "sen_5 = '어제 저녁에 밥을 너무 많이 먹었더니 배가 부르다.'\n",
        "sen_6 = '이따가 오후 7시에 출발하는 비행기가 3시간 연착 되었다고 하네요.'"
      ],
      "metadata": {
        "id": "ddI2Nx8pmjO9"
      },
      "execution_count": 108,
      "outputs": []
    },
    {
      "cell_type": "code",
      "source": [
        "training_documents = [sen_1, sen_2, sen_3, sen_4, sen_5, sen_6]"
      ],
      "metadata": {
        "id": "ocqDr6LOoMPQ"
      },
      "execution_count": 109,
      "outputs": []
    },
    {
      "cell_type": "code",
      "source": [
        "!pip install newspaper3k"
      ],
      "metadata": {
        "colab": {
          "base_uri": "https://localhost:8080/"
        },
        "id": "mUPbalINo9N2",
        "outputId": "21f119d7-ace3-4431-d446-e33bc00e7568"
      },
      "execution_count": 110,
      "outputs": [
        {
          "output_type": "stream",
          "name": "stdout",
          "text": [
            "Requirement already satisfied: newspaper3k in /usr/local/lib/python3.10/dist-packages (0.2.8)\n",
            "Requirement already satisfied: beautifulsoup4>=4.4.1 in /usr/local/lib/python3.10/dist-packages (from newspaper3k) (4.11.2)\n",
            "Requirement already satisfied: Pillow>=3.3.0 in /usr/local/lib/python3.10/dist-packages (from newspaper3k) (8.4.0)\n",
            "Requirement already satisfied: PyYAML>=3.11 in /usr/local/lib/python3.10/dist-packages (from newspaper3k) (6.0)\n",
            "Requirement already satisfied: cssselect>=0.9.2 in /usr/local/lib/python3.10/dist-packages (from newspaper3k) (1.2.0)\n",
            "Requirement already satisfied: lxml>=3.6.0 in /usr/local/lib/python3.10/dist-packages (from newspaper3k) (4.9.2)\n",
            "Requirement already satisfied: nltk>=3.2.1 in /usr/local/lib/python3.10/dist-packages (from newspaper3k) (3.8.1)\n",
            "Requirement already satisfied: requests>=2.10.0 in /usr/local/lib/python3.10/dist-packages (from newspaper3k) (2.27.1)\n",
            "Requirement already satisfied: feedparser>=5.2.1 in /usr/local/lib/python3.10/dist-packages (from newspaper3k) (6.0.10)\n",
            "Requirement already satisfied: tldextract>=2.0.1 in /usr/local/lib/python3.10/dist-packages (from newspaper3k) (3.4.4)\n",
            "Requirement already satisfied: feedfinder2>=0.0.4 in /usr/local/lib/python3.10/dist-packages (from newspaper3k) (0.0.4)\n",
            "Requirement already satisfied: jieba3k>=0.35.1 in /usr/local/lib/python3.10/dist-packages (from newspaper3k) (0.35.1)\n",
            "Requirement already satisfied: python-dateutil>=2.5.3 in /usr/local/lib/python3.10/dist-packages (from newspaper3k) (2.8.2)\n",
            "Requirement already satisfied: tinysegmenter==0.3 in /usr/local/lib/python3.10/dist-packages (from newspaper3k) (0.3)\n",
            "Requirement already satisfied: soupsieve>1.2 in /usr/local/lib/python3.10/dist-packages (from beautifulsoup4>=4.4.1->newspaper3k) (2.4.1)\n",
            "Requirement already satisfied: six in /usr/local/lib/python3.10/dist-packages (from feedfinder2>=0.0.4->newspaper3k) (1.16.0)\n",
            "Requirement already satisfied: sgmllib3k in /usr/local/lib/python3.10/dist-packages (from feedparser>=5.2.1->newspaper3k) (1.0.0)\n",
            "Requirement already satisfied: click in /usr/local/lib/python3.10/dist-packages (from nltk>=3.2.1->newspaper3k) (8.1.3)\n",
            "Requirement already satisfied: joblib in /usr/local/lib/python3.10/dist-packages (from nltk>=3.2.1->newspaper3k) (1.2.0)\n",
            "Requirement already satisfied: regex>=2021.8.3 in /usr/local/lib/python3.10/dist-packages (from nltk>=3.2.1->newspaper3k) (2022.10.31)\n",
            "Requirement already satisfied: tqdm in /usr/local/lib/python3.10/dist-packages (from nltk>=3.2.1->newspaper3k) (4.65.0)\n",
            "Requirement already satisfied: urllib3<1.27,>=1.21.1 in /usr/local/lib/python3.10/dist-packages (from requests>=2.10.0->newspaper3k) (1.26.16)\n",
            "Requirement already satisfied: certifi>=2017.4.17 in /usr/local/lib/python3.10/dist-packages (from requests>=2.10.0->newspaper3k) (2023.5.7)\n",
            "Requirement already satisfied: charset-normalizer~=2.0.0 in /usr/local/lib/python3.10/dist-packages (from requests>=2.10.0->newspaper3k) (2.0.12)\n",
            "Requirement already satisfied: idna<4,>=2.5 in /usr/local/lib/python3.10/dist-packages (from requests>=2.10.0->newspaper3k) (3.4)\n",
            "Requirement already satisfied: requests-file>=1.4 in /usr/local/lib/python3.10/dist-packages (from tldextract>=2.0.1->newspaper3k) (1.5.1)\n",
            "Requirement already satisfied: filelock>=3.0.8 in /usr/local/lib/python3.10/dist-packages (from tldextract>=2.0.1->newspaper3k) (3.12.2)\n"
          ]
        }
      ]
    },
    {
      "cell_type": "code",
      "source": [
        "from newspaper import Article"
      ],
      "metadata": {
        "id": "wGwb2zkhoVUr"
      },
      "execution_count": 111,
      "outputs": []
    },
    {
      "cell_type": "code",
      "source": [
        "URL = 'https://v.daum.net/v/20230628102848646'\n",
        "article = Article(URL, language='ko')"
      ],
      "metadata": {
        "id": "LQ2OaKvgoj_K"
      },
      "execution_count": 112,
      "outputs": []
    },
    {
      "cell_type": "code",
      "source": [
        "article.download()\n",
        "article.parse()\n",
        "\n",
        "news_title = article.title\n",
        "news_context = article.text\n",
        "\n",
        "print('title: ', news_title)\n",
        "print('context: ', news_context)"
      ],
      "metadata": {
        "colab": {
          "base_uri": "https://localhost:8080/"
        },
        "id": "owR_C6MgoqgT",
        "outputId": "eb5d12d9-70c2-4d34-aea1-f16cbff41a52"
      },
      "execution_count": 113,
      "outputs": [
        {
          "output_type": "stream",
          "name": "stdout",
          "text": [
            "title:  日 오염수 방류 사태가 부른 소금 품귀.. 해경 특별단속\n",
            "context:  \n",
            "\n",
            "일본 후쿠시마 원전 오염수 해양 방류가 초읽기에 들어가면서 소금 품귀 현상이 빚어지고 있는 가운데 해경이 단속 강화에 나섭니다.\n",
            "\n",
            "제주지방해양경찰청은 그제(26일)부터 천일염 수급 안정화를 위해 도내 유통업체 등을 대상으로 천일염 불법 유통·판매 행위에 대한 특별단속을 실시하고 있다고 오늘(28일) 밝혔습니다.\n",
            "\n",
            "중점 단속 대상은 수입산 국산 둔갑행위, 식용불가 소금 유통행위, 수입산과 혼합생산 행위, 유통이력 거짓표시 행위 등입니다.\n",
            "\n",
            "해경 관계자는 \"해양수산부, 지자체 등과 합동단속반을 구성, 가용인력을 총동원해 유통질서를 바로잡겠다\"며 \"천일염 불법행위 발견시 즉시 신고해주길 바란다\"고 말했습니다.\n",
            "\n",
            "\n",
            "\n",
            "\n",
            "\n",
            "JIBS 제주방송 김재연(Replaykim@jibs.co.kr) 기자\n"
          ]
        }
      ]
    },
    {
      "cell_type": "code",
      "source": [
        "news_context = article.text.split('\\n')"
      ],
      "metadata": {
        "id": "0Zw7cStJpcEO"
      },
      "execution_count": 114,
      "outputs": []
    },
    {
      "cell_type": "code",
      "source": [
        "for text in news_context:\n",
        "  print(text)"
      ],
      "metadata": {
        "colab": {
          "base_uri": "https://localhost:8080/"
        },
        "id": "GXg9CfCHpgix",
        "outputId": "958ca799-2c36-4aad-bcb8-5dba7d432aed"
      },
      "execution_count": 115,
      "outputs": [
        {
          "output_type": "stream",
          "name": "stdout",
          "text": [
            "\n",
            "\n",
            "일본 후쿠시마 원전 오염수 해양 방류가 초읽기에 들어가면서 소금 품귀 현상이 빚어지고 있는 가운데 해경이 단속 강화에 나섭니다.\n",
            "\n",
            "제주지방해양경찰청은 그제(26일)부터 천일염 수급 안정화를 위해 도내 유통업체 등을 대상으로 천일염 불법 유통·판매 행위에 대한 특별단속을 실시하고 있다고 오늘(28일) 밝혔습니다.\n",
            "\n",
            "중점 단속 대상은 수입산 국산 둔갑행위, 식용불가 소금 유통행위, 수입산과 혼합생산 행위, 유통이력 거짓표시 행위 등입니다.\n",
            "\n",
            "해경 관계자는 \"해양수산부, 지자체 등과 합동단속반을 구성, 가용인력을 총동원해 유통질서를 바로잡겠다\"며 \"천일염 불법행위 발견시 즉시 신고해주길 바란다\"고 말했습니다.\n",
            "\n",
            "\n",
            "\n",
            "\n",
            "\n",
            "JIBS 제주방송 김재연(Replaykim@jibs.co.kr) 기자\n"
          ]
        }
      ]
    },
    {
      "cell_type": "code",
      "source": [
        "!pip install kss"
      ],
      "metadata": {
        "colab": {
          "base_uri": "https://localhost:8080/"
        },
        "id": "g-kSeuEDpqHi",
        "outputId": "deb1e137-dc2f-4ffa-f9a1-c17ddd33d770"
      },
      "execution_count": 116,
      "outputs": [
        {
          "output_type": "stream",
          "name": "stdout",
          "text": [
            "Requirement already satisfied: kss in /usr/local/lib/python3.10/dist-packages (4.5.3)\n",
            "Requirement already satisfied: emoji==1.2.0 in /usr/local/lib/python3.10/dist-packages (from kss) (1.2.0)\n",
            "Requirement already satisfied: regex in /usr/local/lib/python3.10/dist-packages (from kss) (2022.10.31)\n",
            "Requirement already satisfied: pecab in /usr/local/lib/python3.10/dist-packages (from kss) (1.0.8)\n",
            "Requirement already satisfied: networkx in /usr/local/lib/python3.10/dist-packages (from kss) (3.1)\n",
            "Requirement already satisfied: numpy in /usr/local/lib/python3.10/dist-packages (from pecab->kss) (1.22.4)\n",
            "Requirement already satisfied: pyarrow in /usr/local/lib/python3.10/dist-packages (from pecab->kss) (9.0.0)\n",
            "Requirement already satisfied: pytest in /usr/local/lib/python3.10/dist-packages (from pecab->kss) (7.2.2)\n",
            "Requirement already satisfied: attrs>=19.2.0 in /usr/local/lib/python3.10/dist-packages (from pytest->pecab->kss) (23.1.0)\n",
            "Requirement already satisfied: iniconfig in /usr/local/lib/python3.10/dist-packages (from pytest->pecab->kss) (2.0.0)\n",
            "Requirement already satisfied: packaging in /usr/local/lib/python3.10/dist-packages (from pytest->pecab->kss) (23.1)\n",
            "Requirement already satisfied: pluggy<2.0,>=0.12 in /usr/local/lib/python3.10/dist-packages (from pytest->pecab->kss) (1.2.0)\n",
            "Requirement already satisfied: exceptiongroup>=1.0.0rc8 in /usr/local/lib/python3.10/dist-packages (from pytest->pecab->kss) (1.1.1)\n",
            "Requirement already satisfied: tomli>=1.0.0 in /usr/local/lib/python3.10/dist-packages (from pytest->pecab->kss) (2.0.1)\n"
          ]
        }
      ]
    },
    {
      "cell_type": "code",
      "source": [
        "import kss"
      ],
      "metadata": {
        "id": "6XZX3FBJptUW"
      },
      "execution_count": 117,
      "outputs": []
    },
    {
      "cell_type": "code",
      "source": [
        "def sentence_seperator(processed_context):\n",
        "  splited_context = []\n",
        "\n",
        "  for text in processed_context:\n",
        "    text = text.strip()\n",
        "    if text:\n",
        "      splited_text = kss.split_sentences(text)\n",
        "      splited_context.extend(splited_text)\n",
        "\n",
        "  return splited_context"
      ],
      "metadata": {
        "id": "rTJ8CnqLqTP6"
      },
      "execution_count": 118,
      "outputs": []
    },
    {
      "cell_type": "code",
      "source": [
        "splited_context = sentence_seperator(news_context)\n",
        "\n",
        "for text in enumerate(splited_context):\n",
        "  print(text)"
      ],
      "metadata": {
        "colab": {
          "base_uri": "https://localhost:8080/"
        },
        "id": "ALU4pLjmqzBW",
        "outputId": "5fa76d6d-5db2-47b1-d75c-5bdef2afe36f"
      },
      "execution_count": 119,
      "outputs": [
        {
          "output_type": "stream",
          "name": "stdout",
          "text": [
            "(0, '일본 후쿠시마 원전 오염수 해양 방류가 초읽기에 들어가면서 소금 품귀 현상이 빚어지고 있는 가운데 해경이 단속 강화에 나섭니다.')\n",
            "(1, '제주지방해양경찰청은 그제(26일)부터 천일염 수급 안정화를 위해 도내 유통업체 등을 대상으로 천일염 불법 유통·판매 행위에 대한 특별단속을 실시하고 있다고 오늘(28일) 밝혔습니다.')\n",
            "(2, '중점 단속 대상은 수입산 국산 둔갑행위, 식용불가 소금 유통행위, 수입산과 혼합생산 행위, 유통이력 거짓표시 행위 등입니다.')\n",
            "(3, '해경 관계자는 \"해양수산부, 지자체 등과 합동단속반을 구성, 가용인력을 총동원해 유통질서를 바로잡겠다\"며 \"천일염 불법행위 발견시 즉시 신고해주길 바란다\"고 말했습니다.')\n",
            "(4, 'JIBS 제주방송 김재연(Replaykim@jibs.co.kr) 기자')\n"
          ]
        }
      ]
    },
    {
      "cell_type": "code",
      "source": [
        "augmented_training_documents = training_documents + splited_context"
      ],
      "metadata": {
        "id": "OZM3cFguq-JU"
      },
      "execution_count": 120,
      "outputs": []
    },
    {
      "cell_type": "code",
      "source": [
        "for text in augmented_training_documents:\n",
        "  print(text)"
      ],
      "metadata": {
        "colab": {
          "base_uri": "https://localhost:8080/"
        },
        "id": "d8g4KX65rPqq",
        "outputId": "f69b4adb-8f5a-41ef-e980-177a12a32133"
      },
      "execution_count": 121,
      "outputs": [
        {
          "output_type": "stream",
          "name": "stdout",
          "text": [
            "오늘 점심에 배가 너무 고파서 밥을 너무 많이 먹었다.\n",
            "오늘 점심에 배가 고파서 밥을 많이 먹었다.\n",
            "오늘 배가 너무 고파서 점심에 밥을 너무 많이 먹었다.\n",
            "오늘 점심에 배가 고파서 비행기를 많이 먹었다.\n",
            "어제 저녁에 밥을 너무 많이 먹었더니 배가 부르다.\n",
            "이따가 오후 7시에 출발하는 비행기가 3시간 연착 되었다고 하네요.\n",
            "일본 후쿠시마 원전 오염수 해양 방류가 초읽기에 들어가면서 소금 품귀 현상이 빚어지고 있는 가운데 해경이 단속 강화에 나섭니다.\n",
            "제주지방해양경찰청은 그제(26일)부터 천일염 수급 안정화를 위해 도내 유통업체 등을 대상으로 천일염 불법 유통·판매 행위에 대한 특별단속을 실시하고 있다고 오늘(28일) 밝혔습니다.\n",
            "중점 단속 대상은 수입산 국산 둔갑행위, 식용불가 소금 유통행위, 수입산과 혼합생산 행위, 유통이력 거짓표시 행위 등입니다.\n",
            "해경 관계자는 \"해양수산부, 지자체 등과 합동단속반을 구성, 가용인력을 총동원해 유통질서를 바로잡겠다\"며 \"천일염 불법행위 발견시 즉시 신고해주길 바란다\"고 말했습니다.\n",
            "JIBS 제주방송 김재연(Replaykim@jibs.co.kr) 기자\n"
          ]
        }
      ]
    },
    {
      "cell_type": "code",
      "source": [
        "# Bag of Words 기반 문서-단어 행렬을 활용한 문장 간 유사도 측정\n",
        "from sklearn.feature_extraction.text import CountVectorizer\n"
      ],
      "metadata": {
        "id": "61DADGgCrgKB"
      },
      "execution_count": 122,
      "outputs": []
    },
    {
      "cell_type": "code",
      "source": [
        "bow_vectorizer = CountVectorizer()\n",
        "bow_vectorizer.fit(augmented_training_documents)"
      ],
      "metadata": {
        "colab": {
          "base_uri": "https://localhost:8080/",
          "height": 74
        },
        "id": "6LlBreagr16f",
        "outputId": "63cdce30-554d-4135-d8cc-23ec15501a52"
      },
      "execution_count": 123,
      "outputs": [
        {
          "output_type": "execute_result",
          "data": {
            "text/plain": [
              "CountVectorizer()"
            ],
            "text/html": [
              "<style>#sk-container-id-2 {color: black;background-color: white;}#sk-container-id-2 pre{padding: 0;}#sk-container-id-2 div.sk-toggleable {background-color: white;}#sk-container-id-2 label.sk-toggleable__label {cursor: pointer;display: block;width: 100%;margin-bottom: 0;padding: 0.3em;box-sizing: border-box;text-align: center;}#sk-container-id-2 label.sk-toggleable__label-arrow:before {content: \"▸\";float: left;margin-right: 0.25em;color: #696969;}#sk-container-id-2 label.sk-toggleable__label-arrow:hover:before {color: black;}#sk-container-id-2 div.sk-estimator:hover label.sk-toggleable__label-arrow:before {color: black;}#sk-container-id-2 div.sk-toggleable__content {max-height: 0;max-width: 0;overflow: hidden;text-align: left;background-color: #f0f8ff;}#sk-container-id-2 div.sk-toggleable__content pre {margin: 0.2em;color: black;border-radius: 0.25em;background-color: #f0f8ff;}#sk-container-id-2 input.sk-toggleable__control:checked~div.sk-toggleable__content {max-height: 200px;max-width: 100%;overflow: auto;}#sk-container-id-2 input.sk-toggleable__control:checked~label.sk-toggleable__label-arrow:before {content: \"▾\";}#sk-container-id-2 div.sk-estimator input.sk-toggleable__control:checked~label.sk-toggleable__label {background-color: #d4ebff;}#sk-container-id-2 div.sk-label input.sk-toggleable__control:checked~label.sk-toggleable__label {background-color: #d4ebff;}#sk-container-id-2 input.sk-hidden--visually {border: 0;clip: rect(1px 1px 1px 1px);clip: rect(1px, 1px, 1px, 1px);height: 1px;margin: -1px;overflow: hidden;padding: 0;position: absolute;width: 1px;}#sk-container-id-2 div.sk-estimator {font-family: monospace;background-color: #f0f8ff;border: 1px dotted black;border-radius: 0.25em;box-sizing: border-box;margin-bottom: 0.5em;}#sk-container-id-2 div.sk-estimator:hover {background-color: #d4ebff;}#sk-container-id-2 div.sk-parallel-item::after {content: \"\";width: 100%;border-bottom: 1px solid gray;flex-grow: 1;}#sk-container-id-2 div.sk-label:hover label.sk-toggleable__label {background-color: #d4ebff;}#sk-container-id-2 div.sk-serial::before {content: \"\";position: absolute;border-left: 1px solid gray;box-sizing: border-box;top: 0;bottom: 0;left: 50%;z-index: 0;}#sk-container-id-2 div.sk-serial {display: flex;flex-direction: column;align-items: center;background-color: white;padding-right: 0.2em;padding-left: 0.2em;position: relative;}#sk-container-id-2 div.sk-item {position: relative;z-index: 1;}#sk-container-id-2 div.sk-parallel {display: flex;align-items: stretch;justify-content: center;background-color: white;position: relative;}#sk-container-id-2 div.sk-item::before, #sk-container-id-2 div.sk-parallel-item::before {content: \"\";position: absolute;border-left: 1px solid gray;box-sizing: border-box;top: 0;bottom: 0;left: 50%;z-index: -1;}#sk-container-id-2 div.sk-parallel-item {display: flex;flex-direction: column;z-index: 1;position: relative;background-color: white;}#sk-container-id-2 div.sk-parallel-item:first-child::after {align-self: flex-end;width: 50%;}#sk-container-id-2 div.sk-parallel-item:last-child::after {align-self: flex-start;width: 50%;}#sk-container-id-2 div.sk-parallel-item:only-child::after {width: 0;}#sk-container-id-2 div.sk-dashed-wrapped {border: 1px dashed gray;margin: 0 0.4em 0.5em 0.4em;box-sizing: border-box;padding-bottom: 0.4em;background-color: white;}#sk-container-id-2 div.sk-label label {font-family: monospace;font-weight: bold;display: inline-block;line-height: 1.2em;}#sk-container-id-2 div.sk-label-container {text-align: center;}#sk-container-id-2 div.sk-container {/* jupyter's `normalize.less` sets `[hidden] { display: none; }` but bootstrap.min.css set `[hidden] { display: none !important; }` so we also need the `!important` here to be able to override the default hidden behavior on the sphinx rendered scikit-learn.org. See: https://github.com/scikit-learn/scikit-learn/issues/21755 */display: inline-block !important;position: relative;}#sk-container-id-2 div.sk-text-repr-fallback {display: none;}</style><div id=\"sk-container-id-2\" class=\"sk-top-container\"><div class=\"sk-text-repr-fallback\"><pre>CountVectorizer()</pre><b>In a Jupyter environment, please rerun this cell to show the HTML representation or trust the notebook. <br />On GitHub, the HTML representation is unable to render, please try loading this page with nbviewer.org.</b></div><div class=\"sk-container\" hidden><div class=\"sk-item\"><div class=\"sk-estimator sk-toggleable\"><input class=\"sk-toggleable__control sk-hidden--visually\" id=\"sk-estimator-id-2\" type=\"checkbox\" checked><label for=\"sk-estimator-id-2\" class=\"sk-toggleable__label sk-toggleable__label-arrow\">CountVectorizer</label><div class=\"sk-toggleable__content\"><pre>CountVectorizer()</pre></div></div></div></div></div>"
            ]
          },
          "metadata": {},
          "execution_count": 123
        }
      ]
    },
    {
      "cell_type": "code",
      "source": [
        "word_indxes = bow_vectorizer.vocabulary_\n",
        "\n",
        "for key, idx in sorted(word_indxes.items()):\n",
        "  print(f'{key}: {idx}')"
      ],
      "metadata": {
        "colab": {
          "base_uri": "https://localhost:8080/"
        },
        "id": "JjP0YFOpsAjK",
        "outputId": "b4dc2c61-51f4-418e-a458-0e38cc816b5f"
      },
      "execution_count": 124,
      "outputs": [
        {
          "output_type": "stream",
          "name": "stdout",
          "text": [
            "26일: 0\n",
            "28일: 1\n",
            "3시간: 2\n",
            "7시에: 3\n",
            "co: 4\n",
            "jibs: 5\n",
            "kr: 6\n",
            "replaykim: 7\n",
            "가용인력을: 8\n",
            "가운데: 9\n",
            "강화에: 10\n",
            "거짓표시: 11\n",
            "고파서: 12\n",
            "관계자는: 13\n",
            "구성: 14\n",
            "국산: 15\n",
            "그제: 16\n",
            "기자: 17\n",
            "김재연: 18\n",
            "나섭니다: 19\n",
            "너무: 20\n",
            "단속: 21\n",
            "대상으로: 22\n",
            "대상은: 23\n",
            "대한: 24\n",
            "도내: 25\n",
            "되었다고: 26\n",
            "둔갑행위: 27\n",
            "들어가면서: 28\n",
            "등과: 29\n",
            "등을: 30\n",
            "등입니다: 31\n",
            "많이: 32\n",
            "말했습니다: 33\n",
            "먹었다: 34\n",
            "먹었더니: 35\n",
            "바란다: 36\n",
            "바로잡겠다: 37\n",
            "발견시: 38\n",
            "밝혔습니다: 39\n",
            "밥을: 40\n",
            "방류가: 41\n",
            "배가: 42\n",
            "부르다: 43\n",
            "부터: 44\n",
            "불법: 45\n",
            "불법행위: 46\n",
            "비행기가: 47\n",
            "비행기를: 48\n",
            "빚어지고: 49\n",
            "소금: 50\n",
            "수급: 51\n",
            "수입산: 52\n",
            "수입산과: 53\n",
            "식용불가: 54\n",
            "신고해주길: 55\n",
            "실시하고: 56\n",
            "안정화를: 57\n",
            "어제: 58\n",
            "연착: 59\n",
            "오늘: 60\n",
            "오염수: 61\n",
            "오후: 62\n",
            "원전: 63\n",
            "위해: 64\n",
            "유통: 65\n",
            "유통업체: 66\n",
            "유통이력: 67\n",
            "유통질서를: 68\n",
            "유통행위: 69\n",
            "이따가: 70\n",
            "일본: 71\n",
            "있는: 72\n",
            "있다고: 73\n",
            "저녁에: 74\n",
            "점심에: 75\n",
            "제주방송: 76\n",
            "제주지방해양경찰청은: 77\n",
            "중점: 78\n",
            "즉시: 79\n",
            "지자체: 80\n",
            "천일염: 81\n",
            "초읽기에: 82\n",
            "총동원해: 83\n",
            "출발하는: 84\n",
            "특별단속을: 85\n",
            "판매: 86\n",
            "품귀: 87\n",
            "하네요: 88\n",
            "합동단속반을: 89\n",
            "해경: 90\n",
            "해경이: 91\n",
            "해양: 92\n",
            "해양수산부: 93\n",
            "행위: 94\n",
            "행위에: 95\n",
            "현상이: 96\n",
            "혼합생산: 97\n",
            "후쿠시마: 98\n"
          ]
        }
      ]
    },
    {
      "cell_type": "code",
      "source": [
        "# 각 단어별로 컬럼으로 배치\n",
        "# 각 문자별로 나열\n",
        "import pandas as pd"
      ],
      "metadata": {
        "id": "etKcrTojspcu"
      },
      "execution_count": 125,
      "outputs": []
    },
    {
      "cell_type": "code",
      "source": [
        "result = []\n",
        "vocab = list(word_indxes.keys())\n",
        "\n",
        "for i in range(len(training_documents)):\n",
        "  result.append([])\n",
        "  d = training_documents[i]\n",
        "  for j in range(len(vocab)):\n",
        "    target = vocab[j]\n",
        "    result[-1].append(d.count(target))\n",
        "\n",
        "tf = pd.DataFrame(result, columns=vocab)\n",
        "tf"
      ],
      "metadata": {
        "colab": {
          "base_uri": "https://localhost:8080/",
          "height": 266
        },
        "id": "xnj9Z2cz1Se1",
        "outputId": "0c52d929-41f8-4dd5-9dbb-f74d3314d39a"
      },
      "execution_count": 126,
      "outputs": [
        {
          "output_type": "execute_result",
          "data": {
            "text/plain": [
              "   오늘  점심에  배가  너무  고파서  밥을  많이  먹었다  비행기를  어제  ...  신고해주길  바란다  말했습니다  jibs  \\\n",
              "0   1    1   1   2    1   1   1    1     0   0  ...      0    0      0     0   \n",
              "1   1    1   1   0    1   1   1    1     0   0  ...      0    0      0     0   \n",
              "2   1    1   1   2    1   1   1    1     0   0  ...      0    0      0     0   \n",
              "3   1    1   1   0    1   0   1    1     1   0  ...      0    0      0     0   \n",
              "4   0    0   1   1    0   1   1    0     0   1  ...      0    0      0     0   \n",
              "5   0    0   0   0    0   0   0    0     0   0  ...      0    0      0     0   \n",
              "\n",
              "   제주방송  김재연  replaykim  co  kr  기자  \n",
              "0     0    0          0   0   0   0  \n",
              "1     0    0          0   0   0   0  \n",
              "2     0    0          0   0   0   0  \n",
              "3     0    0          0   0   0   0  \n",
              "4     0    0          0   0   0   0  \n",
              "5     0    0          0   0   0   0  \n",
              "\n",
              "[6 rows x 99 columns]"
            ],
            "text/html": [
              "\n",
              "  <div id=\"df-ab855922-3ceb-46f5-b036-e5ed22fae55b\">\n",
              "    <div class=\"colab-df-container\">\n",
              "      <div>\n",
              "<style scoped>\n",
              "    .dataframe tbody tr th:only-of-type {\n",
              "        vertical-align: middle;\n",
              "    }\n",
              "\n",
              "    .dataframe tbody tr th {\n",
              "        vertical-align: top;\n",
              "    }\n",
              "\n",
              "    .dataframe thead th {\n",
              "        text-align: right;\n",
              "    }\n",
              "</style>\n",
              "<table border=\"1\" class=\"dataframe\">\n",
              "  <thead>\n",
              "    <tr style=\"text-align: right;\">\n",
              "      <th></th>\n",
              "      <th>오늘</th>\n",
              "      <th>점심에</th>\n",
              "      <th>배가</th>\n",
              "      <th>너무</th>\n",
              "      <th>고파서</th>\n",
              "      <th>밥을</th>\n",
              "      <th>많이</th>\n",
              "      <th>먹었다</th>\n",
              "      <th>비행기를</th>\n",
              "      <th>어제</th>\n",
              "      <th>...</th>\n",
              "      <th>신고해주길</th>\n",
              "      <th>바란다</th>\n",
              "      <th>말했습니다</th>\n",
              "      <th>jibs</th>\n",
              "      <th>제주방송</th>\n",
              "      <th>김재연</th>\n",
              "      <th>replaykim</th>\n",
              "      <th>co</th>\n",
              "      <th>kr</th>\n",
              "      <th>기자</th>\n",
              "    </tr>\n",
              "  </thead>\n",
              "  <tbody>\n",
              "    <tr>\n",
              "      <th>0</th>\n",
              "      <td>1</td>\n",
              "      <td>1</td>\n",
              "      <td>1</td>\n",
              "      <td>2</td>\n",
              "      <td>1</td>\n",
              "      <td>1</td>\n",
              "      <td>1</td>\n",
              "      <td>1</td>\n",
              "      <td>0</td>\n",
              "      <td>0</td>\n",
              "      <td>...</td>\n",
              "      <td>0</td>\n",
              "      <td>0</td>\n",
              "      <td>0</td>\n",
              "      <td>0</td>\n",
              "      <td>0</td>\n",
              "      <td>0</td>\n",
              "      <td>0</td>\n",
              "      <td>0</td>\n",
              "      <td>0</td>\n",
              "      <td>0</td>\n",
              "    </tr>\n",
              "    <tr>\n",
              "      <th>1</th>\n",
              "      <td>1</td>\n",
              "      <td>1</td>\n",
              "      <td>1</td>\n",
              "      <td>0</td>\n",
              "      <td>1</td>\n",
              "      <td>1</td>\n",
              "      <td>1</td>\n",
              "      <td>1</td>\n",
              "      <td>0</td>\n",
              "      <td>0</td>\n",
              "      <td>...</td>\n",
              "      <td>0</td>\n",
              "      <td>0</td>\n",
              "      <td>0</td>\n",
              "      <td>0</td>\n",
              "      <td>0</td>\n",
              "      <td>0</td>\n",
              "      <td>0</td>\n",
              "      <td>0</td>\n",
              "      <td>0</td>\n",
              "      <td>0</td>\n",
              "    </tr>\n",
              "    <tr>\n",
              "      <th>2</th>\n",
              "      <td>1</td>\n",
              "      <td>1</td>\n",
              "      <td>1</td>\n",
              "      <td>2</td>\n",
              "      <td>1</td>\n",
              "      <td>1</td>\n",
              "      <td>1</td>\n",
              "      <td>1</td>\n",
              "      <td>0</td>\n",
              "      <td>0</td>\n",
              "      <td>...</td>\n",
              "      <td>0</td>\n",
              "      <td>0</td>\n",
              "      <td>0</td>\n",
              "      <td>0</td>\n",
              "      <td>0</td>\n",
              "      <td>0</td>\n",
              "      <td>0</td>\n",
              "      <td>0</td>\n",
              "      <td>0</td>\n",
              "      <td>0</td>\n",
              "    </tr>\n",
              "    <tr>\n",
              "      <th>3</th>\n",
              "      <td>1</td>\n",
              "      <td>1</td>\n",
              "      <td>1</td>\n",
              "      <td>0</td>\n",
              "      <td>1</td>\n",
              "      <td>0</td>\n",
              "      <td>1</td>\n",
              "      <td>1</td>\n",
              "      <td>1</td>\n",
              "      <td>0</td>\n",
              "      <td>...</td>\n",
              "      <td>0</td>\n",
              "      <td>0</td>\n",
              "      <td>0</td>\n",
              "      <td>0</td>\n",
              "      <td>0</td>\n",
              "      <td>0</td>\n",
              "      <td>0</td>\n",
              "      <td>0</td>\n",
              "      <td>0</td>\n",
              "      <td>0</td>\n",
              "    </tr>\n",
              "    <tr>\n",
              "      <th>4</th>\n",
              "      <td>0</td>\n",
              "      <td>0</td>\n",
              "      <td>1</td>\n",
              "      <td>1</td>\n",
              "      <td>0</td>\n",
              "      <td>1</td>\n",
              "      <td>1</td>\n",
              "      <td>0</td>\n",
              "      <td>0</td>\n",
              "      <td>1</td>\n",
              "      <td>...</td>\n",
              "      <td>0</td>\n",
              "      <td>0</td>\n",
              "      <td>0</td>\n",
              "      <td>0</td>\n",
              "      <td>0</td>\n",
              "      <td>0</td>\n",
              "      <td>0</td>\n",
              "      <td>0</td>\n",
              "      <td>0</td>\n",
              "      <td>0</td>\n",
              "    </tr>\n",
              "    <tr>\n",
              "      <th>5</th>\n",
              "      <td>0</td>\n",
              "      <td>0</td>\n",
              "      <td>0</td>\n",
              "      <td>0</td>\n",
              "      <td>0</td>\n",
              "      <td>0</td>\n",
              "      <td>0</td>\n",
              "      <td>0</td>\n",
              "      <td>0</td>\n",
              "      <td>0</td>\n",
              "      <td>...</td>\n",
              "      <td>0</td>\n",
              "      <td>0</td>\n",
              "      <td>0</td>\n",
              "      <td>0</td>\n",
              "      <td>0</td>\n",
              "      <td>0</td>\n",
              "      <td>0</td>\n",
              "      <td>0</td>\n",
              "      <td>0</td>\n",
              "      <td>0</td>\n",
              "    </tr>\n",
              "  </tbody>\n",
              "</table>\n",
              "<p>6 rows × 99 columns</p>\n",
              "</div>\n",
              "      <button class=\"colab-df-convert\" onclick=\"convertToInteractive('df-ab855922-3ceb-46f5-b036-e5ed22fae55b')\"\n",
              "              title=\"Convert this dataframe to an interactive table.\"\n",
              "              style=\"display:none;\">\n",
              "        \n",
              "  <svg xmlns=\"http://www.w3.org/2000/svg\" height=\"24px\"viewBox=\"0 0 24 24\"\n",
              "       width=\"24px\">\n",
              "    <path d=\"M0 0h24v24H0V0z\" fill=\"none\"/>\n",
              "    <path d=\"M18.56 5.44l.94 2.06.94-2.06 2.06-.94-2.06-.94-.94-2.06-.94 2.06-2.06.94zm-11 1L8.5 8.5l.94-2.06 2.06-.94-2.06-.94L8.5 2.5l-.94 2.06-2.06.94zm10 10l.94 2.06.94-2.06 2.06-.94-2.06-.94-.94-2.06-.94 2.06-2.06.94z\"/><path d=\"M17.41 7.96l-1.37-1.37c-.4-.4-.92-.59-1.43-.59-.52 0-1.04.2-1.43.59L10.3 9.45l-7.72 7.72c-.78.78-.78 2.05 0 2.83L4 21.41c.39.39.9.59 1.41.59.51 0 1.02-.2 1.41-.59l7.78-7.78 2.81-2.81c.8-.78.8-2.07 0-2.86zM5.41 20L4 18.59l7.72-7.72 1.47 1.35L5.41 20z\"/>\n",
              "  </svg>\n",
              "      </button>\n",
              "      \n",
              "  <style>\n",
              "    .colab-df-container {\n",
              "      display:flex;\n",
              "      flex-wrap:wrap;\n",
              "      gap: 12px;\n",
              "    }\n",
              "\n",
              "    .colab-df-convert {\n",
              "      background-color: #E8F0FE;\n",
              "      border: none;\n",
              "      border-radius: 50%;\n",
              "      cursor: pointer;\n",
              "      display: none;\n",
              "      fill: #1967D2;\n",
              "      height: 32px;\n",
              "      padding: 0 0 0 0;\n",
              "      width: 32px;\n",
              "    }\n",
              "\n",
              "    .colab-df-convert:hover {\n",
              "      background-color: #E2EBFA;\n",
              "      box-shadow: 0px 1px 2px rgba(60, 64, 67, 0.3), 0px 1px 3px 1px rgba(60, 64, 67, 0.15);\n",
              "      fill: #174EA6;\n",
              "    }\n",
              "\n",
              "    [theme=dark] .colab-df-convert {\n",
              "      background-color: #3B4455;\n",
              "      fill: #D2E3FC;\n",
              "    }\n",
              "\n",
              "    [theme=dark] .colab-df-convert:hover {\n",
              "      background-color: #434B5C;\n",
              "      box-shadow: 0px 1px 3px 1px rgba(0, 0, 0, 0.15);\n",
              "      filter: drop-shadow(0px 1px 2px rgba(0, 0, 0, 0.3));\n",
              "      fill: #FFFFFF;\n",
              "    }\n",
              "  </style>\n",
              "\n",
              "      <script>\n",
              "        const buttonEl =\n",
              "          document.querySelector('#df-ab855922-3ceb-46f5-b036-e5ed22fae55b button.colab-df-convert');\n",
              "        buttonEl.style.display =\n",
              "          google.colab.kernel.accessAllowed ? 'block' : 'none';\n",
              "\n",
              "        async function convertToInteractive(key) {\n",
              "          const element = document.querySelector('#df-ab855922-3ceb-46f5-b036-e5ed22fae55b');\n",
              "          const dataTable =\n",
              "            await google.colab.kernel.invokeFunction('convertToInteractive',\n",
              "                                                     [key], {});\n",
              "          if (!dataTable) return;\n",
              "\n",
              "          const docLinkHtml = 'Like what you see? Visit the ' +\n",
              "            '<a target=\"_blank\" href=https://colab.research.google.com/notebooks/data_table.ipynb>data table notebook</a>'\n",
              "            + ' to learn more about interactive tables.';\n",
              "          element.innerHTML = '';\n",
              "          dataTable['output_type'] = 'display_data';\n",
              "          await google.colab.output.renderOutput(dataTable, element);\n",
              "          const docLink = document.createElement('div');\n",
              "          docLink.innerHTML = docLinkHtml;\n",
              "          element.appendChild(docLink);\n",
              "        }\n",
              "      </script>\n",
              "    </div>\n",
              "  </div>\n",
              "  "
            ]
          },
          "metadata": {},
          "execution_count": 126
        }
      ]
    },
    {
      "cell_type": "code",
      "source": [
        "result = []\n",
        "vocab = list(word_indxes.keys())\n",
        "\n",
        "for i in range(len(augmented_training_documents)):\n",
        "  result.append([])\n",
        "  d = augmented_training_documents[i]\n",
        "  for j in range(len(vocab)):\n",
        "    target = vocab[j]\n",
        "    result[-1].append(d.count(target))\n",
        "\n",
        "tf = pd.DataFrame(result, columns=vocab)\n",
        "tf"
      ],
      "metadata": {
        "colab": {
          "base_uri": "https://localhost:8080/",
          "height": 423
        },
        "id": "LwrAoI5jtFhX",
        "outputId": "4dbc9a7f-ffa9-4c49-9610-29d4b8b1a462"
      },
      "execution_count": 127,
      "outputs": [
        {
          "output_type": "execute_result",
          "data": {
            "text/plain": [
              "    오늘  점심에  배가  너무  고파서  밥을  많이  먹었다  비행기를  어제  ...  신고해주길  바란다  말했습니다  jibs  \\\n",
              "0    1    1   1   2    1   1   1    1     0   0  ...      0    0      0     0   \n",
              "1    1    1   1   0    1   1   1    1     0   0  ...      0    0      0     0   \n",
              "2    1    1   1   2    1   1   1    1     0   0  ...      0    0      0     0   \n",
              "3    1    1   1   0    1   0   1    1     1   0  ...      0    0      0     0   \n",
              "4    0    0   1   1    0   1   1    0     0   1  ...      0    0      0     0   \n",
              "5    0    0   0   0    0   0   0    0     0   0  ...      0    0      0     0   \n",
              "6    0    0   0   0    0   0   0    0     0   0  ...      0    0      0     0   \n",
              "7    1    0   0   0    0   0   0    0     0   0  ...      0    0      0     0   \n",
              "8    0    0   0   0    0   0   0    0     0   0  ...      0    0      0     0   \n",
              "9    0    0   0   0    0   0   0    0     0   0  ...      1    1      1     0   \n",
              "10   0    0   0   0    0   0   0    0     0   0  ...      0    0      0     1   \n",
              "\n",
              "    제주방송  김재연  replaykim  co  kr  기자  \n",
              "0      0    0          0   0   0   0  \n",
              "1      0    0          0   0   0   0  \n",
              "2      0    0          0   0   0   0  \n",
              "3      0    0          0   0   0   0  \n",
              "4      0    0          0   0   0   0  \n",
              "5      0    0          0   0   0   0  \n",
              "6      0    0          0   0   0   0  \n",
              "7      0    0          0   0   0   0  \n",
              "8      0    0          0   0   0   0  \n",
              "9      0    0          0   0   0   0  \n",
              "10     1    1          0   1   1   1  \n",
              "\n",
              "[11 rows x 99 columns]"
            ],
            "text/html": [
              "\n",
              "  <div id=\"df-57a5ed63-a346-40b3-b56b-ba9199133ceb\">\n",
              "    <div class=\"colab-df-container\">\n",
              "      <div>\n",
              "<style scoped>\n",
              "    .dataframe tbody tr th:only-of-type {\n",
              "        vertical-align: middle;\n",
              "    }\n",
              "\n",
              "    .dataframe tbody tr th {\n",
              "        vertical-align: top;\n",
              "    }\n",
              "\n",
              "    .dataframe thead th {\n",
              "        text-align: right;\n",
              "    }\n",
              "</style>\n",
              "<table border=\"1\" class=\"dataframe\">\n",
              "  <thead>\n",
              "    <tr style=\"text-align: right;\">\n",
              "      <th></th>\n",
              "      <th>오늘</th>\n",
              "      <th>점심에</th>\n",
              "      <th>배가</th>\n",
              "      <th>너무</th>\n",
              "      <th>고파서</th>\n",
              "      <th>밥을</th>\n",
              "      <th>많이</th>\n",
              "      <th>먹었다</th>\n",
              "      <th>비행기를</th>\n",
              "      <th>어제</th>\n",
              "      <th>...</th>\n",
              "      <th>신고해주길</th>\n",
              "      <th>바란다</th>\n",
              "      <th>말했습니다</th>\n",
              "      <th>jibs</th>\n",
              "      <th>제주방송</th>\n",
              "      <th>김재연</th>\n",
              "      <th>replaykim</th>\n",
              "      <th>co</th>\n",
              "      <th>kr</th>\n",
              "      <th>기자</th>\n",
              "    </tr>\n",
              "  </thead>\n",
              "  <tbody>\n",
              "    <tr>\n",
              "      <th>0</th>\n",
              "      <td>1</td>\n",
              "      <td>1</td>\n",
              "      <td>1</td>\n",
              "      <td>2</td>\n",
              "      <td>1</td>\n",
              "      <td>1</td>\n",
              "      <td>1</td>\n",
              "      <td>1</td>\n",
              "      <td>0</td>\n",
              "      <td>0</td>\n",
              "      <td>...</td>\n",
              "      <td>0</td>\n",
              "      <td>0</td>\n",
              "      <td>0</td>\n",
              "      <td>0</td>\n",
              "      <td>0</td>\n",
              "      <td>0</td>\n",
              "      <td>0</td>\n",
              "      <td>0</td>\n",
              "      <td>0</td>\n",
              "      <td>0</td>\n",
              "    </tr>\n",
              "    <tr>\n",
              "      <th>1</th>\n",
              "      <td>1</td>\n",
              "      <td>1</td>\n",
              "      <td>1</td>\n",
              "      <td>0</td>\n",
              "      <td>1</td>\n",
              "      <td>1</td>\n",
              "      <td>1</td>\n",
              "      <td>1</td>\n",
              "      <td>0</td>\n",
              "      <td>0</td>\n",
              "      <td>...</td>\n",
              "      <td>0</td>\n",
              "      <td>0</td>\n",
              "      <td>0</td>\n",
              "      <td>0</td>\n",
              "      <td>0</td>\n",
              "      <td>0</td>\n",
              "      <td>0</td>\n",
              "      <td>0</td>\n",
              "      <td>0</td>\n",
              "      <td>0</td>\n",
              "    </tr>\n",
              "    <tr>\n",
              "      <th>2</th>\n",
              "      <td>1</td>\n",
              "      <td>1</td>\n",
              "      <td>1</td>\n",
              "      <td>2</td>\n",
              "      <td>1</td>\n",
              "      <td>1</td>\n",
              "      <td>1</td>\n",
              "      <td>1</td>\n",
              "      <td>0</td>\n",
              "      <td>0</td>\n",
              "      <td>...</td>\n",
              "      <td>0</td>\n",
              "      <td>0</td>\n",
              "      <td>0</td>\n",
              "      <td>0</td>\n",
              "      <td>0</td>\n",
              "      <td>0</td>\n",
              "      <td>0</td>\n",
              "      <td>0</td>\n",
              "      <td>0</td>\n",
              "      <td>0</td>\n",
              "    </tr>\n",
              "    <tr>\n",
              "      <th>3</th>\n",
              "      <td>1</td>\n",
              "      <td>1</td>\n",
              "      <td>1</td>\n",
              "      <td>0</td>\n",
              "      <td>1</td>\n",
              "      <td>0</td>\n",
              "      <td>1</td>\n",
              "      <td>1</td>\n",
              "      <td>1</td>\n",
              "      <td>0</td>\n",
              "      <td>...</td>\n",
              "      <td>0</td>\n",
              "      <td>0</td>\n",
              "      <td>0</td>\n",
              "      <td>0</td>\n",
              "      <td>0</td>\n",
              "      <td>0</td>\n",
              "      <td>0</td>\n",
              "      <td>0</td>\n",
              "      <td>0</td>\n",
              "      <td>0</td>\n",
              "    </tr>\n",
              "    <tr>\n",
              "      <th>4</th>\n",
              "      <td>0</td>\n",
              "      <td>0</td>\n",
              "      <td>1</td>\n",
              "      <td>1</td>\n",
              "      <td>0</td>\n",
              "      <td>1</td>\n",
              "      <td>1</td>\n",
              "      <td>0</td>\n",
              "      <td>0</td>\n",
              "      <td>1</td>\n",
              "      <td>...</td>\n",
              "      <td>0</td>\n",
              "      <td>0</td>\n",
              "      <td>0</td>\n",
              "      <td>0</td>\n",
              "      <td>0</td>\n",
              "      <td>0</td>\n",
              "      <td>0</td>\n",
              "      <td>0</td>\n",
              "      <td>0</td>\n",
              "      <td>0</td>\n",
              "    </tr>\n",
              "    <tr>\n",
              "      <th>5</th>\n",
              "      <td>0</td>\n",
              "      <td>0</td>\n",
              "      <td>0</td>\n",
              "      <td>0</td>\n",
              "      <td>0</td>\n",
              "      <td>0</td>\n",
              "      <td>0</td>\n",
              "      <td>0</td>\n",
              "      <td>0</td>\n",
              "      <td>0</td>\n",
              "      <td>...</td>\n",
              "      <td>0</td>\n",
              "      <td>0</td>\n",
              "      <td>0</td>\n",
              "      <td>0</td>\n",
              "      <td>0</td>\n",
              "      <td>0</td>\n",
              "      <td>0</td>\n",
              "      <td>0</td>\n",
              "      <td>0</td>\n",
              "      <td>0</td>\n",
              "    </tr>\n",
              "    <tr>\n",
              "      <th>6</th>\n",
              "      <td>0</td>\n",
              "      <td>0</td>\n",
              "      <td>0</td>\n",
              "      <td>0</td>\n",
              "      <td>0</td>\n",
              "      <td>0</td>\n",
              "      <td>0</td>\n",
              "      <td>0</td>\n",
              "      <td>0</td>\n",
              "      <td>0</td>\n",
              "      <td>...</td>\n",
              "      <td>0</td>\n",
              "      <td>0</td>\n",
              "      <td>0</td>\n",
              "      <td>0</td>\n",
              "      <td>0</td>\n",
              "      <td>0</td>\n",
              "      <td>0</td>\n",
              "      <td>0</td>\n",
              "      <td>0</td>\n",
              "      <td>0</td>\n",
              "    </tr>\n",
              "    <tr>\n",
              "      <th>7</th>\n",
              "      <td>1</td>\n",
              "      <td>0</td>\n",
              "      <td>0</td>\n",
              "      <td>0</td>\n",
              "      <td>0</td>\n",
              "      <td>0</td>\n",
              "      <td>0</td>\n",
              "      <td>0</td>\n",
              "      <td>0</td>\n",
              "      <td>0</td>\n",
              "      <td>...</td>\n",
              "      <td>0</td>\n",
              "      <td>0</td>\n",
              "      <td>0</td>\n",
              "      <td>0</td>\n",
              "      <td>0</td>\n",
              "      <td>0</td>\n",
              "      <td>0</td>\n",
              "      <td>0</td>\n",
              "      <td>0</td>\n",
              "      <td>0</td>\n",
              "    </tr>\n",
              "    <tr>\n",
              "      <th>8</th>\n",
              "      <td>0</td>\n",
              "      <td>0</td>\n",
              "      <td>0</td>\n",
              "      <td>0</td>\n",
              "      <td>0</td>\n",
              "      <td>0</td>\n",
              "      <td>0</td>\n",
              "      <td>0</td>\n",
              "      <td>0</td>\n",
              "      <td>0</td>\n",
              "      <td>...</td>\n",
              "      <td>0</td>\n",
              "      <td>0</td>\n",
              "      <td>0</td>\n",
              "      <td>0</td>\n",
              "      <td>0</td>\n",
              "      <td>0</td>\n",
              "      <td>0</td>\n",
              "      <td>0</td>\n",
              "      <td>0</td>\n",
              "      <td>0</td>\n",
              "    </tr>\n",
              "    <tr>\n",
              "      <th>9</th>\n",
              "      <td>0</td>\n",
              "      <td>0</td>\n",
              "      <td>0</td>\n",
              "      <td>0</td>\n",
              "      <td>0</td>\n",
              "      <td>0</td>\n",
              "      <td>0</td>\n",
              "      <td>0</td>\n",
              "      <td>0</td>\n",
              "      <td>0</td>\n",
              "      <td>...</td>\n",
              "      <td>1</td>\n",
              "      <td>1</td>\n",
              "      <td>1</td>\n",
              "      <td>0</td>\n",
              "      <td>0</td>\n",
              "      <td>0</td>\n",
              "      <td>0</td>\n",
              "      <td>0</td>\n",
              "      <td>0</td>\n",
              "      <td>0</td>\n",
              "    </tr>\n",
              "    <tr>\n",
              "      <th>10</th>\n",
              "      <td>0</td>\n",
              "      <td>0</td>\n",
              "      <td>0</td>\n",
              "      <td>0</td>\n",
              "      <td>0</td>\n",
              "      <td>0</td>\n",
              "      <td>0</td>\n",
              "      <td>0</td>\n",
              "      <td>0</td>\n",
              "      <td>0</td>\n",
              "      <td>...</td>\n",
              "      <td>0</td>\n",
              "      <td>0</td>\n",
              "      <td>0</td>\n",
              "      <td>1</td>\n",
              "      <td>1</td>\n",
              "      <td>1</td>\n",
              "      <td>0</td>\n",
              "      <td>1</td>\n",
              "      <td>1</td>\n",
              "      <td>1</td>\n",
              "    </tr>\n",
              "  </tbody>\n",
              "</table>\n",
              "<p>11 rows × 99 columns</p>\n",
              "</div>\n",
              "      <button class=\"colab-df-convert\" onclick=\"convertToInteractive('df-57a5ed63-a346-40b3-b56b-ba9199133ceb')\"\n",
              "              title=\"Convert this dataframe to an interactive table.\"\n",
              "              style=\"display:none;\">\n",
              "        \n",
              "  <svg xmlns=\"http://www.w3.org/2000/svg\" height=\"24px\"viewBox=\"0 0 24 24\"\n",
              "       width=\"24px\">\n",
              "    <path d=\"M0 0h24v24H0V0z\" fill=\"none\"/>\n",
              "    <path d=\"M18.56 5.44l.94 2.06.94-2.06 2.06-.94-2.06-.94-.94-2.06-.94 2.06-2.06.94zm-11 1L8.5 8.5l.94-2.06 2.06-.94-2.06-.94L8.5 2.5l-.94 2.06-2.06.94zm10 10l.94 2.06.94-2.06 2.06-.94-2.06-.94-.94-2.06-.94 2.06-2.06.94z\"/><path d=\"M17.41 7.96l-1.37-1.37c-.4-.4-.92-.59-1.43-.59-.52 0-1.04.2-1.43.59L10.3 9.45l-7.72 7.72c-.78.78-.78 2.05 0 2.83L4 21.41c.39.39.9.59 1.41.59.51 0 1.02-.2 1.41-.59l7.78-7.78 2.81-2.81c.8-.78.8-2.07 0-2.86zM5.41 20L4 18.59l7.72-7.72 1.47 1.35L5.41 20z\"/>\n",
              "  </svg>\n",
              "      </button>\n",
              "      \n",
              "  <style>\n",
              "    .colab-df-container {\n",
              "      display:flex;\n",
              "      flex-wrap:wrap;\n",
              "      gap: 12px;\n",
              "    }\n",
              "\n",
              "    .colab-df-convert {\n",
              "      background-color: #E8F0FE;\n",
              "      border: none;\n",
              "      border-radius: 50%;\n",
              "      cursor: pointer;\n",
              "      display: none;\n",
              "      fill: #1967D2;\n",
              "      height: 32px;\n",
              "      padding: 0 0 0 0;\n",
              "      width: 32px;\n",
              "    }\n",
              "\n",
              "    .colab-df-convert:hover {\n",
              "      background-color: #E2EBFA;\n",
              "      box-shadow: 0px 1px 2px rgba(60, 64, 67, 0.3), 0px 1px 3px 1px rgba(60, 64, 67, 0.15);\n",
              "      fill: #174EA6;\n",
              "    }\n",
              "\n",
              "    [theme=dark] .colab-df-convert {\n",
              "      background-color: #3B4455;\n",
              "      fill: #D2E3FC;\n",
              "    }\n",
              "\n",
              "    [theme=dark] .colab-df-convert:hover {\n",
              "      background-color: #434B5C;\n",
              "      box-shadow: 0px 1px 3px 1px rgba(0, 0, 0, 0.15);\n",
              "      filter: drop-shadow(0px 1px 2px rgba(0, 0, 0, 0.3));\n",
              "      fill: #FFFFFF;\n",
              "    }\n",
              "  </style>\n",
              "\n",
              "      <script>\n",
              "        const buttonEl =\n",
              "          document.querySelector('#df-57a5ed63-a346-40b3-b56b-ba9199133ceb button.colab-df-convert');\n",
              "        buttonEl.style.display =\n",
              "          google.colab.kernel.accessAllowed ? 'block' : 'none';\n",
              "\n",
              "        async function convertToInteractive(key) {\n",
              "          const element = document.querySelector('#df-57a5ed63-a346-40b3-b56b-ba9199133ceb');\n",
              "          const dataTable =\n",
              "            await google.colab.kernel.invokeFunction('convertToInteractive',\n",
              "                                                     [key], {});\n",
              "          if (!dataTable) return;\n",
              "\n",
              "          const docLinkHtml = 'Like what you see? Visit the ' +\n",
              "            '<a target=\"_blank\" href=https://colab.research.google.com/notebooks/data_table.ipynb>data table notebook</a>'\n",
              "            + ' to learn more about interactive tables.';\n",
              "          element.innerHTML = '';\n",
              "          dataTable['output_type'] = 'display_data';\n",
              "          await google.colab.output.renderOutput(dataTable, element);\n",
              "          const docLink = document.createElement('div');\n",
              "          docLink.innerHTML = docLinkHtml;\n",
              "          element.appendChild(docLink);\n",
              "        }\n",
              "      </script>\n",
              "    </div>\n",
              "  </div>\n",
              "  "
            ]
          },
          "metadata": {},
          "execution_count": 127
        }
      ]
    },
    {
      "cell_type": "code",
      "source": [
        "# 유사도를 측정할 문장들을 문장-단어 행렬 기반 임베딩으로 변환\n",
        "bow_vector_sen_1 = bow_vectorizer.transform([sen_1]).toarray()[0]\n",
        "bow_vector_sen_2 = bow_vectorizer.transform([sen_2]).toarray()[0]\n",
        "bow_vector_sen_3 = bow_vectorizer.transform([sen_3]).toarray()[0]\n",
        "bow_vector_sen_4 = bow_vectorizer.transform([sen_4]).toarray()[0]\n",
        "bow_vector_sen_5 = bow_vectorizer.transform([sen_5]).toarray()[0]\n",
        "bow_vector_sen_6 = bow_vectorizer.transform([sen_6]).toarray()[0]"
      ],
      "metadata": {
        "id": "U4ULT84ANPeQ"
      },
      "execution_count": 128,
      "outputs": []
    },
    {
      "cell_type": "code",
      "source": [
        "print(bow_vector_sen_1)\n",
        "print(bow_vector_sen_2)\n",
        "print(bow_vector_sen_3)\n",
        "print(bow_vector_sen_4)\n",
        "print(bow_vector_sen_5)\n",
        "print(bow_vector_sen_6)"
      ],
      "metadata": {
        "colab": {
          "base_uri": "https://localhost:8080/"
        },
        "id": "Xjfkg3m8OCpU",
        "outputId": "66b11a1a-6d62-48a9-a074-4335f882280a"
      },
      "execution_count": 129,
      "outputs": [
        {
          "output_type": "stream",
          "name": "stdout",
          "text": [
            "[0 0 0 0 0 0 0 0 0 0 0 0 1 0 0 0 0 0 0 0 2 0 0 0 0 0 0 0 0 0 0 0 1 0 1 0 0\n",
            " 0 0 0 1 0 1 0 0 0 0 0 0 0 0 0 0 0 0 0 0 0 0 0 1 0 0 0 0 0 0 0 0 0 0 0 0 0\n",
            " 0 1 0 0 0 0 0 0 0 0 0 0 0 0 0 0 0 0 0 0 0 0 0 0 0]\n",
            "[0 0 0 0 0 0 0 0 0 0 0 0 1 0 0 0 0 0 0 0 0 0 0 0 0 0 0 0 0 0 0 0 1 0 1 0 0\n",
            " 0 0 0 1 0 1 0 0 0 0 0 0 0 0 0 0 0 0 0 0 0 0 0 1 0 0 0 0 0 0 0 0 0 0 0 0 0\n",
            " 0 1 0 0 0 0 0 0 0 0 0 0 0 0 0 0 0 0 0 0 0 0 0 0 0]\n",
            "[0 0 0 0 0 0 0 0 0 0 0 0 1 0 0 0 0 0 0 0 2 0 0 0 0 0 0 0 0 0 0 0 1 0 1 0 0\n",
            " 0 0 0 1 0 1 0 0 0 0 0 0 0 0 0 0 0 0 0 0 0 0 0 1 0 0 0 0 0 0 0 0 0 0 0 0 0\n",
            " 0 1 0 0 0 0 0 0 0 0 0 0 0 0 0 0 0 0 0 0 0 0 0 0 0]\n",
            "[0 0 0 0 0 0 0 0 0 0 0 0 1 0 0 0 0 0 0 0 0 0 0 0 0 0 0 0 0 0 0 0 1 0 1 0 0\n",
            " 0 0 0 0 0 1 0 0 0 0 0 1 0 0 0 0 0 0 0 0 0 0 0 1 0 0 0 0 0 0 0 0 0 0 0 0 0\n",
            " 0 1 0 0 0 0 0 0 0 0 0 0 0 0 0 0 0 0 0 0 0 0 0 0 0]\n",
            "[0 0 0 0 0 0 0 0 0 0 0 0 0 0 0 0 0 0 0 0 1 0 0 0 0 0 0 0 0 0 0 0 1 0 0 1 0\n",
            " 0 0 0 1 0 1 1 0 0 0 0 0 0 0 0 0 0 0 0 0 0 1 0 0 0 0 0 0 0 0 0 0 0 0 0 0 0\n",
            " 1 0 0 0 0 0 0 0 0 0 0 0 0 0 0 0 0 0 0 0 0 0 0 0 0]\n",
            "[0 0 1 1 0 0 0 0 0 0 0 0 0 0 0 0 0 0 0 0 0 0 0 0 0 0 1 0 0 0 0 0 0 0 0 0 0\n",
            " 0 0 0 0 0 0 0 0 0 0 1 0 0 0 0 0 0 0 0 0 0 0 1 0 0 1 0 0 0 0 0 0 0 1 0 0 0\n",
            " 0 0 0 0 0 0 0 0 0 0 1 0 0 0 1 0 0 0 0 0 0 0 0 0 0]\n"
          ]
        }
      ]
    },
    {
      "cell_type": "code",
      "source": [
        "# 코사인 기반 유사도 계싼을 위한 함수를 정의\n",
        "# 분모 정규분포\n",
        "import numpy as np\n",
        "from numpy import dot\n",
        "from numpy.linalg import norm"
      ],
      "metadata": {
        "id": "_juBwK8-OS-p"
      },
      "execution_count": 130,
      "outputs": []
    },
    {
      "cell_type": "code",
      "source": [
        "def cos_sim(A, B):\n",
        "  return dot(A, B) / (norm(A) * norm(B))"
      ],
      "metadata": {
        "id": "fd--AjAVP7hD"
      },
      "execution_count": 131,
      "outputs": []
    },
    {
      "cell_type": "markdown",
      "source": [
        "![화면 캡처 2023-06-28 132336.jpg](data:image/jpeg;base64,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)"
      ],
      "metadata": {
        "id": "Hd3MRvngPpc2"
      }
    },
    {
      "cell_type": "markdown",
      "source": [
        "* sen_1, sen_2 : 의미가 유사한 문장 간 유사도 계산(조사 생략)\n",
        "* sen_1, sen_3 : 의미가 유사한 문장 간 유사도 계산(순서 변경)\n",
        "* sen_2, sen_4 : 문장 내 단어를 임의의 단어로 치환한 문장과 원 문장 간 유사도 계산\n",
        "* sen_1, sen_5 : 의미는 다르지만 비슷한 주제를 가지는 문장 간 유사도 계산\n",
        "* sen_1, sen_6 : 의미가 서로 다른 문장 간 유사도 계산\n",
        "\n",
        "```\n",
        "* sen_1 = '오늘 점심에 배가 너무 고파서 밥을 너무 많이 먹었다.'\n",
        "* sen_2 = '오늘 점심에 배가 고파서 밥을 많이 먹었다.'\n",
        "* sen_3 = '오늘 배가 너무 고파서 점심에 밥을 너무 많이 먹었다.'\n",
        "* sen_4 = '오늘 점심에 배가 고파서 비행기를 많이 먹었다.'\n",
        "* sen_5 = '어제 저녁에 밥을 너무 많이 먹었더니 배가 부르다.'\n",
        "* sen_6 = '이따가 오후 7시에 출발하는 비행기가 3시간 연착 되었다고 하네요.'\n",
        "```"
      ],
      "metadata": {
        "id": "YR0IcBnuQLju"
      }
    },
    {
      "cell_type": "code",
      "source": [
        "print(f'sen_1, sen_2 : 의미가 유사한 문장 간 유사도 계산(조사 생략): {cos_sim(bow_vector_sen_1, bow_vector_sen_2)}')\n",
        "print(f'sen_1, sen_3 : 의미가 유사한 문장 간 유사도 계산(순서 변경): {cos_sim(bow_vector_sen_1, bow_vector_sen_3)}')\n",
        "print(f'sen_2, sen_4 : 문장 내 단어를 임의의 단어로 치환한 문장과 원 문장 간 유사도 계산: {cos_sim(bow_vector_sen_2, bow_vector_sen_4)}')\n",
        "# 유사도 측정에 있어서 빈도수를 기준으로 확인해서 전혀 다른 의미라도 빈도수가 같으면 유사도가 높게 측정된다\n",
        "print(f'sen_1, sen_5 : 의미는 다르지만 비슷한 주제를 가지는 문장 간 유사도 계산: {cos_sim(bow_vector_sen_1, bow_vector_sen_5)}')\n",
        "\n",
        "print(f'sen_1, sen_6 : 의미가 서로 다른 문장 간 유사도 계산: {cos_sim(bow_vector_sen_1, bow_vector_sen_6)}')"
      ],
      "metadata": {
        "colab": {
          "base_uri": "https://localhost:8080/"
        },
        "id": "FixuiEs4QOTT",
        "outputId": "f3a27136-7ba9-41dc-9d5d-c4c91a6b99b0"
      },
      "execution_count": 132,
      "outputs": [
        {
          "output_type": "stream",
          "name": "stdout",
          "text": [
            "sen_1, sen_2 : 의미가 유사한 문장 간 유사도 계산(조사 생략): 0.7977240352174656\n",
            "sen_1, sen_3 : 의미가 유사한 문장 간 유사도 계산(순서 변경): 1.0\n",
            "sen_2, sen_4 : 문장 내 단어를 임의의 단어로 치환한 문장과 원 문장 간 유사도 계산: 0.857142857142857\n",
            "sen_1, sen_5 : 의미는 다르지만 비슷한 주제를 가지는 문장 간 유사도 계산: 0.5330017908890261\n",
            "sen_1, sen_6 : 의미가 서로 다른 문장 간 유사도 계산: 0.0\n"
          ]
        }
      ]
    },
    {
      "cell_type": "code",
      "source": [
        "# TG_IDF기반 문서-단어 행렬을 활용한 문장 간 유사도 측정\n",
        "from sklearn.feature_extraction.text import TfidfVectorizer"
      ],
      "metadata": {
        "id": "n0Nrs8xmRuYk"
      },
      "execution_count": 133,
      "outputs": []
    },
    {
      "cell_type": "code",
      "source": [
        "tfidfv = TfidfVectorizer().fit(augmented_training_documents)"
      ],
      "metadata": {
        "id": "_7FdiqptSFKR"
      },
      "execution_count": 134,
      "outputs": []
    },
    {
      "cell_type": "code",
      "source": [
        "for key, idx in sorted(tfidfv.vocabulary_.items()):\n",
        "  print(f'{key}: {idx}')"
      ],
      "metadata": {
        "colab": {
          "base_uri": "https://localhost:8080/"
        },
        "id": "AvS_sRQ2SM6D",
        "outputId": "d09e20aa-a6b2-4167-b043-8881c7d03970"
      },
      "execution_count": 135,
      "outputs": [
        {
          "output_type": "stream",
          "name": "stdout",
          "text": [
            "26일: 0\n",
            "28일: 1\n",
            "3시간: 2\n",
            "7시에: 3\n",
            "co: 4\n",
            "jibs: 5\n",
            "kr: 6\n",
            "replaykim: 7\n",
            "가용인력을: 8\n",
            "가운데: 9\n",
            "강화에: 10\n",
            "거짓표시: 11\n",
            "고파서: 12\n",
            "관계자는: 13\n",
            "구성: 14\n",
            "국산: 15\n",
            "그제: 16\n",
            "기자: 17\n",
            "김재연: 18\n",
            "나섭니다: 19\n",
            "너무: 20\n",
            "단속: 21\n",
            "대상으로: 22\n",
            "대상은: 23\n",
            "대한: 24\n",
            "도내: 25\n",
            "되었다고: 26\n",
            "둔갑행위: 27\n",
            "들어가면서: 28\n",
            "등과: 29\n",
            "등을: 30\n",
            "등입니다: 31\n",
            "많이: 32\n",
            "말했습니다: 33\n",
            "먹었다: 34\n",
            "먹었더니: 35\n",
            "바란다: 36\n",
            "바로잡겠다: 37\n",
            "발견시: 38\n",
            "밝혔습니다: 39\n",
            "밥을: 40\n",
            "방류가: 41\n",
            "배가: 42\n",
            "부르다: 43\n",
            "부터: 44\n",
            "불법: 45\n",
            "불법행위: 46\n",
            "비행기가: 47\n",
            "비행기를: 48\n",
            "빚어지고: 49\n",
            "소금: 50\n",
            "수급: 51\n",
            "수입산: 52\n",
            "수입산과: 53\n",
            "식용불가: 54\n",
            "신고해주길: 55\n",
            "실시하고: 56\n",
            "안정화를: 57\n",
            "어제: 58\n",
            "연착: 59\n",
            "오늘: 60\n",
            "오염수: 61\n",
            "오후: 62\n",
            "원전: 63\n",
            "위해: 64\n",
            "유통: 65\n",
            "유통업체: 66\n",
            "유통이력: 67\n",
            "유통질서를: 68\n",
            "유통행위: 69\n",
            "이따가: 70\n",
            "일본: 71\n",
            "있는: 72\n",
            "있다고: 73\n",
            "저녁에: 74\n",
            "점심에: 75\n",
            "제주방송: 76\n",
            "제주지방해양경찰청은: 77\n",
            "중점: 78\n",
            "즉시: 79\n",
            "지자체: 80\n",
            "천일염: 81\n",
            "초읽기에: 82\n",
            "총동원해: 83\n",
            "출발하는: 84\n",
            "특별단속을: 85\n",
            "판매: 86\n",
            "품귀: 87\n",
            "하네요: 88\n",
            "합동단속반을: 89\n",
            "해경: 90\n",
            "해경이: 91\n",
            "해양: 92\n",
            "해양수산부: 93\n",
            "행위: 94\n",
            "행위에: 95\n",
            "현상이: 96\n",
            "혼합생산: 97\n",
            "후쿠시마: 98\n"
          ]
        }
      ]
    },
    {
      "cell_type": "code",
      "source": [
        "sk_tf_idf = tfidfv.transform(augmented_training_documents).toarray()\n",
        "print(sk_tf_idf)"
      ],
      "metadata": {
        "colab": {
          "base_uri": "https://localhost:8080/"
        },
        "id": "-XXMKu6jSjA3",
        "outputId": "18d95841-1eb8-4a7e-ef9d-b9a37df54fe0"
      },
      "execution_count": 136,
      "outputs": [
        {
          "output_type": "stream",
          "name": "stdout",
          "text": [
            "[[0.         0.         0.         ... 0.         0.         0.        ]\n",
            " [0.         0.         0.         ... 0.         0.         0.        ]\n",
            " [0.         0.         0.         ... 0.         0.         0.        ]\n",
            " ...\n",
            " [0.         0.         0.         ... 0.         0.23931088 0.        ]\n",
            " [0.         0.         0.         ... 0.         0.         0.        ]\n",
            " [0.         0.         0.         ... 0.         0.         0.        ]]\n"
          ]
        }
      ]
    },
    {
      "cell_type": "code",
      "source": [
        "# TF-IDF 행렬에서 얻어지는 유사도의 값을 0 ~ 1로 스케일링학 위해 L! 정규화를 진행\n",
        "def l1_normalize(v):\n",
        "  norm = np.sum(v)\n",
        "  return v / norm"
      ],
      "metadata": {
        "id": "ZXsWAdo8S7bx"
      },
      "execution_count": 137,
      "outputs": []
    },
    {
      "cell_type": "code",
      "source": [
        "fidf_vectorizer = TfidfVectorizer()\n",
        "fidf_matrix_l1 = fidf_vectorizer.fit_transform(augmented_training_documents)\n",
        "fidf_norm_l1 = l1_normalize(fidf_matrix_l1)\n",
        "fidf_norm_l1"
      ],
      "metadata": {
        "colab": {
          "base_uri": "https://localhost:8080/"
        },
        "id": "w38qrvIaTT9t",
        "outputId": "bfccda00-4175-47b5-85da-6f9ddcb3bfda"
      },
      "execution_count": 138,
      "outputs": [
        {
          "output_type": "execute_result",
          "data": {
            "text/plain": [
              "<11x99 sparse matrix of type '<class 'numpy.float64'>'\n",
              "\twith 128 stored elements in Compressed Sparse Row format>"
            ]
          },
          "metadata": {},
          "execution_count": 138
        }
      ]
    },
    {
      "cell_type": "code",
      "source": [
        "tf_sen_1 = fidf_norm_l1[0:1]\n",
        "tf_sen_2 = fidf_norm_l1[1:2]\n",
        "tf_sen_3 = fidf_norm_l1[2:3]\n",
        "tf_sen_4 = fidf_norm_l1[3:4]\n",
        "tf_sen_5 = fidf_norm_l1[4:5]\n",
        "tf_sen_6 = fidf_norm_l1[5:6]\n",
        "tf_sen_1"
      ],
      "metadata": {
        "colab": {
          "base_uri": "https://localhost:8080/"
        },
        "id": "7lgk2hMLT6e5",
        "outputId": "4f3d4677-9b66-4454-f020-3d7b198505fd"
      },
      "execution_count": 139,
      "outputs": [
        {
          "output_type": "execute_result",
          "data": {
            "text/plain": [
              "<1x99 sparse matrix of type '<class 'numpy.float64'>'\n",
              "\twith 8 stored elements in Compressed Sparse Row format>"
            ]
          },
          "metadata": {},
          "execution_count": 139
        }
      ]
    },
    {
      "cell_type": "code",
      "source": [
        "tf_sen_1.toarray()"
      ],
      "metadata": {
        "colab": {
          "base_uri": "https://localhost:8080/"
        },
        "id": "GmrOipiYUIUH",
        "outputId": "957f15c9-a9e5-4651-9ea3-fb0924a9d6dd"
      },
      "execution_count": 140,
      "outputs": [
        {
          "output_type": "execute_result",
          "data": {
            "text/plain": [
              "array([[0.        , 0.        , 0.        , 0.        , 0.        ,\n",
              "        0.        , 0.        , 0.        , 0.        , 0.        ,\n",
              "        0.        , 0.        , 0.00825479, 0.        , 0.        ,\n",
              "        0.        , 0.        , 0.        , 0.        , 0.        ,\n",
              "        0.0184739 , 0.        , 0.        , 0.        , 0.        ,\n",
              "        0.        , 0.        , 0.        , 0.        , 0.        ,\n",
              "        0.        , 0.        , 0.00745231, 0.        , 0.00825479,\n",
              "        0.        , 0.        , 0.        , 0.        , 0.        ,\n",
              "        0.00825479, 0.        , 0.00745231, 0.        , 0.        ,\n",
              "        0.        , 0.        , 0.        , 0.        , 0.        ,\n",
              "        0.        , 0.        , 0.        , 0.        , 0.        ,\n",
              "        0.        , 0.        , 0.        , 0.        , 0.        ,\n",
              "        0.00745231, 0.        , 0.        , 0.        , 0.        ,\n",
              "        0.        , 0.        , 0.        , 0.        , 0.        ,\n",
              "        0.        , 0.        , 0.        , 0.        , 0.        ,\n",
              "        0.00825479, 0.        , 0.        , 0.        , 0.        ,\n",
              "        0.        , 0.        , 0.        , 0.        , 0.        ,\n",
              "        0.        , 0.        , 0.        , 0.        , 0.        ,\n",
              "        0.        , 0.        , 0.        , 0.        , 0.        ,\n",
              "        0.        , 0.        , 0.        , 0.        ]])"
            ]
          },
          "metadata": {},
          "execution_count": 140
        }
      ]
    },
    {
      "cell_type": "code",
      "source": [
        "# 유클리디안 거리 기반 유사도 측정\n",
        "from sklearn.metrics.pairwise import euclidean_distances"
      ],
      "metadata": {
        "id": "SNO4n1LfUYim"
      },
      "execution_count": 141,
      "outputs": []
    },
    {
      "cell_type": "code",
      "source": [
        "euclidean_distances(tf_sen_1, tf_sen_2)"
      ],
      "metadata": {
        "colab": {
          "base_uri": "https://localhost:8080/"
        },
        "id": "NdmGXn5JUioZ",
        "outputId": "1265afe0-115e-4860-fda1-59b710be0c6a"
      },
      "execution_count": 142,
      "outputs": [
        {
          "output_type": "execute_result",
          "data": {
            "text/plain": [
              "array([[0.01974862]])"
            ]
          },
          "metadata": {},
          "execution_count": 142
        }
      ]
    },
    {
      "cell_type": "code",
      "source": [
        "def euclidean_distances_value(vec_1, vec_2):\n",
        "  return round(euclidean_distances(vec_1,vec_2)[0][0], 3)"
      ],
      "metadata": {
        "id": "1zC0tFbgUuvS"
      },
      "execution_count": 143,
      "outputs": []
    },
    {
      "cell_type": "code",
      "source": [
        "euclidean_distances_value(tf_sen_1, tf_sen_2)\n"
      ],
      "metadata": {
        "colab": {
          "base_uri": "https://localhost:8080/"
        },
        "id": "MKnku2L-U-vV",
        "outputId": "82ba1348-e1c0-4643-94fc-5a6da3ff0539"
      },
      "execution_count": 144,
      "outputs": [
        {
          "output_type": "execute_result",
          "data": {
            "text/plain": [
              "0.02"
            ]
          },
          "metadata": {},
          "execution_count": 144
        }
      ]
    },
    {
      "cell_type": "code",
      "source": [
        "print(f'sen_1, sen_2 : 의미가 유사한 문장 간 유사도 계산(조사 생략): {euclidean_distances_value(tf_sen_1, tf_sen_2)}')\n",
        "print(f'sen_1, sen_3 : 의미가 유사한 문장 간 유사도 계산(순서 변경): {euclidean_distances_value(tf_sen_1, tf_sen_3)}')\n",
        "print(f'sen_2, sen_4 : 문장 내 단어를 임의의 단어로 치환한 문장과 원 문장 간 유사도 계산: {euclidean_distances_value(tf_sen_2, tf_sen_4)}')\n",
        "# 유사도 측정에 있어서 빈도수를 기준으로 확인해서 전혀 다른 의미라도 빈도수가 같으면 유사도가 높게 측정된다\n",
        "print(f'sen_1, sen_5 : 의미는 다르지만 비슷한 주제를 가지는 문장 간 유사도 계산: {euclidean_distances_value(tf_sen_1, tf_sen_5)}')\n",
        "\n",
        "print(f'sen_1, sen_6 : 의미가 서로 다른 문장 간 유사도 계산: {euclidean_distances_value(tf_sen_1, tf_sen_6)}')\n",
        "\n",
        "#거리 계산이기때문에 0에 가까울수록 유사한거"
      ],
      "metadata": {
        "colab": {
          "base_uri": "https://localhost:8080/"
        },
        "id": "gF_4Rn1bVX0Y",
        "outputId": "5ecad943-91ff-4279-d037-7f5057121f3c"
      },
      "execution_count": 145,
      "outputs": [
        {
          "output_type": "stream",
          "name": "stdout",
          "text": [
            "sen_1, sen_2 : 의미가 유사한 문장 간 유사도 계산(조사 생략): 0.02\n",
            "sen_1, sen_3 : 의미가 유사한 문장 간 유사도 계산(순서 변경): 0.0\n",
            "sen_2, sen_4 : 문장 내 단어를 임의의 단어로 치환한 문장과 원 문장 간 유사도 계산: 0.019\n",
            "sen_1, sen_5 : 의미는 다르지만 비슷한 주제를 가지는 문장 간 유사도 계산: 0.03\n",
            "sen_1, sen_6 : 의미가 서로 다른 문장 간 유사도 계산: 0.04\n"
          ]
        }
      ]
    },
    {
      "cell_type": "code",
      "source": [
        "from sklearn.metrics.pairwise import manhattan_distances, cosine_similarity\n",
        "from sklearn.metrics.pairwise import manhattan_distances"
      ],
      "metadata": {
        "id": "jfRvfgWzWDjc"
      },
      "execution_count": 183,
      "outputs": []
    },
    {
      "cell_type": "code",
      "source": [
        "# 맨해튼 거리 기반 유사도 측정\n",
        "def manhattan_distances_value(vec_1, vec_2):\n",
        "    return round(manhattan_distances(vec_1, vec_2)[0][0], 3)"
      ],
      "metadata": {
        "id": "-d9QNtsKWOZh"
      },
      "execution_count": 184,
      "outputs": []
    },
    {
      "cell_type": "code",
      "source": [
        "print(f'의미가 유사한 문장 간 유사도 계산(조사 생략): {manhattan_distances_value(tf_sen_1, tf_sen_2)}')\n",
        "print(f'의미가 유사한 문장 간 유사도 계산(순서 변경): {manhattan_distances_value(tf_sen_1, tf_sen_3)}')\n",
        "print(f'문장 내 단어를 임의의 단어로 치환한 문장과 원 문장 간 유사도 계산: {manhattan_distances_value(tf_sen_2, tf_sen_4)}')\n",
        "print(f'의미는 다르지만 비슷한 주제를 가지는 문장 간 유사도 계산: {manhattan_distances_value(tf_sen_1, tf_sen_5)}')\n",
        "print(f'의미가 서로 다른 문장 간 유사도 계산: {manhattan_distances_value(tf_sen_1, tf_sen_6)}')"
      ],
      "metadata": {
        "colab": {
          "base_uri": "https://localhost:8080/"
        },
        "id": "8kjeJXO7bq6c",
        "outputId": "49654ea4-4dbb-4146-c7f1-c44280a6dff2"
      },
      "execution_count": 185,
      "outputs": [
        {
          "output_type": "stream",
          "name": "stdout",
          "text": [
            "의미가 유사한 문장 간 유사도 계산(조사 생략): 0.037\n",
            "의미가 유사한 문장 간 유사도 계산(순서 변경): 0.0\n",
            "문장 내 단어를 임의의 단어로 치환한 문장과 원 문장 간 유사도 계산: 0.031\n",
            "의미는 다르지만 비슷한 주제를 가지는 문장 간 유사도 계산: 0.09\n",
            "의미가 서로 다른 문장 간 유사도 계산: 0.158\n"
          ]
        }
      ]
    },
    {
      "cell_type": "code",
      "source": [
        "# 코사인 거리 유사도 측\n",
        "def cos_sim(vec_1, vec_2):\n",
        "    return dot(vec_1, vec_2) / (norm(vec_1) * norm(vec_2))"
      ],
      "metadata": {
        "id": "qieCzQggWUQM"
      },
      "execution_count": 158,
      "outputs": []
    },
    {
      "cell_type": "code",
      "source": [
        "tf_sen_1_dense = tf_sen_1.toarray().reshape(-1)\n",
        "tf_sen_2_dense = tf_sen_2.toarray().reshape(-1)\n",
        "tf_sen_3_dense = tf_sen_3.toarray().reshape(-1)\n",
        "tf_sen_4_dense = tf_sen_4.toarray().reshape(-1)\n",
        "tf_sen_5_dense = tf_sen_5.toarray().reshape(-1)\n",
        "tf_sen_6_dense = tf_sen_6.toarray().reshape(-1)"
      ],
      "metadata": {
        "id": "D_KrJCrPZ25_"
      },
      "execution_count": 159,
      "outputs": []
    },
    {
      "cell_type": "code",
      "source": [
        "print(f'sen_1, sen_2 : 의미가 유사한 문장 간 유사도 계산(조사 생략): {cos_sim(tf_sen_1_dense, tf_sen_2_dense)}')\n",
        "print(f'sen_1, sen_3 : 의미가 유사한 문장 간 유사도 계산(순서 변경): {cos_sim(tf_sen_1_dense, tf_sen_3_dense)}')\n",
        "print(f'sen_2, sen_4 : 문장 내 단어를 임의의 단어로 치환한 문장과 원 문장 간 유사도 계산: {cos_sim(tf_sen_2_dense, tf_sen_4_dense)}')\n",
        "print(f'sen_1, sen_5 : 의미는 다르지만 비슷한 주제를 가지는 문장 간 유사도 계산: {cos_sim(tf_sen_1_dense, tf_sen_5_dense)}')\n",
        "print(f'sen_1, sen_6 : 의미가 서로 다른 문장 간 유사도 계산: {cos_sim(tf_sen_1_dense, tf_sen_6_dense)}')"
      ],
      "metadata": {
        "colab": {
          "base_uri": "https://localhost:8080/"
        },
        "id": "G54gkNkiZL4b",
        "outputId": "3a6a0d94-3481-45ab-e26f-2e529008281c"
      },
      "execution_count": 155,
      "outputs": [
        {
          "output_type": "stream",
          "name": "stdout",
          "text": [
            "sen_1, sen_2 : 의미가 유사한 문장 간 유사도 계산(조사 생략): 0.7501428911510699\n",
            "sen_1, sen_3 : 의미가 유사한 문장 간 유사도 계산(순서 변경): 1.0000000000000002\n",
            "sen_2, sen_4 : 문장 내 단어를 임의의 단어로 치환한 문장과 원 문장 간 유사도 계산: 0.7749072749969016\n",
            "sen_1, sen_5 : 의미는 다르지만 비슷한 주제를 가지는 문장 간 유사도 계산: 0.4249438778855682\n",
            "sen_1, sen_6 : 의미가 서로 다른 문장 간 유사도 계산: 0.0\n"
          ]
        }
      ]
    },
    {
      "cell_type": "code",
      "source": [
        "# 언어 모델을 활용한 문장 간 유사도 측정\n",
        "!pip install transformers"
      ],
      "metadata": {
        "id": "VPB9wbUyc2rJ",
        "colab": {
          "base_uri": "https://localhost:8080/"
        },
        "outputId": "a5027a68-9516-416f-88b5-c9eb4ec317f2"
      },
      "execution_count": 164,
      "outputs": [
        {
          "output_type": "stream",
          "name": "stdout",
          "text": [
            "Collecting transformers\n",
            "  Downloading transformers-4.30.2-py3-none-any.whl (7.2 MB)\n",
            "\u001b[2K     \u001b[90m━━━━━━━━━━━━━━━━━━━━━━━━━━━━━━━━━━━━━━━━\u001b[0m \u001b[32m7.2/7.2 MB\u001b[0m \u001b[31m48.9 MB/s\u001b[0m eta \u001b[36m0:00:00\u001b[0m\n",
            "\u001b[?25hRequirement already satisfied: filelock in /usr/local/lib/python3.10/dist-packages (from transformers) (3.12.2)\n",
            "Collecting huggingface-hub<1.0,>=0.14.1 (from transformers)\n",
            "  Downloading huggingface_hub-0.15.1-py3-none-any.whl (236 kB)\n",
            "\u001b[2K     \u001b[90m━━━━━━━━━━━━━━━━━━━━━━━━━━━━━━━━━━━━━━\u001b[0m \u001b[32m236.8/236.8 kB\u001b[0m \u001b[31m20.4 MB/s\u001b[0m eta \u001b[36m0:00:00\u001b[0m\n",
            "\u001b[?25hRequirement already satisfied: numpy>=1.17 in /usr/local/lib/python3.10/dist-packages (from transformers) (1.22.4)\n",
            "Requirement already satisfied: packaging>=20.0 in /usr/local/lib/python3.10/dist-packages (from transformers) (23.1)\n",
            "Requirement already satisfied: pyyaml>=5.1 in /usr/local/lib/python3.10/dist-packages (from transformers) (6.0)\n",
            "Requirement already satisfied: regex!=2019.12.17 in /usr/local/lib/python3.10/dist-packages (from transformers) (2022.10.31)\n",
            "Requirement already satisfied: requests in /usr/local/lib/python3.10/dist-packages (from transformers) (2.27.1)\n",
            "Collecting tokenizers!=0.11.3,<0.14,>=0.11.1 (from transformers)\n",
            "  Downloading tokenizers-0.13.3-cp310-cp310-manylinux_2_17_x86_64.manylinux2014_x86_64.whl (7.8 MB)\n",
            "\u001b[2K     \u001b[90m━━━━━━━━━━━━━━━━━━━━━━━━━━━━━━━━━━━━━━━━\u001b[0m \u001b[32m7.8/7.8 MB\u001b[0m \u001b[31m78.1 MB/s\u001b[0m eta \u001b[36m0:00:00\u001b[0m\n",
            "\u001b[?25hCollecting safetensors>=0.3.1 (from transformers)\n",
            "  Downloading safetensors-0.3.1-cp310-cp310-manylinux_2_17_x86_64.manylinux2014_x86_64.whl (1.3 MB)\n",
            "\u001b[2K     \u001b[90m━━━━━━━━━━━━━━━━━━━━━━━━━━━━━━━━━━━━━━━━\u001b[0m \u001b[32m1.3/1.3 MB\u001b[0m \u001b[31m64.7 MB/s\u001b[0m eta \u001b[36m0:00:00\u001b[0m\n",
            "\u001b[?25hRequirement already satisfied: tqdm>=4.27 in /usr/local/lib/python3.10/dist-packages (from transformers) (4.65.0)\n",
            "Requirement already satisfied: fsspec in /usr/local/lib/python3.10/dist-packages (from huggingface-hub<1.0,>=0.14.1->transformers) (2023.6.0)\n",
            "Requirement already satisfied: typing-extensions>=3.7.4.3 in /usr/local/lib/python3.10/dist-packages (from huggingface-hub<1.0,>=0.14.1->transformers) (4.6.3)\n",
            "Requirement already satisfied: urllib3<1.27,>=1.21.1 in /usr/local/lib/python3.10/dist-packages (from requests->transformers) (1.26.16)\n",
            "Requirement already satisfied: certifi>=2017.4.17 in /usr/local/lib/python3.10/dist-packages (from requests->transformers) (2023.5.7)\n",
            "Requirement already satisfied: charset-normalizer~=2.0.0 in /usr/local/lib/python3.10/dist-packages (from requests->transformers) (2.0.12)\n",
            "Requirement already satisfied: idna<4,>=2.5 in /usr/local/lib/python3.10/dist-packages (from requests->transformers) (3.4)\n",
            "Installing collected packages: tokenizers, safetensors, huggingface-hub, transformers\n",
            "Successfully installed huggingface-hub-0.15.1 safetensors-0.3.1 tokenizers-0.13.3 transformers-4.30.2\n"
          ]
        }
      ]
    },
    {
      "cell_type": "code",
      "source": [
        "from transformers import AutoModel, AutoTokenizer, BertTokenizer"
      ],
      "metadata": {
        "id": "zjl6NIVHdHUW"
      },
      "execution_count": 165,
      "outputs": []
    },
    {
      "cell_type": "code",
      "source": [
        "MODEL_NAME = 'bert-base-multilingual-cased'\n",
        "\n",
        "model = AutoModel.from_pretrained(MODEL_NAME)\n",
        "tokenizer = AutoTokenizer.from_pretrained(MODEL_NAME)"
      ],
      "metadata": {
        "colab": {
          "base_uri": "https://localhost:8080/",
          "height": 251,
          "referenced_widgets": [
            "127c2eb1d7614842bd3013cfad37ccd6",
            "6033c0a7de9847abbe6a852467ea2e9b",
            "a0e01551233b407490c2f262ba309e0c",
            "a0889e19f71f4177b4a2167b896c8d34",
            "284bc1d1daf248d1b941741dd9670ac6",
            "fa7a5b44a9c94e978923fa78d193e69f",
            "7349e46abf8744dc803a0db844506726",
            "c3d5c058b49e4bcaa10e02236ecfd5db",
            "c6e1327358e34c72aeb0c7d7be0fc3fc",
            "553817d8590145cca998cd6f6732a207",
            "55f20b4dcd71429796c5d42768810c4c",
            "d5ce4861e9ab471a9e5d8b65ed9b0524",
            "5dcd17bc2a444e6f9b33ed6fc78a903c",
            "b6ce381ab4e2469589090dc44602425f",
            "17e05b8bed7e4eccaf14a97e6799675e",
            "6926873ef8b24323a3098f90d431b31a",
            "76ec1a3e12c84775b0a3d92a59701b70",
            "6141a46053034ad9a97e19c2ac89cf74",
            "54319b051fc241c2b7502551045e05ba",
            "980e6bcf2fb1459fbdf2fa8da4af8ddc",
            "9937bffe59ab4155b026d7c5f15b7e44",
            "ae47c034f99d4328b9017f05726a1b2c",
            "217420879eeb4fb8a5bcb80adc87c8b7",
            "a36828b352e849948eed05d8026d1a66",
            "204225ce91c7498c81b54db42b0fce3a",
            "dca77f4cc1204dcf9e35c51bea55db47",
            "f5ce4c843bbe467498fdeb224c80cc08",
            "ea34450b6e3f4e9880abe13aea46a921",
            "37ecfa1c3db944ff953fc2cf61fd1f1a",
            "77426ef2bb6c4b0f9bb073c254cd05ac",
            "adce1a6a0f494b30baf7774f1c5c2e1c",
            "daed2bc9a6a24bd3ac63bfaba06ce5a5",
            "7d7a5690a84b42cb813587a9421c6285",
            "d7d69ba641c448b3a414a6480a7cac67",
            "fe6b3986943a48a18333e8d87e2975f0",
            "97305eb86f444b66bbedd98abf23f5fe",
            "5fbf54e0c43744418870346b52442888",
            "a005ebf8bc274480a083941d8cef5fc1",
            "73af456a7f7a4e519938b081fbbf0199",
            "07c447051aee4afca670039b8a6520a5",
            "712046ce094b4da9b529639c2c589972",
            "13314cd366554931ae47bb8e3309fac2",
            "97e382c5605d47bbb81ce48accb919e6",
            "f3265add4310461f8cfc58c5e8a34822",
            "e3aaf2ffe93043a097cc247191df02d4",
            "7c303a62c41343c68d45ab8c2c3d0104",
            "15c7aa11befb4a938220e8e62fd19543",
            "505076d5eb054884bb41baed086f584c",
            "aafd337217a84461b9d791977fa71167",
            "ca24d1da20a643bf9fedd7429120992f",
            "7daf45f480784ce59ce782f17d048f57",
            "9425907b5858485c9804a5cfcd1b5a74",
            "aeb9e4987f244cb0bc12ea0ebec6b442",
            "bd47a81e017942fa98d8166f359056e6",
            "ae59260627444ca382f0ef300bb9c49d"
          ]
        },
        "id": "KvMYBnWFdN2g",
        "outputId": "7b7b1415-6c8a-45bc-a200-26684a89c8f3"
      },
      "execution_count": 166,
      "outputs": [
        {
          "output_type": "display_data",
          "data": {
            "text/plain": [
              "Downloading (…)lve/main/config.json:   0%|          | 0.00/625 [00:00<?, ?B/s]"
            ],
            "application/vnd.jupyter.widget-view+json": {
              "version_major": 2,
              "version_minor": 0,
              "model_id": "127c2eb1d7614842bd3013cfad37ccd6"
            }
          },
          "metadata": {}
        },
        {
          "output_type": "display_data",
          "data": {
            "text/plain": [
              "Downloading model.safetensors:   0%|          | 0.00/714M [00:00<?, ?B/s]"
            ],
            "application/vnd.jupyter.widget-view+json": {
              "version_major": 2,
              "version_minor": 0,
              "model_id": "d5ce4861e9ab471a9e5d8b65ed9b0524"
            }
          },
          "metadata": {}
        },
        {
          "output_type": "stream",
          "name": "stderr",
          "text": [
            "Some weights of the model checkpoint at bert-base-multilingual-cased were not used when initializing BertModel: ['cls.predictions.bias', 'cls.predictions.transform.LayerNorm.bias', 'cls.predictions.transform.dense.weight', 'cls.seq_relationship.bias', 'cls.seq_relationship.weight', 'cls.predictions.transform.LayerNorm.weight', 'cls.predictions.transform.dense.bias']\n",
            "- This IS expected if you are initializing BertModel from the checkpoint of a model trained on another task or with another architecture (e.g. initializing a BertForSequenceClassification model from a BertForPreTraining model).\n",
            "- This IS NOT expected if you are initializing BertModel from the checkpoint of a model that you expect to be exactly identical (initializing a BertForSequenceClassification model from a BertForSequenceClassification model).\n"
          ]
        },
        {
          "output_type": "display_data",
          "data": {
            "text/plain": [
              "Downloading (…)okenizer_config.json:   0%|          | 0.00/29.0 [00:00<?, ?B/s]"
            ],
            "application/vnd.jupyter.widget-view+json": {
              "version_major": 2,
              "version_minor": 0,
              "model_id": "217420879eeb4fb8a5bcb80adc87c8b7"
            }
          },
          "metadata": {}
        },
        {
          "output_type": "display_data",
          "data": {
            "text/plain": [
              "Downloading (…)solve/main/vocab.txt:   0%|          | 0.00/996k [00:00<?, ?B/s]"
            ],
            "application/vnd.jupyter.widget-view+json": {
              "version_major": 2,
              "version_minor": 0,
              "model_id": "d7d69ba641c448b3a414a6480a7cac67"
            }
          },
          "metadata": {}
        },
        {
          "output_type": "display_data",
          "data": {
            "text/plain": [
              "Downloading (…)/main/tokenizer.json:   0%|          | 0.00/1.96M [00:00<?, ?B/s]"
            ],
            "application/vnd.jupyter.widget-view+json": {
              "version_major": 2,
              "version_minor": 0,
              "model_id": "e3aaf2ffe93043a097cc247191df02d4"
            }
          },
          "metadata": {}
        }
      ]
    },
    {
      "cell_type": "code",
      "source": [
        "bert_sen_1 = tokenizer(sen_1, return_tensors='pt')\n",
        "bert_sen_2 = tokenizer(sen_2, return_tensors='pt')\n",
        "bert_sen_3 = tokenizer(sen_3, return_tensors='pt')\n",
        "bert_sen_4 = tokenizer(sen_4, return_tensors='pt')\n",
        "bert_sen_5 = tokenizer(sen_5, return_tensors='pt')\n",
        "bert_sen_6 = tokenizer(sen_6, return_tensors='pt')"
      ],
      "metadata": {
        "id": "FBkOqRoMdoqn"
      },
      "execution_count": 171,
      "outputs": []
    },
    {
      "cell_type": "code",
      "source": [
        "sen_1_outputs = model(**bert_sen_1) #딕셔너리 형태로 넣는다\n",
        "sen_1_pooler_output = sen_1_outputs.pooler_output\n",
        "#sen_1_pooler_output  각 임베딩된 문자열의 기울기(가중치)\n",
        "\n",
        "sen_2_outputs = model(**bert_sen_2) #딕셔너리 형태로 넣는다\n",
        "sen_2_pooler_output = sen_2_outputs.pooler_output\n",
        "\n",
        "sen_3_outputs = model(**bert_sen_3) #딕셔너리 형태로 넣는다\n",
        "sen_3_pooler_output = sen_3_outputs.pooler_output\n",
        "\n",
        "sen_4_outputs = model(**bert_sen_4) #딕셔너리 형태로 넣는다\n",
        "sen_4_pooler_output = sen_4_outputs.pooler_output\n",
        "\n",
        "sen_5_outputs = model(**bert_sen_5) #딕셔너리 형태로 넣는다\n",
        "sen_5_pooler_output = sen_5_outputs.pooler_output\n",
        "\n",
        "sen_6_outputs = model(**bert_sen_6) #딕셔너리 형태로 넣는다\n",
        "sen_6_pooler_output = sen_6_outputs.pooler_output"
      ],
      "metadata": {
        "id": "9bkASA9-ecHP"
      },
      "execution_count": 175,
      "outputs": []
    },
    {
      "cell_type": "code",
      "source": [
        "from torch import nn"
      ],
      "metadata": {
        "id": "UIc74gpefV0a"
      },
      "execution_count": 176,
      "outputs": []
    },
    {
      "cell_type": "code",
      "source": [
        "cos_sim = nn.CosineSimilarity(dim=1, eps=1e-6)"
      ],
      "metadata": {
        "id": "0XN_7z3BfiTB"
      },
      "execution_count": 178,
      "outputs": []
    },
    {
      "cell_type": "code",
      "source": [
        "print(f'sen_1, sen_2 : 의미가 유사한 문장 간 유사도 계산(조사 생략): {cos_sim(sen_1_pooler_output, sen_2_pooler_output)}')\n",
        "print(f'sen_1, sen_3 : 의미가 유사한 문장 간 유사도 계산(순서 변경): {cos_sim(sen_1_pooler_output, sen_3_pooler_output)}')\n",
        "print(f'sen_2, sen_4 : 문장 내 단어를 임의의 단어로 치환한 문장과 원 문장 간 유사도 계산: {cos_sim(sen_2_pooler_output, sen_4_pooler_output)}')\n",
        "print(f'sen_1, sen_5 : 의미는 다르지만 비슷한 주제를 가지는 문장 간 유사도 계산: {cos_sim(sen_1_pooler_output,sen_5_pooler_output)}')\n",
        "print(f'sen_1, sen_6 : 의미가 서로 다른 문장 간 유사도 계산: {cos_sim(sen_1_pooler_output, sen_6_pooler_output)}')\n",
        "# 한글을 완벽하게 이해 못하고 더 많은 학습 데이터 필요하다 또한 유사도의 차이가 적지만 그 작은 수치가 실제 데이터와 많이 차이가 난다"
      ],
      "metadata": {
        "colab": {
          "base_uri": "https://localhost:8080/"
        },
        "id": "s5UQLviefpj7",
        "outputId": "276c01c3-8aca-465b-aaba-03b6a8fae5cc"
      },
      "execution_count": 180,
      "outputs": [
        {
          "output_type": "stream",
          "name": "stdout",
          "text": [
            "sen_1, sen_2 : 의미가 유사한 문장 간 유사도 계산(조사 생략): tensor([0.9901], grad_fn=<SumBackward1>)\n",
            "sen_1, sen_3 : 의미가 유사한 문장 간 유사도 계산(순서 변경): tensor([0.9972], grad_fn=<SumBackward1>)\n",
            "sen_2, sen_4 : 문장 내 단어를 임의의 단어로 치환한 문장과 원 문장 간 유사도 계산: tensor([0.9916], grad_fn=<SumBackward1>)\n",
            "sen_1, sen_5 : 의미는 다르지만 비슷한 주제를 가지는 문장 간 유사도 계산: tensor([0.9744], grad_fn=<SumBackward1>)\n",
            "sen_1, sen_6 : 의미가 서로 다른 문장 간 유사도 계산: tensor([0.9533], grad_fn=<SumBackward1>)\n"
          ]
        }
      ]
    },
    {
      "cell_type": "code",
      "source": [],
      "metadata": {
        "id": "hceHKdmxgCxY"
      },
      "execution_count": null,
      "outputs": []
    }
  ]
}